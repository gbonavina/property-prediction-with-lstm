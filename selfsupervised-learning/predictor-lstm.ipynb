{
 "cells": [
  {
   "cell_type": "code",
   "execution_count": 35,
   "id": "1109b84d",
   "metadata": {},
   "outputs": [
    {
     "data": {
      "text/plain": [
       "device(type='cuda')"
      ]
     },
     "execution_count": 35,
     "metadata": {},
     "output_type": "execute_result"
    }
   ],
   "source": [
    "import torch\n",
    "import torch.nn as nn \n",
    "import torch.nn.functional as F\n",
    "import torch.nn.utils.rnn as rnn_utils\n",
    "import pandas as pd\n",
    "import re\n",
    "import numpy as np\n",
    "\n",
    "device = torch.device('cuda' if torch.cuda.is_available() else 'cpu')\n",
    "device"
   ]
  },
  {
   "cell_type": "code",
   "execution_count": 36,
   "id": "f08895bd",
   "metadata": {},
   "outputs": [],
   "source": [
    "# fiz sem o bidirectional, não sei se é necessário para o meu teste simples \n",
    "class SMILESEncoder(torch.nn.Module):\n",
    "    def __init__(self, vocab_size, max_len, padding_idx, embedding_dim=64, dim=128, num_layers=1):\n",
    "        super(SMILESEncoder, self).__init__()\n",
    "\n",
    "        self.vocab_size = vocab_size\n",
    "        self.max_len = max_len\n",
    "        self.padding_idx = padding_idx\n",
    "        self.embedding_dim = embedding_dim\n",
    "        self.dim = dim\n",
    "        self.num_layers = num_layers\n",
    "\n",
    "        self.encoder = torch.nn.LSTM(self.embedding_dim, self.dim, self.num_layers, batch_first=True)\n",
    "\n",
    "    def forward(self, x, lengths):\n",
    "        batch_size = x.size(0)\n",
    "        seq_len = x.size(1)\n",
    "        \n",
    "        valid_lengths = torch.clamp(lengths, min=1, max=seq_len)\n",
    "        \n",
    "        # Mover lengths para a CPU antes de empacotar\n",
    "        lengths_on_cpu = valid_lengths.cpu()\n",
    "        \n",
    "        x_packed = rnn_utils.pack_padded_sequence(\n",
    "            x, lengths=lengths_on_cpu, batch_first=True, enforce_sorted=False\n",
    "        )\n",
    "\n",
    "        _, (hidden, _) = self.encoder(x_packed)\n",
    "        return hidden[-1]\n",
    "    \n",
    "class CLRNet(torch.nn.Module):\n",
    "    def __init__(self, vocab_size, max_len, padding_idx, embedding_dim=64, dim=128, num_layers=1):\n",
    "        super(CLRNet, self).__init__()\n",
    "\n",
    "        self.vocab_size = vocab_size\n",
    "        self.max_len = max_len\n",
    "        self.padding_idx = padding_idx\n",
    "        self.embedding_dim = embedding_dim\n",
    "        self.dim = dim\n",
    "        self.num_layers = num_layers\n",
    "\n",
    "        self.emb = torch.nn.Embedding(\n",
    "            num_embeddings=self.vocab_size, \n",
    "            padding_idx=self.padding_idx,\n",
    "            embedding_dim=self.embedding_dim, \n",
    "        )\n",
    "\n",
    "        # definindo as duas redes LSTM responsáveis pelo aprendizado contrastivo\n",
    "        self.SMILESEnc1 = SMILESEncoder(vocab_size=self.vocab_size, max_len=self.max_len, padding_idx=self.padding_idx,\n",
    "                                        embedding_dim=self.embedding_dim, dim=2*self.dim, num_layers=self.num_layers)\n",
    "        \n",
    "\n",
    "        self.SMILESEnc2 = SMILESEncoder(vocab_size=self.vocab_size, max_len=self.max_len, padding_idx=self.padding_idx,\n",
    "                                        embedding_dim=self.embedding_dim, dim=2*self.dim, num_layers=self.num_layers)\n",
    "        \n",
    "        # cabeça de projeção MLP\n",
    "        self.projection_head = torch.nn.Sequential(\n",
    "            torch.nn.Linear(2*self.dim, 4 * self.dim),\n",
    "            torch.nn.BatchNorm1d(4 * self.dim),\n",
    "            torch.nn.ReLU(inplace=True),\n",
    "            torch.nn.Linear(4*self.dim, 6*self.dim, bias=False)\n",
    "        )\n",
    "    \n",
    "    def forward(self, smi, random_smi, smi_len, random_smi_len):\n",
    "        x = self.emb(smi)\n",
    "        \n",
    "        x1 = self.emb(random_smi)\n",
    "        \n",
    "        enc1 = self.SMILESEnc1(x, smi_len)\n",
    "        enc2 = self.SMILESEnc2(x1, random_smi_len)\n",
    "        \n",
    "        return F.normalize(self.projection_head(enc1), dim=1), F.normalize(self.projection_head(enc2), dim=1)"
   ]
  },
  {
   "cell_type": "code",
   "execution_count": 37,
   "id": "c1af1d8c",
   "metadata": {},
   "outputs": [
    {
     "data": {
      "text/plain": [
       "CLRNet(\n",
       "  (emb): Embedding(82, 64, padding_idx=81)\n",
       "  (SMILESEnc1): SMILESEncoder(\n",
       "    (encoder): LSTM(64, 256, batch_first=True)\n",
       "  )\n",
       "  (SMILESEnc2): SMILESEncoder(\n",
       "    (encoder): LSTM(64, 256, batch_first=True)\n",
       "  )\n",
       "  (projection_head): Sequential(\n",
       "    (0): Linear(in_features=256, out_features=512, bias=True)\n",
       "    (1): BatchNorm1d(512, eps=1e-05, momentum=0.1, affine=True, track_running_stats=True)\n",
       "    (2): ReLU(inplace=True)\n",
       "    (3): Linear(in_features=512, out_features=768, bias=False)\n",
       "  )\n",
       ")"
      ]
     },
     "execution_count": 37,
     "metadata": {},
     "output_type": "execute_result"
    }
   ],
   "source": [
    "clr_model = CLRNet(vocab_size=82, max_len=24, padding_idx=81)\n",
    "clr_model.load_state_dict(torch.load(\"clr_model.pth\"))\n",
    "clr_model.to(device)"
   ]
  },
  {
   "cell_type": "code",
   "execution_count": 38,
   "id": "0ebc93d3",
   "metadata": {},
   "outputs": [
    {
     "data": {
      "text/html": [
       "<div>\n",
       "<style scoped>\n",
       "    .dataframe tbody tr th:only-of-type {\n",
       "        vertical-align: middle;\n",
       "    }\n",
       "\n",
       "    .dataframe tbody tr th {\n",
       "        vertical-align: top;\n",
       "    }\n",
       "\n",
       "    .dataframe thead th {\n",
       "        text-align: right;\n",
       "    }\n",
       "</style>\n",
       "<table border=\"1\" class=\"dataframe\">\n",
       "  <thead>\n",
       "    <tr style=\"text-align: right;\">\n",
       "      <th></th>\n",
       "      <th>SMILES_1</th>\n",
       "      <th>SMILES_2</th>\n",
       "      <th>INCHI_1</th>\n",
       "      <th>INCHI_2</th>\n",
       "      <th>Property_0</th>\n",
       "    </tr>\n",
       "  </thead>\n",
       "  <tbody>\n",
       "    <tr>\n",
       "      <th>0</th>\n",
       "      <td>OC1COC(=N)C1=O</td>\n",
       "      <td>O[C@H]1CO[C]([NH])C1=O</td>\n",
       "      <td>InChI=1S/C4H5NO3/c5-4-3(7)2(6)1-8-4/h2,5-6H,1H2</td>\n",
       "      <td>InChI=1S/C4H5NO3/c5-4-3(7)2(6)1-8-4/h2,5-6H,1H...</td>\n",
       "      <td>3.49649</td>\n",
       "    </tr>\n",
       "    <tr>\n",
       "      <th>1</th>\n",
       "      <td>CN(C)C(=O)C=O</td>\n",
       "      <td>CN(C)C(=O)C=O</td>\n",
       "      <td>InChI=1S/C4H7NO2/c1-5(2)4(7)3-6/h3H,1-2H3</td>\n",
       "      <td>InChI=1S/C4H7NO2/c1-5(2)4(7)3-6/h3H,1-2H3</td>\n",
       "      <td>3.92544</td>\n",
       "    </tr>\n",
       "    <tr>\n",
       "      <th>2</th>\n",
       "      <td>C1C2CC3N=COCC123</td>\n",
       "      <td>C1[C@H]2C[C@@H]3N=COC[C@]123</td>\n",
       "      <td>InChI=1S/C7H9NO/c1-5-2-7(5)3-9-4-8-6(1)7/h4-6H...</td>\n",
       "      <td>InChI=1S/C7H9NO/c1-5-2-7(5)3-9-4-8-6(1)7/h4-6H...</td>\n",
       "      <td>3.02103</td>\n",
       "    </tr>\n",
       "    <tr>\n",
       "      <th>3</th>\n",
       "      <td>OC1C2OC3CC2C13O</td>\n",
       "      <td>O[C@H]1[C@H]2O[C@@H]3C[C@H]2[C@]13O</td>\n",
       "      <td>InChI=1S/C6H8O3/c7-5-4-2-1-3(9-4)6(2,5)8/h2-5,...</td>\n",
       "      <td>InChI=1S/C6H8O3/c7-5-4-2-1-3(9-4)6(2,5)8/h2-5,...</td>\n",
       "      <td>2.52006</td>\n",
       "    </tr>\n",
       "    <tr>\n",
       "      <th>4</th>\n",
       "      <td>OC1C2C(=N)OCC12O</td>\n",
       "      <td>O[C@H]1[C@H]2[C]([NH])OC[C@@]12O</td>\n",
       "      <td>InChI=1S/C5H7NO3/c6-4-2-3(7)5(2,8)1-9-4/h2-3,6...</td>\n",
       "      <td>InChI=1S/C5H7NO3/c6-4-2-3(7)5(2,8)1-9-4/h2-3,6...</td>\n",
       "      <td>2.48587</td>\n",
       "    </tr>\n",
       "    <tr>\n",
       "      <th>...</th>\n",
       "      <td>...</td>\n",
       "      <td>...</td>\n",
       "      <td>...</td>\n",
       "      <td>...</td>\n",
       "      <td>...</td>\n",
       "    </tr>\n",
       "    <tr>\n",
       "      <th>133880</th>\n",
       "      <td>CC1=C(N)C(=NN1)C#C</td>\n",
       "      <td>Cc1c(N)c(n[nH]1)C#C</td>\n",
       "      <td>InChI=1S/C6H7N3/c1-3-5-6(7)4(2)8-9-5/h1H,7H2,2...</td>\n",
       "      <td>InChI=1S/C6H7N3/c1-3-5-6(7)4(2)8-9-5/h1H,7H2,2...</td>\n",
       "      <td>3.37027</td>\n",
       "    </tr>\n",
       "    <tr>\n",
       "      <th>133881</th>\n",
       "      <td>CC(C)(C)C(O)C(N)=O</td>\n",
       "      <td>CC(C)(C)[C@@H](O)C(=O)N</td>\n",
       "      <td>InChI=1S/C6H13NO2/c1-6(2,3)4(8)5(7)9/h4,8H,1-3...</td>\n",
       "      <td>InChI=1S/C6H13NO2/c1-6(2,3)4(8)5(7)9/h4,8H,1-3...</td>\n",
       "      <td>2.23826</td>\n",
       "    </tr>\n",
       "    <tr>\n",
       "      <th>133882</th>\n",
       "      <td>CC1C2C3C(N12)C3(C)O</td>\n",
       "      <td>C[C@H]1[C@H]2[C@H]3[C@@H](N12)[C@]3(C)O</td>\n",
       "      <td>InChI=1S/C7H11NO/c1-3-5-4-6(8(3)5)7(4,2)9/h3-6...</td>\n",
       "      <td>InChI=1S/C7H11NO/c1-3-5-4-6(8(3)5)7(4,2)9/h3-6...</td>\n",
       "      <td>3.77036</td>\n",
       "    </tr>\n",
       "    <tr>\n",
       "      <th>133883</th>\n",
       "      <td>C1CN1C1C2CC1C2</td>\n",
       "      <td>C1CN1[C@H]1[C@H]2C[C@@H]1C2</td>\n",
       "      <td>InChI=1S/C7H11N/c1-2-8(1)7-5-3-6(7)4-5/h5-7H,1...</td>\n",
       "      <td>InChI=1S/C7H11N/c1-2-8(1)7-5-3-6(7)4-5/h5-7H,1...</td>\n",
       "      <td>5.11764</td>\n",
       "    </tr>\n",
       "    <tr>\n",
       "      <th>133884</th>\n",
       "      <td>OC1=COC(=N)C(=N)O1</td>\n",
       "      <td>OC1=COC(=C([NH])O1)[NH]</td>\n",
       "      <td>InChI=1S/C4H4N2O3/c5-3-4(6)9-2(7)1-8-3/h1,5-7H</td>\n",
       "      <td>InChI=1S/C4H4N2O3/c5-3-4(6)9-2(7)1-8-3/h1,5-7H</td>\n",
       "      <td>3.08803</td>\n",
       "    </tr>\n",
       "  </tbody>\n",
       "</table>\n",
       "<p>133885 rows × 5 columns</p>\n",
       "</div>"
      ],
      "text/plain": [
       "                   SMILES_1                                 SMILES_2  \\\n",
       "0            OC1COC(=N)C1=O                   O[C@H]1CO[C]([NH])C1=O   \n",
       "1             CN(C)C(=O)C=O                            CN(C)C(=O)C=O   \n",
       "2          C1C2CC3N=COCC123             C1[C@H]2C[C@@H]3N=COC[C@]123   \n",
       "3           OC1C2OC3CC2C13O      O[C@H]1[C@H]2O[C@@H]3C[C@H]2[C@]13O   \n",
       "4          OC1C2C(=N)OCC12O         O[C@H]1[C@H]2[C]([NH])OC[C@@]12O   \n",
       "...                     ...                                      ...   \n",
       "133880   CC1=C(N)C(=NN1)C#C                      Cc1c(N)c(n[nH]1)C#C   \n",
       "133881   CC(C)(C)C(O)C(N)=O                  CC(C)(C)[C@@H](O)C(=O)N   \n",
       "133882  CC1C2C3C(N12)C3(C)O  C[C@H]1[C@H]2[C@H]3[C@@H](N12)[C@]3(C)O   \n",
       "133883       C1CN1C1C2CC1C2              C1CN1[C@H]1[C@H]2C[C@@H]1C2   \n",
       "133884   OC1=COC(=N)C(=N)O1                  OC1=COC(=C([NH])O1)[NH]   \n",
       "\n",
       "                                                  INCHI_1  \\\n",
       "0         InChI=1S/C4H5NO3/c5-4-3(7)2(6)1-8-4/h2,5-6H,1H2   \n",
       "1               InChI=1S/C4H7NO2/c1-5(2)4(7)3-6/h3H,1-2H3   \n",
       "2       InChI=1S/C7H9NO/c1-5-2-7(5)3-9-4-8-6(1)7/h4-6H...   \n",
       "3       InChI=1S/C6H8O3/c7-5-4-2-1-3(9-4)6(2,5)8/h2-5,...   \n",
       "4       InChI=1S/C5H7NO3/c6-4-2-3(7)5(2,8)1-9-4/h2-3,6...   \n",
       "...                                                   ...   \n",
       "133880  InChI=1S/C6H7N3/c1-3-5-6(7)4(2)8-9-5/h1H,7H2,2...   \n",
       "133881  InChI=1S/C6H13NO2/c1-6(2,3)4(8)5(7)9/h4,8H,1-3...   \n",
       "133882  InChI=1S/C7H11NO/c1-3-5-4-6(8(3)5)7(4,2)9/h3-6...   \n",
       "133883  InChI=1S/C7H11N/c1-2-8(1)7-5-3-6(7)4-5/h5-7H,1...   \n",
       "133884     InChI=1S/C4H4N2O3/c5-3-4(6)9-2(7)1-8-3/h1,5-7H   \n",
       "\n",
       "                                                  INCHI_2  Property_0  \n",
       "0       InChI=1S/C4H5NO3/c5-4-3(7)2(6)1-8-4/h2,5-6H,1H...     3.49649  \n",
       "1               InChI=1S/C4H7NO2/c1-5(2)4(7)3-6/h3H,1-2H3     3.92544  \n",
       "2       InChI=1S/C7H9NO/c1-5-2-7(5)3-9-4-8-6(1)7/h4-6H...     3.02103  \n",
       "3       InChI=1S/C6H8O3/c7-5-4-2-1-3(9-4)6(2,5)8/h2-5,...     2.52006  \n",
       "4       InChI=1S/C5H7NO3/c6-4-2-3(7)5(2,8)1-9-4/h2-3,6...     2.48587  \n",
       "...                                                   ...         ...  \n",
       "133880  InChI=1S/C6H7N3/c1-3-5-6(7)4(2)8-9-5/h1H,7H2,2...     3.37027  \n",
       "133881  InChI=1S/C6H13NO2/c1-6(2,3)4(8)5(7)9/h4,8H,1-3...     2.23826  \n",
       "133882  InChI=1S/C7H11NO/c1-3-5-4-6(8(3)5)7(4,2)9/h3-6...     3.77036  \n",
       "133883  InChI=1S/C7H11N/c1-2-8(1)7-5-3-6(7)4-5/h5-7H,1...     5.11764  \n",
       "133884     InChI=1S/C4H4N2O3/c5-3-4(6)9-2(7)1-8-3/h1,5-7H     3.08803  \n",
       "\n",
       "[133885 rows x 5 columns]"
      ]
     },
     "execution_count": 38,
     "metadata": {},
     "output_type": "execute_result"
    }
   ],
   "source": [
    "qm9 = pd.read_csv(\"../supervised-learning/QM9.csv\", index_col=0)\n",
    "qm9"
   ]
  },
  {
   "cell_type": "code",
   "execution_count": 39,
   "id": "4cbed333",
   "metadata": {},
   "outputs": [],
   "source": [
    "vocab = [\n",
    "    '#', '(', ')', '-', '/', '1', '2', '3', '4', '5', '6', '=', 'Br', 'C', 'Cl',\n",
    "    'F', 'I', 'In', 'N', 'O', 'P', 'S', '[17O]', '[AlH-]', '[AlH2-]', '[AlH3-]',\n",
    "    '[AsH3-]', '[BH-]', '[BH2-]', '[BH3-]', '[C-]', '[C@@H]', '[C@@]', '[C@H]',\n",
    "    '[C@]', '[CH-]', '[CH2-]', '[CH2]', '[CH]', '[C]', '[GaH-]', '[GaH2-]', '[GaH3-]',\n",
    "    '[InH-]', '[InH2-]', '[InH3-]', '[N+]', '[N-]', '[N@+]', '[N@@+]', '[N@@]', '[N@]',\n",
    "    '[NH+]', '[NH-]', '[NH2+]', '[NH3+]', '[NH]', '[N]', '[NbH3-]', '[O+]', '[O-]', '[O]',\n",
    "    '[PH+]', '[PH3-]', '[PH4-]', '[S+]', '[SbH3-]', '[Si]', '[TaH3-]', '[c-]', '[cH-]',\n",
    "    '[n+]', '[n-]', '[nH+]', '[nH]', '[o+]', '\\\\', 'c', 'n', 'o', ''\n",
    "]\n",
    "\n",
    "smiles_list = qm9['SMILES_1'].tolist()\n",
    "props = qm9['Property_0'].tolist()"
   ]
  },
  {
   "cell_type": "code",
   "execution_count": 40,
   "id": "45a0b8f8",
   "metadata": {},
   "outputs": [],
   "source": [
    "class BasicSmilesTokenizer(object):\n",
    "  def __init__(self):\n",
    "    self.regex_pattern = r\"\"\"(\\[[^\\]]+]|Br?|Cl?|Nb?|In?|Sb?|As|Ai|Ta|Ga|O|P|F|H|b|c|n|o|s|p|\\(|\\)|\\.|=|#|-|\\+|\\\\|\\/|:|~|@|\\?|>>?|\\*|\\$|\\%[0-9]{2}|[0-9])\"\"\"\n",
    "    self.regex = re.compile(self.regex_pattern)\n",
    "\n",
    "  def tokenize(self, text):\n",
    "    tokens = [token for token in self.regex.findall(text)]\n",
    "    return tokens\n",
    "\n",
    "TOKENIZER = BasicSmilesTokenizer()"
   ]
  },
  {
   "cell_type": "code",
   "execution_count": 41,
   "id": "de5d2d52",
   "metadata": {},
   "outputs": [],
   "source": [
    "def one_hot_encode(smiles_list, vocab):\n",
    "    token_to_index = {token: i for i, token in enumerate(vocab)}\n",
    "    one_hot_data = []\n",
    "\n",
    "    for smile in smiles_list:\n",
    "        tokens = TOKENIZER.tokenize(smile)\n",
    "        one_hot_seq = []\n",
    "\n",
    "        for token in tokens:\n",
    "            vec = np.zeros(len(vocab), dtype=np.float32)\n",
    "            idx = token_to_index[token]\n",
    "            vec[idx] = 1.0\n",
    "            one_hot_seq.append(vec)\n",
    "\n",
    "        one_hot_seq = np.array(one_hot_seq, dtype=np.float32)\n",
    "        one_hot_data.append(one_hot_seq)\n",
    "\n",
    "    return np.array(one_hot_data, dtype=object)"
   ]
  },
  {
   "cell_type": "code",
   "execution_count": 42,
   "id": "f4deadb6",
   "metadata": {},
   "outputs": [
    {
     "name": "stdout",
     "output_type": "stream",
     "text": [
      "[[0. 0. 0. ... 0. 0. 0.]\n",
      " [0. 0. 0. ... 0. 0. 0.]\n",
      " [0. 0. 0. ... 0. 0. 0.]\n",
      " ...\n",
      " [0. 0. 0. ... 0. 0. 0.]\n",
      " [0. 0. 0. ... 0. 0. 0.]\n",
      " [0. 0. 0. ... 0. 0. 0.]]\n"
     ]
    }
   ],
   "source": [
    "one_hot_encoded = one_hot_encode(smiles_list, vocab)\n",
    "\n",
    "print(one_hot_encoded[0])"
   ]
  },
  {
   "cell_type": "code",
   "execution_count": 43,
   "id": "58ba961d",
   "metadata": {},
   "outputs": [],
   "source": [
    "def one_hot_to_indices(one_hot_array):\n",
    "    return np.argmax(one_hot_array, axis=1)\n",
    "\n",
    "one_hot_encoded_idx = np.empty(one_hot_encoded.shape, dtype=object)\n",
    "\n",
    "indexed_sequences = [one_hot_to_indices(seq) for seq in one_hot_encoded]"
   ]
  },
  {
   "cell_type": "code",
   "execution_count": 44,
   "id": "6a7c33d5",
   "metadata": {},
   "outputs": [
    {
     "name": "stdout",
     "output_type": "stream",
     "text": [
      "Exemplo de train_data: (array([19, 11, 13, 13,  1, 11, 19,  2, 13,  5, 13, 13,  5, 13,  0, 13]), 2.76254)\n",
      "Exemplo de val_data: (array([18, 13,  1, 11, 19,  2, 13,  1, 11, 18,  2, 18, 13,  5, 13, 13,  5]), 3.87733)\n",
      "Exemplo de test_data: (array([15, 13,  5, 11, 13, 13,  1, 11, 18,  2, 13,  1, 15,  2, 11, 18, 19,\n",
      "        5]), 3.29185)\n"
     ]
    }
   ],
   "source": [
    "from sklearn.model_selection import train_test_split\n",
    "\n",
    "X = indexed_sequences\n",
    "y = list(map(float, props))\n",
    "\n",
    "# Primeiro split: treino + temp (validação + teste)\n",
    "X_train, X_temp, y_train, y_temp = train_test_split(X, y, test_size=0.5,  random_state=24)\n",
    "# Segundo split: validação + teste\n",
    "X_val, X_test, y_val, y_test = train_test_split(X_temp, y_temp, test_size=0.5, random_state=42)\n",
    "\n",
    "train_data = list(zip(X_train, y_train))\n",
    "val_data   = list(zip(X_val, y_val))\n",
    "test_data  = list(zip(X_test, y_test))\n",
    "\n",
    "print(\"Exemplo de train_data:\", train_data[0])\n",
    "print(\"Exemplo de val_data:\", val_data[0])\n",
    "print(\"Exemplo de test_data:\", test_data[0])"
   ]
  },
  {
   "cell_type": "code",
   "execution_count": 45,
   "id": "138ab269",
   "metadata": {},
   "outputs": [],
   "source": [
    "from sklearn.preprocessing import MinMaxScaler\n",
    "\n",
    "X_train_filtered = [xi for xi, yi in zip(X_train, y_train) if yi <= 20]\n",
    "y_train_filtered = [yi for xi, yi in zip(X_train, y_train) if yi <= 20]\n",
    "X_val_filtered = [xi for xi, yi in zip(X_val, y_val) if yi <= 20]\n",
    "y_val_filtered = [yi for xi, yi in zip(X_val, y_val) if yi <= 20]\n",
    "X_test_filtered = [xi for xi, yi in zip(X_test, y_test) if yi <= 20]\n",
    "y_test_filtered = [yi for xi, yi in zip(X_test, y_test) if yi <= 20]\n",
    "\n",
    "\n",
    "\n",
    "# Normaliza apenas os dados filtrados\n",
    "scaler = MinMaxScaler()\n",
    "y_train_scaled = scaler.fit_transform(np.array(y_train_filtered).reshape(-1, 1)).flatten()\n",
    "y_val_scaled   = scaler.transform(np.array(y_val_filtered).reshape(-1, 1)).flatten()\n",
    "y_test_scaled  = scaler.transform(np.array(y_test_filtered).reshape(-1, 1)).flatten()\n",
    "\n",
    "train_data = list(zip(X_train_filtered, y_train_scaled))\n",
    "val_data   = list(zip(X_val_filtered, y_val_scaled))\n",
    "test_data  = list(zip(X_test_filtered, y_test_scaled))"
   ]
  },
  {
   "cell_type": "code",
   "execution_count": 46,
   "id": "f232d5f0",
   "metadata": {},
   "outputs": [],
   "source": [
    "from torch.nn.utils.rnn import pad_sequence\n",
    "\n",
    "padding_idx = 80\n",
    "def collate_fn(batch):\n",
    "  # print(batch)\n",
    "  sequences = [seq for seq, _ in batch]\n",
    "  labels = [label for _, label in batch]\n",
    "  lengths = [len(seq) for seq in sequences]\n",
    "\n",
    "  sequences_tensors = [torch.tensor(seq, dtype=torch.long) for seq in sequences]\n",
    "\n",
    "  padded = pad_sequence(sequences_tensors, batch_first=True, padding_value=padding_idx)\n",
    "\n",
    "  return padded, torch.tensor(lengths), torch.tensor(labels, dtype=torch.float32)\n"
   ]
  },
  {
   "cell_type": "code",
   "execution_count": 47,
   "id": "bbd9b87e",
   "metadata": {},
   "outputs": [],
   "source": [
    "from torch.utils.data import DataLoader\n",
    "\n",
    "train_dataloader = DataLoader(train_data, batch_size=32, collate_fn=collate_fn)\n",
    "val_dataloader = DataLoader(val_data, batch_size=32, collate_fn=collate_fn)"
   ]
  },
  {
   "cell_type": "code",
   "execution_count": 48,
   "id": "16e09cc2",
   "metadata": {},
   "outputs": [],
   "source": [
    "class LSTM(nn.Module):\n",
    "    def __init__(self, clr_model, hidden_dim, num_layers, dropout=0.3):\n",
    "        super().__init__()\n",
    "        self.embedding = clr_model.emb\n",
    "        self.encoder   = clr_model.SMILESEnc1\n",
    "        pretrained_dim = clr_model.SMILESEnc1.dim\n",
    "        self.fc = nn.Linear(pretrained_dim, 1)\n",
    "\n",
    "    def forward(self, x, lengths):\n",
    "       emb = self.embedding(x)             \n",
    "       enc_out = self.encoder(emb, lengths)\n",
    "       return self.fc(enc_out).squeeze(1)\n"
   ]
  },
  {
   "cell_type": "code",
   "execution_count": 49,
   "id": "cd4184e1",
   "metadata": {},
   "outputs": [],
   "source": [
    "def train_model(model, train_loader, val_loader, num_epochs, criterion, optimizer, device):\n",
    "    train_losses = []\n",
    "    val_losses = []\n",
    "    best_val = float('inf')\n",
    "\n",
    "    model.to(device)\n",
    "    for epoch in range(num_epochs):\n",
    "        model.train()\n",
    "        total_loss = 0.0\n",
    "        for batch_x, lengths, batch_y in train_loader:\n",
    "            batch_x = batch_x.to(device)\n",
    "            lengths = lengths.to(device)\n",
    "            batch_y = batch_y.to(device)\n",
    "            optimizer.zero_grad()\n",
    "            preds = model(batch_x, lengths)\n",
    "            loss = criterion(preds, batch_y)\n",
    "            loss.backward()\n",
    "            optimizer.step()\n",
    "            total_loss += loss.item()\n",
    "        train_losses.append(total_loss)\n",
    "\n",
    "        # Validação\n",
    "        model.eval()\n",
    "        val_loss = 0.0\n",
    "        with torch.no_grad():\n",
    "            for batch_x, lengths, batch_y in val_loader:\n",
    "                batch_x = batch_x.to(device)\n",
    "                lengths = lengths.to(device)\n",
    "                batch_y = batch_y.to(device)\n",
    "                preds = model(batch_x, lengths)\n",
    "                loss = criterion(preds, batch_y)\n",
    "                val_loss += loss.item()\n",
    "            val_losses.append(val_loss)\n",
    "        print(f\"Epoch {epoch+1}/{num_epochs} — Train Loss: {total_loss:.4f} — Val Loss: {val_loss:.4f}\")\n",
    "\n",
    "        if val_loss < best_val:\n",
    "                    best_val = val_loss\n",
    "                    torch.save(model.state_dict(), \"best_lstm_predictor.pth\")\n",
    "\n",
    "    return train_losses, val_losses"
   ]
  },
  {
   "cell_type": "code",
   "execution_count": 50,
   "id": "9fec7290",
   "metadata": {},
   "outputs": [
    {
     "name": "stderr",
     "output_type": "stream",
     "text": [
      "[I 2025-06-05 12:04:48,549] A new study created in memory with name: no-name-0d647b8b-0b66-42bf-a68f-40165ff5a078\n",
      "  0%|          | 0/20 [00:00<?, ?it/s]/tmp/ipykernel_72123/1087774975.py:10: FutureWarning: suggest_loguniform has been deprecated in v3.0.0. This feature will be removed in v6.0.0. See https://github.com/optuna/optuna/releases/tag/v3.0.0. Use suggest_float(..., log=True) instead.\n",
      "  lr = trial.suggest_loguniform('lr', 1e-5, 1e-2)\n",
      "/tmp/ipykernel_72123/1087774975.py:11: FutureWarning: suggest_loguniform has been deprecated in v3.0.0. This feature will be removed in v6.0.0. See https://github.com/optuna/optuna/releases/tag/v3.0.0. Use suggest_float(..., log=True) instead.\n",
      "  weight_decay = trial.suggest_loguniform('weight_decay', 1e-6, 1e-2)\n",
      "Best trial: 0. Best value: 1.71747:   5%|▌         | 1/20 [00:31<10:04, 31.79s/it]"
     ]
    },
    {
     "name": "stdout",
     "output_type": "stream",
     "text": [
      "[I 2025-06-05 12:05:20,339] Trial 0 finished with value: 1.71747165164561 and parameters: {'hidden_dim': 64, 'num_layers': 2, 'dropout': 0.11383630045188496, 'lr': 1.3376655069858289e-05, 'weight_decay': 1.3444565529168298e-05}. Best is trial 0 with value: 1.71747165164561.\n"
     ]
    },
    {
     "name": "stderr",
     "output_type": "stream",
     "text": [
      "Best trial: 1. Best value: 1.70604:  10%|█         | 2/20 [01:02<09:24, 31.39s/it]"
     ]
    },
    {
     "name": "stdout",
     "output_type": "stream",
     "text": [
      "[I 2025-06-05 12:05:51,444] Trial 1 finished with value: 1.7060408051183913 and parameters: {'hidden_dim': 512, 'num_layers': 3, 'dropout': 0.3104145242176811, 'lr': 2.3136184759842405e-05, 'weight_decay': 9.315491314754458e-05}. Best is trial 1 with value: 1.7060408051183913.\n"
     ]
    },
    {
     "name": "stderr",
     "output_type": "stream",
     "text": [
      "Best trial: 1. Best value: 1.70604:  15%|█▌        | 3/20 [01:34<08:53, 31.36s/it]"
     ]
    },
    {
     "name": "stdout",
     "output_type": "stream",
     "text": [
      "[I 2025-06-05 12:06:22,766] Trial 2 finished with value: 2.8618220313219354 and parameters: {'hidden_dim': 256, 'num_layers': 7, 'dropout': 0.2957592506589239, 'lr': 0.002849628450014822, 'weight_decay': 0.00021594760611594655}. Best is trial 1 with value: 1.7060408051183913.\n"
     ]
    },
    {
     "name": "stderr",
     "output_type": "stream",
     "text": [
      "Best trial: 1. Best value: 1.70604:  20%|██        | 4/20 [01:46<06:23, 23.95s/it]"
     ]
    },
    {
     "name": "stdout",
     "output_type": "stream",
     "text": [
      "[I 2025-06-05 12:06:35,361] Trial 3 pruned. \n"
     ]
    },
    {
     "name": "stderr",
     "output_type": "stream",
     "text": [
      "Best trial: 1. Best value: 1.70604:  25%|██▌       | 5/20 [01:59<04:57, 19.86s/it]"
     ]
    },
    {
     "name": "stdout",
     "output_type": "stream",
     "text": [
      "[I 2025-06-05 12:06:47,962] Trial 4 pruned. \n"
     ]
    },
    {
     "name": "stderr",
     "output_type": "stream",
     "text": [
      "Best trial: 1. Best value: 1.70604:  30%|███       | 6/20 [02:11<04:02, 17.31s/it]"
     ]
    },
    {
     "name": "stdout",
     "output_type": "stream",
     "text": [
      "[I 2025-06-05 12:07:00,317] Trial 5 pruned. \n"
     ]
    },
    {
     "name": "stderr",
     "output_type": "stream",
     "text": [
      "Best trial: 1. Best value: 1.70604:  35%|███▌      | 7/20 [02:23<03:23, 15.63s/it]"
     ]
    },
    {
     "name": "stdout",
     "output_type": "stream",
     "text": [
      "[I 2025-06-05 12:07:12,510] Trial 6 pruned. \n"
     ]
    },
    {
     "name": "stderr",
     "output_type": "stream",
     "text": [
      "Best trial: 1. Best value: 1.70604:  40%|████      | 8/20 [02:36<02:54, 14.57s/it]"
     ]
    },
    {
     "name": "stdout",
     "output_type": "stream",
     "text": [
      "[I 2025-06-05 12:07:24,807] Trial 7 pruned. \n"
     ]
    },
    {
     "name": "stderr",
     "output_type": "stream",
     "text": [
      "Best trial: 8. Best value: 1.25601:  45%|████▌     | 9/20 [03:07<03:36, 19.65s/it]"
     ]
    },
    {
     "name": "stdout",
     "output_type": "stream",
     "text": [
      "[I 2025-06-05 12:07:55,611] Trial 8 finished with value: 1.2560090134502389 and parameters: {'hidden_dim': 128, 'num_layers': 4, 'dropout': 0.11169866259272572, 'lr': 0.004127607787913915, 'weight_decay': 3.895763188168819e-06}. Best is trial 8 with value: 1.2560090134502389.\n"
     ]
    },
    {
     "name": "stderr",
     "output_type": "stream",
     "text": [
      "Best trial: 9. Best value: 0.983838:  50%|█████     | 10/20 [03:37<03:51, 23.10s/it]"
     ]
    },
    {
     "name": "stdout",
     "output_type": "stream",
     "text": [
      "[I 2025-06-05 12:08:26,452] Trial 9 finished with value: 0.9838376780244289 and parameters: {'hidden_dim': 256, 'num_layers': 2, 'dropout': 0.11889048256775214, 'lr': 0.0007077055453512092, 'weight_decay': 3.271697869711386e-06}. Best is trial 9 with value: 0.9838376780244289.\n"
     ]
    },
    {
     "name": "stderr",
     "output_type": "stream",
     "text": [
      "Best trial: 9. Best value: 0.983838:  55%|█████▌    | 11/20 [04:08<03:49, 25.46s/it]"
     ]
    },
    {
     "name": "stdout",
     "output_type": "stream",
     "text": [
      "[I 2025-06-05 12:08:57,256] Trial 10 finished with value: 1.2107237924356014 and parameters: {'hidden_dim': 256, 'num_layers': 1, 'dropout': 0.6417747636524853, 'lr': 0.0011275553692596777, 'weight_decay': 2.5314498565904807e-05}. Best is trial 9 with value: 0.9838376780244289.\n"
     ]
    },
    {
     "name": "stderr",
     "output_type": "stream",
     "text": [
      "Best trial: 9. Best value: 0.983838:  60%|██████    | 12/20 [04:39<03:37, 27.22s/it]"
     ]
    },
    {
     "name": "stdout",
     "output_type": "stream",
     "text": [
      "[I 2025-06-05 12:09:28,515] Trial 11 finished with value: 1.1991953117249068 and parameters: {'hidden_dim': 256, 'num_layers': 1, 'dropout': 0.6448394333777412, 'lr': 0.0010806316826144696, 'weight_decay': 2.3518150863571528e-05}. Best is trial 9 with value: 0.9838376780244289.\n"
     ]
    },
    {
     "name": "stderr",
     "output_type": "stream",
     "text": [
      "Best trial: 9. Best value: 0.983838:  65%|██████▌   | 13/20 [05:10<03:17, 28.26s/it]"
     ]
    },
    {
     "name": "stdout",
     "output_type": "stream",
     "text": [
      "[I 2025-06-05 12:09:59,163] Trial 12 finished with value: 1.0827091907849535 and parameters: {'hidden_dim': 256, 'num_layers': 2, 'dropout': 0.6969341518776528, 'lr': 0.0009643938179051721, 'weight_decay': 6.4538457419072415e-06}. Best is trial 9 with value: 0.9838376780244289.\n"
     ]
    },
    {
     "name": "stderr",
     "output_type": "stream",
     "text": [
      "Best trial: 9. Best value: 0.983838:  70%|███████   | 14/20 [05:41<02:54, 29.10s/it]"
     ]
    },
    {
     "name": "stdout",
     "output_type": "stream",
     "text": [
      "[I 2025-06-05 12:10:30,196] Trial 13 finished with value: 0.9842530942260055 and parameters: {'hidden_dim': 256, 'num_layers': 3, 'dropout': 0.538649681200234, 'lr': 0.0008610232211743119, 'weight_decay': 1.1274253351703967e-06}. Best is trial 9 with value: 0.9838376780244289.\n"
     ]
    },
    {
     "name": "stderr",
     "output_type": "stream",
     "text": [
      "Best trial: 14. Best value: 0.862018:  75%|███████▌  | 15/20 [06:12<02:27, 29.59s/it]"
     ]
    },
    {
     "name": "stdout",
     "output_type": "stream",
     "text": [
      "[I 2025-06-05 12:11:00,933] Trial 14 finished with value: 0.8620177976845298 and parameters: {'hidden_dim': 512, 'num_layers': 3, 'dropout': 0.5285415054476591, 'lr': 0.0003635565767895928, 'weight_decay': 1.0008247658359925e-06}. Best is trial 14 with value: 0.8620177976845298.\n"
     ]
    },
    {
     "name": "stderr",
     "output_type": "stream",
     "text": [
      "Best trial: 14. Best value: 0.862018:  80%|████████  | 16/20 [06:25<01:37, 24.49s/it]"
     ]
    },
    {
     "name": "stdout",
     "output_type": "stream",
     "text": [
      "[I 2025-06-05 12:11:13,590] Trial 15 pruned. \n"
     ]
    },
    {
     "name": "stderr",
     "output_type": "stream",
     "text": [
      "Best trial: 14. Best value: 0.862018:  85%|████████▌ | 17/20 [06:37<01:02, 20.92s/it]"
     ]
    },
    {
     "name": "stdout",
     "output_type": "stream",
     "text": [
      "[I 2025-06-05 12:11:26,209] Trial 16 pruned. \n"
     ]
    },
    {
     "name": "stderr",
     "output_type": "stream",
     "text": [
      "Best trial: 14. Best value: 0.862018:  90%|█████████ | 18/20 [06:50<00:36, 18.44s/it]"
     ]
    },
    {
     "name": "stdout",
     "output_type": "stream",
     "text": [
      "[I 2025-06-05 12:11:38,863] Trial 17 pruned. \n"
     ]
    },
    {
     "name": "stderr",
     "output_type": "stream",
     "text": [
      "Best trial: 14. Best value: 0.862018:  95%|█████████▌| 19/20 [07:02<00:16, 16.64s/it]"
     ]
    },
    {
     "name": "stdout",
     "output_type": "stream",
     "text": [
      "[I 2025-06-05 12:11:51,307] Trial 18 pruned. \n"
     ]
    },
    {
     "name": "stderr",
     "output_type": "stream",
     "text": [
      "Best trial: 14. Best value: 0.862018: 100%|██████████| 20/20 [07:14<00:00, 21.74s/it]"
     ]
    },
    {
     "name": "stdout",
     "output_type": "stream",
     "text": [
      "[I 2025-06-05 12:12:03,387] Trial 19 pruned. \n",
      "Melhores hiperparâmetros: {'hidden_dim': 512, 'num_layers': 3, 'dropout': 0.5285415054476591, 'lr': 0.0003635565767895928, 'weight_decay': 1.0008247658359925e-06}\n"
     ]
    },
    {
     "name": "stderr",
     "output_type": "stream",
     "text": [
      "\n"
     ]
    }
   ],
   "source": [
    "import optuna\n",
    "from optuna.exceptions import TrialPruned\n",
    "\n",
    "device = torch.device(\"cuda\" if torch.cuda.is_available() else \"cpu\")\n",
    "\n",
    "def objective(trial):\n",
    "    hidden_dim = trial.suggest_categorical('hidden_dim', [64, 128, 256, 512])\n",
    "    num_layers = trial.suggest_int('num_layers', 1, 8)\n",
    "    dropout = trial.suggest_float('dropout', 0.1, 0.7)\n",
    "    lr = trial.suggest_loguniform('lr', 1e-5, 1e-2)\n",
    "    weight_decay = trial.suggest_loguniform('weight_decay', 1e-6, 1e-2)\n",
    "\n",
    "    lstm_model = LSTM(\n",
    "        clr_model=clr_model,\n",
    "        hidden_dim=hidden_dim,\n",
    "        num_layers=num_layers,\n",
    "        dropout=dropout\n",
    "    ).to(device)\n",
    "\n",
    "    optimizer = torch.optim.Adam(lstm_model.parameters(), lr=lr, weight_decay=weight_decay)\n",
    "    loss_function = nn.MSELoss(reduction='mean')\n",
    "\n",
    "    train_losses = []\n",
    "    val_losses = []\n",
    "\n",
    "    num_epochs = 10\n",
    "    for epoch in range(num_epochs):\n",
    "        lstm_model.train()\n",
    "        total_loss = 0.0\n",
    "        for batch_x, lengths, batch_y in train_dataloader:\n",
    "            batch_x = batch_x.to(device)\n",
    "            lengths = lengths.to(device)\n",
    "            batch_y = batch_y.to(device)\n",
    "            optimizer.zero_grad()\n",
    "            preds = lstm_model(batch_x, lengths)\n",
    "            loss = loss_function(preds, batch_y)\n",
    "            loss.backward()\n",
    "            optimizer.step()\n",
    "            total_loss += loss.item()\n",
    "        train_losses.append(total_loss)\n",
    "\n",
    "        # Validação\n",
    "        lstm_model.eval()\n",
    "        val_loss = 0.0\n",
    "        with torch.no_grad():\n",
    "            for batch_x, lengths, batch_y in val_dataloader:\n",
    "                batch_x = batch_x.to(device)\n",
    "                lengths = lengths.to(device)\n",
    "                batch_y = batch_y.to(device)\n",
    "                preds = lstm_model(batch_x, lengths)\n",
    "                loss = loss_function(preds, batch_y)\n",
    "                val_loss += loss.item()\n",
    "        val_losses.append(val_loss)\n",
    "\n",
    "        trial.report(val_loss, epoch)\n",
    "\n",
    "        if trial.should_prune():\n",
    "            raise TrialPruned()\n",
    "\n",
    "    return val_losses[-1]\n",
    "\n",
    "pruner = optuna.pruners.MedianPruner(n_startup_trials=3, n_warmup_steps=3)\n",
    "study  = optuna.create_study(direction='minimize', pruner=pruner)\n",
    "study.optimize(objective,\n",
    "               n_trials=20,        \n",
    "               n_jobs=1,\n",
    "               show_progress_bar=True)         \n",
    "print(\"Melhores hiperparâmetros:\", study.best_params)"
   ]
  },
  {
   "cell_type": "code",
   "execution_count": 51,
   "id": "840dab6d",
   "metadata": {},
   "outputs": [],
   "source": [
    "lstm_model = LSTM(clr_model=clr_model,hidden_dim=study.best_params[\"hidden_dim\"], num_layers=study.best_params['num_layers'], dropout=study.best_params['dropout'])\n",
    "\n",
    "criterion = nn.MSELoss(reduction='mean')\n",
    "optimizer = torch.optim.Adam(lstm_model.parameters(), lr=study.best_params['lr'], weight_decay=study.best_params['weight_decay'])"
   ]
  },
  {
   "cell_type": "code",
   "execution_count": 52,
   "id": "6e53e799",
   "metadata": {},
   "outputs": [
    {
     "name": "stdout",
     "output_type": "stream",
     "text": [
      "Epoch 1/300 — Train Loss: 3.2086 — Val Loss: 1.2840\n",
      "Epoch 2/300 — Train Loss: 2.5948 — Val Loss: 1.2109\n",
      "Epoch 3/300 — Train Loss: 2.4402 — Val Loss: 1.1564\n",
      "Epoch 4/300 — Train Loss: 2.3163 — Val Loss: 1.1192\n",
      "Epoch 5/300 — Train Loss: 2.2177 — Val Loss: 1.0892\n",
      "Epoch 6/300 — Train Loss: 2.1388 — Val Loss: 1.0636\n",
      "Epoch 7/300 — Train Loss: 2.0727 — Val Loss: 1.0401\n",
      "Epoch 8/300 — Train Loss: 2.0137 — Val Loss: 1.0160\n",
      "Epoch 9/300 — Train Loss: 1.9584 — Val Loss: 0.9913\n",
      "Epoch 10/300 — Train Loss: 1.9051 — Val Loss: 0.9681\n",
      "Epoch 11/300 — Train Loss: 1.8533 — Val Loss: 0.9440\n",
      "Epoch 12/300 — Train Loss: 1.8029 — Val Loss: 0.9203\n",
      "Epoch 13/300 — Train Loss: 1.7541 — Val Loss: 0.8973\n",
      "Epoch 14/300 — Train Loss: 1.7069 — Val Loss: 0.8763\n",
      "Epoch 15/300 — Train Loss: 1.6609 — Val Loss: 0.8553\n",
      "Epoch 16/300 — Train Loss: 1.6158 — Val Loss: 0.8367\n",
      "Epoch 17/300 — Train Loss: 1.5723 — Val Loss: 0.8194\n",
      "Epoch 18/300 — Train Loss: 1.5316 — Val Loss: 0.8054\n",
      "Epoch 19/300 — Train Loss: 1.4944 — Val Loss: 0.7932\n",
      "Epoch 20/300 — Train Loss: 1.4614 — Val Loss: 0.7837\n",
      "Epoch 21/300 — Train Loss: 1.4313 — Val Loss: 0.7763\n",
      "Epoch 22/300 — Train Loss: 1.4023 — Val Loss: 0.7661\n",
      "Epoch 23/300 — Train Loss: 1.3738 — Val Loss: 0.7560\n",
      "Epoch 24/300 — Train Loss: 1.3464 — Val Loss: 0.7445\n",
      "Epoch 25/300 — Train Loss: 1.3205 — Val Loss: 0.7358\n",
      "Epoch 26/300 — Train Loss: 1.2969 — Val Loss: 0.7267\n",
      "Epoch 27/300 — Train Loss: 1.2745 — Val Loss: 0.7183\n",
      "Epoch 28/300 — Train Loss: 1.2536 — Val Loss: 0.7111\n",
      "Epoch 29/300 — Train Loss: 1.2338 — Val Loss: 0.7050\n",
      "Epoch 30/300 — Train Loss: 1.2154 — Val Loss: 0.7003\n",
      "Epoch 31/300 — Train Loss: 1.1974 — Val Loss: 0.6961\n",
      "Epoch 32/300 — Train Loss: 1.1800 — Val Loss: 0.6911\n",
      "Epoch 33/300 — Train Loss: 1.1635 — Val Loss: 0.6860\n",
      "Epoch 34/300 — Train Loss: 1.1477 — Val Loss: 0.6817\n",
      "Epoch 35/300 — Train Loss: 1.1327 — Val Loss: 0.6759\n",
      "Epoch 36/300 — Train Loss: 1.1182 — Val Loss: 0.6707\n",
      "Epoch 37/300 — Train Loss: 1.1039 — Val Loss: 0.6640\n",
      "Epoch 38/300 — Train Loss: 1.0908 — Val Loss: 0.6585\n",
      "Epoch 39/300 — Train Loss: 1.0779 — Val Loss: 0.6523\n",
      "Epoch 40/300 — Train Loss: 1.0644 — Val Loss: 0.6455\n",
      "Epoch 41/300 — Train Loss: 1.0511 — Val Loss: 0.6378\n",
      "Epoch 42/300 — Train Loss: 1.0385 — Val Loss: 0.6305\n",
      "Epoch 43/300 — Train Loss: 1.0262 — Val Loss: 0.6212\n",
      "Epoch 44/300 — Train Loss: 1.0141 — Val Loss: 0.6132\n",
      "Epoch 45/300 — Train Loss: 1.0025 — Val Loss: 0.6074\n",
      "Epoch 46/300 — Train Loss: 0.9913 — Val Loss: 0.6031\n",
      "Epoch 47/300 — Train Loss: 0.9807 — Val Loss: 0.5985\n",
      "Epoch 48/300 — Train Loss: 0.9703 — Val Loss: 0.5953\n",
      "Epoch 49/300 — Train Loss: 0.9604 — Val Loss: 0.5923\n",
      "Epoch 50/300 — Train Loss: 0.9507 — Val Loss: 0.5897\n",
      "Epoch 51/300 — Train Loss: 0.9416 — Val Loss: 0.5881\n",
      "Epoch 52/300 — Train Loss: 0.9327 — Val Loss: 0.5844\n",
      "Epoch 53/300 — Train Loss: 0.9242 — Val Loss: 0.5831\n",
      "Epoch 54/300 — Train Loss: 0.9160 — Val Loss: 0.5811\n",
      "Epoch 55/300 — Train Loss: 0.9079 — Val Loss: 0.5787\n",
      "Epoch 56/300 — Train Loss: 0.9001 — Val Loss: 0.5776\n",
      "Epoch 57/300 — Train Loss: 0.8927 — Val Loss: 0.5756\n",
      "Epoch 58/300 — Train Loss: 0.8851 — Val Loss: 0.5749\n",
      "Epoch 59/300 — Train Loss: 0.8780 — Val Loss: 0.5737\n",
      "Epoch 60/300 — Train Loss: 0.8710 — Val Loss: 0.5743\n",
      "Epoch 61/300 — Train Loss: 0.8635 — Val Loss: 0.5740\n",
      "Epoch 62/300 — Train Loss: 0.8568 — Val Loss: 0.5739\n",
      "Epoch 63/300 — Train Loss: 0.8507 — Val Loss: 0.5749\n",
      "Epoch 64/300 — Train Loss: 0.8482 — Val Loss: 0.5753\n",
      "Epoch 65/300 — Train Loss: 0.8475 — Val Loss: 0.5661\n",
      "Epoch 66/300 — Train Loss: 0.8315 — Val Loss: 0.5742\n",
      "Epoch 67/300 — Train Loss: 0.8265 — Val Loss: 0.5719\n",
      "Epoch 68/300 — Train Loss: 0.8216 — Val Loss: 0.5723\n",
      "Epoch 69/300 — Train Loss: 0.8158 — Val Loss: 0.5716\n",
      "Epoch 70/300 — Train Loss: 0.8100 — Val Loss: 0.5740\n",
      "Epoch 71/300 — Train Loss: 0.8047 — Val Loss: 0.5746\n",
      "Epoch 72/300 — Train Loss: 0.8003 — Val Loss: 0.5739\n",
      "Epoch 73/300 — Train Loss: 0.7977 — Val Loss: 0.5745\n",
      "Epoch 74/300 — Train Loss: 0.7904 — Val Loss: 0.5725\n",
      "Epoch 75/300 — Train Loss: 0.7868 — Val Loss: 0.5741\n",
      "Epoch 76/300 — Train Loss: 0.7832 — Val Loss: 0.5723\n",
      "Epoch 77/300 — Train Loss: 0.7784 — Val Loss: 0.5761\n",
      "Epoch 78/300 — Train Loss: 0.7753 — Val Loss: 0.5732\n",
      "Epoch 79/300 — Train Loss: 0.7885 — Val Loss: 0.5689\n",
      "Epoch 80/300 — Train Loss: 0.7666 — Val Loss: 0.5686\n",
      "Epoch 81/300 — Train Loss: 0.7637 — Val Loss: 0.5714\n",
      "Epoch 82/300 — Train Loss: 0.7600 — Val Loss: 0.5737\n",
      "Epoch 83/300 — Train Loss: 0.7567 — Val Loss: 0.5689\n",
      "Epoch 84/300 — Train Loss: 0.7586 — Val Loss: 0.5682\n",
      "Epoch 85/300 — Train Loss: 0.7489 — Val Loss: 0.5695\n",
      "Epoch 86/300 — Train Loss: 0.7465 — Val Loss: 0.5692\n",
      "Epoch 87/300 — Train Loss: 0.7425 — Val Loss: 0.5666\n",
      "Epoch 88/300 — Train Loss: 0.7404 — Val Loss: 0.5684\n",
      "Epoch 89/300 — Train Loss: 0.7366 — Val Loss: 0.5629\n",
      "Epoch 90/300 — Train Loss: 0.7408 — Val Loss: 0.5646\n",
      "Epoch 91/300 — Train Loss: 0.7331 — Val Loss: 0.5604\n",
      "Epoch 92/300 — Train Loss: 0.7317 — Val Loss: 0.5598\n",
      "Epoch 93/300 — Train Loss: 0.7262 — Val Loss: 0.5616\n",
      "Epoch 94/300 — Train Loss: 0.7220 — Val Loss: 0.5588\n",
      "Epoch 95/300 — Train Loss: 0.7214 — Val Loss: 0.5626\n",
      "Epoch 96/300 — Train Loss: 0.7205 — Val Loss: 0.5570\n",
      "Epoch 97/300 — Train Loss: 0.7221 — Val Loss: 0.5553\n",
      "Epoch 98/300 — Train Loss: 0.7202 — Val Loss: 0.5491\n",
      "Epoch 99/300 — Train Loss: 0.7123 — Val Loss: 0.5538\n",
      "Epoch 100/300 — Train Loss: 0.7090 — Val Loss: 0.5513\n",
      "Epoch 101/300 — Train Loss: 0.7057 — Val Loss: 0.5514\n",
      "Epoch 102/300 — Train Loss: 0.7077 — Val Loss: 0.5487\n",
      "Epoch 103/300 — Train Loss: 0.7105 — Val Loss: 0.5462\n",
      "Epoch 104/300 — Train Loss: 0.7012 — Val Loss: 0.5444\n",
      "Epoch 105/300 — Train Loss: 0.7106 — Val Loss: 0.5485\n",
      "Epoch 106/300 — Train Loss: 0.6959 — Val Loss: 0.5439\n",
      "Epoch 107/300 — Train Loss: 0.6937 — Val Loss: 0.5438\n",
      "Epoch 108/300 — Train Loss: 0.6969 — Val Loss: 0.5536\n",
      "Epoch 109/300 — Train Loss: 0.6965 — Val Loss: 0.5412\n",
      "Epoch 110/300 — Train Loss: 0.6888 — Val Loss: 0.5408\n",
      "Epoch 111/300 — Train Loss: 0.6885 — Val Loss: 0.5381\n",
      "Epoch 112/300 — Train Loss: 0.6860 — Val Loss: 0.5443\n",
      "Epoch 113/300 — Train Loss: 0.6815 — Val Loss: 0.5438\n",
      "Epoch 114/300 — Train Loss: 0.6843 — Val Loss: 0.5398\n",
      "Epoch 115/300 — Train Loss: 0.6837 — Val Loss: 0.5399\n",
      "Epoch 116/300 — Train Loss: 0.6791 — Val Loss: 0.5383\n",
      "Epoch 117/300 — Train Loss: 0.6735 — Val Loss: 0.5381\n",
      "Epoch 118/300 — Train Loss: 0.6794 — Val Loss: 0.5382\n",
      "Epoch 119/300 — Train Loss: 0.6753 — Val Loss: 0.5354\n",
      "Epoch 120/300 — Train Loss: 0.6695 — Val Loss: 0.5487\n",
      "Epoch 121/300 — Train Loss: 0.6719 — Val Loss: 0.5375\n",
      "Epoch 122/300 — Train Loss: 0.6703 — Val Loss: 0.5349\n",
      "Epoch 123/300 — Train Loss: 0.6633 — Val Loss: 0.5370\n",
      "Epoch 124/300 — Train Loss: 0.6615 — Val Loss: 0.5334\n",
      "Epoch 125/300 — Train Loss: 0.6573 — Val Loss: 0.5353\n",
      "Epoch 126/300 — Train Loss: 0.6686 — Val Loss: 0.5510\n",
      "Epoch 127/300 — Train Loss: 0.6612 — Val Loss: 0.5299\n",
      "Epoch 128/300 — Train Loss: 0.6583 — Val Loss: 0.5282\n",
      "Epoch 129/300 — Train Loss: 0.6569 — Val Loss: 0.5312\n",
      "Epoch 130/300 — Train Loss: 0.6580 — Val Loss: 0.5316\n",
      "Epoch 131/300 — Train Loss: 0.6566 — Val Loss: 0.5344\n",
      "Epoch 132/300 — Train Loss: 0.6493 — Val Loss: 0.5380\n",
      "Epoch 133/300 — Train Loss: 0.6469 — Val Loss: 0.5332\n",
      "Epoch 134/300 — Train Loss: 0.6538 — Val Loss: 0.5367\n",
      "Epoch 135/300 — Train Loss: 0.6471 — Val Loss: 0.5351\n",
      "Epoch 136/300 — Train Loss: 0.6444 — Val Loss: 0.5277\n",
      "Epoch 137/300 — Train Loss: 0.6401 — Val Loss: 0.5283\n",
      "Epoch 138/300 — Train Loss: 0.6399 — Val Loss: 0.5388\n",
      "Epoch 139/300 — Train Loss: 0.6495 — Val Loss: 0.5437\n",
      "Epoch 140/300 — Train Loss: 0.6363 — Val Loss: 0.5369\n",
      "Epoch 141/300 — Train Loss: 0.6386 — Val Loss: 0.5311\n",
      "Epoch 142/300 — Train Loss: 0.6361 — Val Loss: 0.5293\n",
      "Epoch 143/300 — Train Loss: 0.6334 — Val Loss: 0.5381\n",
      "Epoch 144/300 — Train Loss: 0.6329 — Val Loss: 0.5341\n",
      "Epoch 145/300 — Train Loss: 0.6370 — Val Loss: 0.5296\n",
      "Epoch 146/300 — Train Loss: 0.6288 — Val Loss: 0.5312\n",
      "Epoch 147/300 — Train Loss: 0.6359 — Val Loss: 0.5352\n",
      "Epoch 148/300 — Train Loss: 0.6240 — Val Loss: 0.5239\n",
      "Epoch 149/300 — Train Loss: 0.6255 — Val Loss: 0.5390\n",
      "Epoch 150/300 — Train Loss: 0.6246 — Val Loss: 0.5386\n",
      "Epoch 151/300 — Train Loss: 0.6245 — Val Loss: 0.5404\n",
      "Epoch 152/300 — Train Loss: 0.6256 — Val Loss: 0.5272\n",
      "Epoch 153/300 — Train Loss: 0.6172 — Val Loss: 0.5301\n",
      "Epoch 154/300 — Train Loss: 0.6156 — Val Loss: 0.5246\n",
      "Epoch 155/300 — Train Loss: 0.6215 — Val Loss: 0.5358\n",
      "Epoch 156/300 — Train Loss: 0.6138 — Val Loss: 0.5382\n",
      "Epoch 157/300 — Train Loss: 0.6249 — Val Loss: 0.5381\n",
      "Epoch 158/300 — Train Loss: 0.6127 — Val Loss: 0.5324\n",
      "Epoch 159/300 — Train Loss: 0.6131 — Val Loss: 0.5453\n",
      "Epoch 160/300 — Train Loss: 0.6103 — Val Loss: 0.5287\n",
      "Epoch 161/300 — Train Loss: 0.6090 — Val Loss: 0.5386\n",
      "Epoch 162/300 — Train Loss: 0.6059 — Val Loss: 0.5338\n",
      "Epoch 163/300 — Train Loss: 0.6081 — Val Loss: 0.5440\n",
      "Epoch 164/300 — Train Loss: 0.6090 — Val Loss: 0.5450\n",
      "Epoch 165/300 — Train Loss: 0.6058 — Val Loss: 0.5361\n",
      "Epoch 166/300 — Train Loss: 0.5989 — Val Loss: 0.5252\n",
      "Epoch 167/300 — Train Loss: 0.5981 — Val Loss: 0.5282\n",
      "Epoch 168/300 — Train Loss: 0.5998 — Val Loss: 0.5256\n",
      "Epoch 169/300 — Train Loss: 0.5966 — Val Loss: 0.5344\n",
      "Epoch 170/300 — Train Loss: 0.6005 — Val Loss: 0.5468\n",
      "Epoch 171/300 — Train Loss: 0.6043 — Val Loss: 0.5179\n",
      "Epoch 172/300 — Train Loss: 0.5957 — Val Loss: 0.5332\n",
      "Epoch 173/300 — Train Loss: 0.5948 — Val Loss: 0.5156\n",
      "Epoch 174/300 — Train Loss: 0.6011 — Val Loss: 0.5281\n",
      "Epoch 175/300 — Train Loss: 0.5976 — Val Loss: 0.5153\n",
      "Epoch 176/300 — Train Loss: 0.5877 — Val Loss: 0.5243\n",
      "Epoch 177/300 — Train Loss: 0.5928 — Val Loss: 0.5257\n",
      "Epoch 178/300 — Train Loss: 0.5921 — Val Loss: 0.5385\n",
      "Epoch 179/300 — Train Loss: 0.5936 — Val Loss: 0.5227\n",
      "Epoch 180/300 — Train Loss: 0.5918 — Val Loss: 0.5332\n",
      "Epoch 181/300 — Train Loss: 0.5898 — Val Loss: 0.5134\n",
      "Epoch 182/300 — Train Loss: 0.5850 — Val Loss: 0.5210\n",
      "Epoch 183/300 — Train Loss: 0.5838 — Val Loss: 0.5189\n",
      "Epoch 184/300 — Train Loss: 0.5856 — Val Loss: 0.5230\n",
      "Epoch 185/300 — Train Loss: 0.5845 — Val Loss: 0.5174\n",
      "Epoch 186/300 — Train Loss: 0.5822 — Val Loss: 0.5208\n",
      "Epoch 187/300 — Train Loss: 0.5827 — Val Loss: 0.5267\n",
      "Epoch 188/300 — Train Loss: 0.5824 — Val Loss: 0.5235\n",
      "Epoch 189/300 — Train Loss: 0.5745 — Val Loss: 0.5250\n",
      "Epoch 190/300 — Train Loss: 0.5782 — Val Loss: 0.5115\n",
      "Epoch 191/300 — Train Loss: 0.5765 — Val Loss: 0.5336\n",
      "Epoch 192/300 — Train Loss: 0.5793 — Val Loss: 0.5430\n",
      "Epoch 193/300 — Train Loss: 0.5819 — Val Loss: 0.5238\n",
      "Epoch 194/300 — Train Loss: 0.5736 — Val Loss: 0.5208\n",
      "Epoch 195/300 — Train Loss: 0.5766 — Val Loss: 0.5144\n",
      "Epoch 196/300 — Train Loss: 0.5753 — Val Loss: 0.5252\n",
      "Epoch 197/300 — Train Loss: 0.5744 — Val Loss: 0.5192\n",
      "Epoch 198/300 — Train Loss: 0.5694 — Val Loss: 0.5251\n",
      "Epoch 199/300 — Train Loss: 0.5723 — Val Loss: 0.5250\n",
      "Epoch 200/300 — Train Loss: 0.5707 — Val Loss: 0.5120\n",
      "Epoch 201/300 — Train Loss: 0.5674 — Val Loss: 0.5195\n",
      "Epoch 202/300 — Train Loss: 0.5786 — Val Loss: 0.5402\n",
      "Epoch 203/300 — Train Loss: 0.5764 — Val Loss: 0.5200\n",
      "Epoch 204/300 — Train Loss: 0.5768 — Val Loss: 0.5146\n",
      "Epoch 205/300 — Train Loss: 0.5657 — Val Loss: 0.5093\n",
      "Epoch 206/300 — Train Loss: 0.5674 — Val Loss: 0.5306\n",
      "Epoch 207/300 — Train Loss: 0.5683 — Val Loss: 0.5104\n",
      "Epoch 208/300 — Train Loss: 0.5649 — Val Loss: 0.5187\n",
      "Epoch 209/300 — Train Loss: 0.5630 — Val Loss: 0.5164\n",
      "Epoch 210/300 — Train Loss: 0.5637 — Val Loss: 0.5224\n",
      "Epoch 211/300 — Train Loss: 0.5640 — Val Loss: 0.5196\n",
      "Epoch 212/300 — Train Loss: 0.5636 — Val Loss: 0.5252\n",
      "Epoch 213/300 — Train Loss: 0.5611 — Val Loss: 0.5100\n",
      "Epoch 214/300 — Train Loss: 0.5584 — Val Loss: 0.5141\n",
      "Epoch 215/300 — Train Loss: 0.5670 — Val Loss: 0.5174\n",
      "Epoch 216/300 — Train Loss: 0.5905 — Val Loss: 0.5379\n",
      "Epoch 217/300 — Train Loss: 0.5660 — Val Loss: 0.5126\n",
      "Epoch 218/300 — Train Loss: 0.5592 — Val Loss: 0.5177\n",
      "Epoch 219/300 — Train Loss: 0.5566 — Val Loss: 0.5163\n",
      "Epoch 220/300 — Train Loss: 0.5591 — Val Loss: 0.5382\n",
      "Epoch 221/300 — Train Loss: 0.5583 — Val Loss: 0.5085\n",
      "Epoch 222/300 — Train Loss: 0.5650 — Val Loss: 0.5149\n",
      "Epoch 223/300 — Train Loss: 0.5541 — Val Loss: 0.5108\n",
      "Epoch 224/300 — Train Loss: 0.5494 — Val Loss: 0.5152\n",
      "Epoch 225/300 — Train Loss: 0.5558 — Val Loss: 0.5185\n",
      "Epoch 226/300 — Train Loss: 0.5485 — Val Loss: 0.5206\n",
      "Epoch 227/300 — Train Loss: 0.5479 — Val Loss: 0.5157\n",
      "Epoch 228/300 — Train Loss: 0.5569 — Val Loss: 0.5191\n",
      "Epoch 229/300 — Train Loss: 0.5509 — Val Loss: 0.5197\n",
      "Epoch 230/300 — Train Loss: 0.5470 — Val Loss: 0.5275\n",
      "Epoch 231/300 — Train Loss: 0.5721 — Val Loss: 0.5184\n",
      "Epoch 232/300 — Train Loss: 0.5486 — Val Loss: 0.5128\n",
      "Epoch 233/300 — Train Loss: 0.5471 — Val Loss: 0.5187\n",
      "Epoch 234/300 — Train Loss: 0.5504 — Val Loss: 0.5276\n",
      "Epoch 235/300 — Train Loss: 0.5510 — Val Loss: 0.5262\n",
      "Epoch 236/300 — Train Loss: 0.5500 — Val Loss: 0.5230\n",
      "Epoch 237/300 — Train Loss: 0.5467 — Val Loss: 0.5237\n",
      "Epoch 238/300 — Train Loss: 0.5560 — Val Loss: 0.5007\n",
      "Epoch 239/300 — Train Loss: 0.5538 — Val Loss: 0.5111\n",
      "Epoch 240/300 — Train Loss: 0.5503 — Val Loss: 0.5346\n",
      "Epoch 241/300 — Train Loss: 0.5479 — Val Loss: 0.5031\n",
      "Epoch 242/300 — Train Loss: 0.5455 — Val Loss: 0.5227\n",
      "Epoch 243/300 — Train Loss: 0.5474 — Val Loss: 0.5102\n",
      "Epoch 244/300 — Train Loss: 0.5529 — Val Loss: 0.5172\n",
      "Epoch 245/300 — Train Loss: 0.5397 — Val Loss: 0.5104\n",
      "Epoch 246/300 — Train Loss: 0.5457 — Val Loss: 0.5216\n",
      "Epoch 247/300 — Train Loss: 0.5506 — Val Loss: 0.5205\n",
      "Epoch 248/300 — Train Loss: 0.5491 — Val Loss: 0.4990\n",
      "Epoch 249/300 — Train Loss: 0.5387 — Val Loss: 0.5135\n",
      "Epoch 250/300 — Train Loss: 0.5422 — Val Loss: 0.5262\n",
      "Epoch 251/300 — Train Loss: 0.5415 — Val Loss: 0.5113\n",
      "Epoch 252/300 — Train Loss: 0.5451 — Val Loss: 0.5051\n",
      "Epoch 253/300 — Train Loss: 0.5484 — Val Loss: 0.5130\n",
      "Epoch 254/300 — Train Loss: 0.5378 — Val Loss: 0.5164\n",
      "Epoch 255/300 — Train Loss: 0.5625 — Val Loss: 0.5035\n",
      "Epoch 256/300 — Train Loss: 0.5373 — Val Loss: 0.5068\n",
      "Epoch 257/300 — Train Loss: 0.5357 — Val Loss: 0.5188\n",
      "Epoch 258/300 — Train Loss: 0.5374 — Val Loss: 0.5097\n",
      "Epoch 259/300 — Train Loss: 0.5403 — Val Loss: 0.5213\n",
      "Epoch 260/300 — Train Loss: 0.5390 — Val Loss: 0.5075\n",
      "Epoch 261/300 — Train Loss: 0.5364 — Val Loss: 0.5195\n",
      "Epoch 262/300 — Train Loss: 0.5645 — Val Loss: 0.5131\n",
      "Epoch 263/300 — Train Loss: 0.5356 — Val Loss: 0.5082\n",
      "Epoch 264/300 — Train Loss: 0.5325 — Val Loss: 0.5151\n",
      "Epoch 265/300 — Train Loss: 0.5391 — Val Loss: 0.5174\n",
      "Epoch 266/300 — Train Loss: 0.5396 — Val Loss: 0.5099\n",
      "Epoch 267/300 — Train Loss: 0.5407 — Val Loss: 0.5044\n",
      "Epoch 268/300 — Train Loss: 0.5343 — Val Loss: 0.5104\n",
      "Epoch 269/300 — Train Loss: 0.5373 — Val Loss: 0.5079\n",
      "Epoch 270/300 — Train Loss: 0.5363 — Val Loss: 0.5160\n",
      "Epoch 271/300 — Train Loss: 0.5322 — Val Loss: 0.5063\n",
      "Epoch 272/300 — Train Loss: 0.5339 — Val Loss: 0.5178\n",
      "Epoch 273/300 — Train Loss: 0.5391 — Val Loss: 0.5098\n",
      "Epoch 274/300 — Train Loss: 0.5319 — Val Loss: 0.5041\n",
      "Epoch 275/300 — Train Loss: 0.5280 — Val Loss: 0.5146\n",
      "Epoch 276/300 — Train Loss: 0.5313 — Val Loss: 0.5196\n",
      "Epoch 277/300 — Train Loss: 0.5315 — Val Loss: 0.5102\n",
      "Epoch 278/300 — Train Loss: 0.5358 — Val Loss: 0.5054\n",
      "Epoch 279/300 — Train Loss: 0.5316 — Val Loss: 0.5164\n",
      "Epoch 280/300 — Train Loss: 0.5317 — Val Loss: 0.5263\n",
      "Epoch 281/300 — Train Loss: 0.5446 — Val Loss: 0.5157\n",
      "Epoch 282/300 — Train Loss: 0.5319 — Val Loss: 0.5083\n",
      "Epoch 283/300 — Train Loss: 0.5309 — Val Loss: 0.5050\n",
      "Epoch 284/300 — Train Loss: 0.5275 — Val Loss: 0.5154\n",
      "Epoch 285/300 — Train Loss: 0.5268 — Val Loss: 0.5247\n",
      "Epoch 286/300 — Train Loss: 0.5515 — Val Loss: 0.5173\n",
      "Epoch 287/300 — Train Loss: 0.5318 — Val Loss: 0.5088\n",
      "Epoch 288/300 — Train Loss: 0.5294 — Val Loss: 0.5062\n",
      "Epoch 289/300 — Train Loss: 0.5227 — Val Loss: 0.5085\n",
      "Epoch 290/300 — Train Loss: 0.5292 — Val Loss: 0.5185\n",
      "Epoch 291/300 — Train Loss: 0.5371 — Val Loss: 0.5096\n",
      "Epoch 292/300 — Train Loss: 0.5249 — Val Loss: 0.5084\n",
      "Epoch 293/300 — Train Loss: 0.5238 — Val Loss: 0.5103\n",
      "Epoch 294/300 — Train Loss: 0.5308 — Val Loss: 0.5166\n",
      "Epoch 295/300 — Train Loss: 0.5311 — Val Loss: 0.5142\n",
      "Epoch 296/300 — Train Loss: 0.5241 — Val Loss: 0.5078\n",
      "Epoch 297/300 — Train Loss: 0.5182 — Val Loss: 0.5105\n",
      "Epoch 298/300 — Train Loss: 0.5261 — Val Loss: 0.5211\n",
      "Epoch 299/300 — Train Loss: 0.5315 — Val Loss: 0.5164\n",
      "Epoch 300/300 — Train Loss: 0.5280 — Val Loss: 0.5150\n"
     ]
    }
   ],
   "source": [
    "train_losses, val_losses = train_model(model=lstm_model, train_loader=train_dataloader, val_loader=val_dataloader, num_epochs=300, criterion=criterion, optimizer=optimizer, device=device)"
   ]
  },
  {
   "cell_type": "code",
   "execution_count": 53,
   "id": "546acab0",
   "metadata": {},
   "outputs": [
    {
     "data": {
      "image/png": "[encoded data removed]",
      "text/plain": [
       "<Figure size 640x480 with 1 Axes>"
      ]
     },
     "metadata": {},
     "output_type": "display_data"
    }
   ],
   "source": [
    "import matplotlib.pyplot as plt\n",
    "\n",
    "plt.plot(train_losses)\n",
    "plt.plot(val_losses)\n",
    "plt.show()"
   ]
  },
  {
   "cell_type": "code",
   "execution_count": 56,
   "id": "d060a488",
   "metadata": {},
   "outputs": [
    {
     "data": {
      "text/plain": [
       "<All keys matched successfully>"
      ]
     },
     "execution_count": 56,
     "metadata": {},
     "output_type": "execute_result"
    }
   ],
   "source": [
    "lstm_model.load_state_dict(torch.load(\"best_lstm_predictor.pth\"))"
   ]
  },
  {
   "cell_type": "code",
   "execution_count": 59,
   "id": "f3300d1a",
   "metadata": {},
   "outputs": [
    {
     "name": "stdout",
     "output_type": "stream",
     "text": [
      "Erro de Teste: 0.0004456023743841797\n"
     ]
    },
    {
     "data": {
      "image/png": "[encoded data removed]",
      "text/plain": [
       "<Figure size 640x480 with 1 Axes>"
      ]
     },
     "metadata": {},
     "output_type": "display_data"
    }
   ],
   "source": [
    "from sklearn.metrics import r2_score\n",
    "import matplotlib.pyplot as plt\n",
    "\n",
    "test_dataloader = DataLoader(test_data, batch_size=32, collate_fn=collate_fn)\n",
    "\n",
    "predictions_test = []\n",
    "targets_test = []\n",
    "loss_function = nn.MSELoss(reduction='mean')\n",
    "\n",
    "with torch.no_grad():\n",
    "    for batch_x, lengths, batch_y in test_dataloader:\n",
    "        batch_x = batch_x.to(device)\n",
    "        lengths = lengths.to(device)\n",
    "        batch_y = batch_y.to(device)\n",
    "\n",
    "        preds = lstm_model(batch_x, lengths)\n",
    "        predictions_test.append(preds)\n",
    "        targets_test.append(batch_y)\n",
    "\n",
    "# concatena tudo e calcula o MSE\n",
    "preds_all = torch.cat(predictions_test)\n",
    "targets_all = torch.cat(targets_test)\n",
    "erro_test = loss_function(preds_all, targets_all)\n",
    "print(f\"Erro de Teste: {erro_test.item()}\")\n",
    "\n",
    "# desfaz a normalização\n",
    "y_true = scaler.inverse_transform(targets_all.cpu().numpy().reshape(-1, 1)).flatten()\n",
    "y_pred  = scaler.inverse_transform(preds_all.cpu().numpy().reshape(-1, 1)).flatten()\n",
    "\n",
    "r2 = r2_score(y_true=y_true, y_pred=y_pred)\n",
    "plt.plot([y_true.min(), y_true.max()], [y_true.min(), y_true.max()], 'r--', label='Real')\n",
    "plt.scatter(y_true, y_pred, alpha=0.7)\n",
    "plt.xlabel('y (real)')\n",
    "plt.ylabel('y (predito)')\n",
    "plt.title(f\"R² = {r2}\")\n",
    "plt.legend()\n",
    "plt.show()"
   ]
  }
 ],
 "metadata": {
  "kernelspec": {
   "display_name": "venv",
   "language": "python",
   "name": "python3"
  },
  "language_info": {
   "codemirror_mode": {
    "name": "ipython",
    "version": 3
   },
   "file_extension": ".py",
   "mimetype": "text/x-python",
   "name": "python",
   "nbconvert_exporter": "python",
   "pygments_lexer": "ipython3",
   "version": "3.13.3"
  }
 },
 "nbformat": 4,
 "nbformat_minor": 5
}
