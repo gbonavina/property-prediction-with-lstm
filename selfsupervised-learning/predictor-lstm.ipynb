{
 "cells": [
  {
   "cell_type": "code",
   "execution_count": 39,
   "id": "1109b84d",
   "metadata": {},
   "outputs": [
    {
     "data": {
      "text/plain": [
       "device(type='cuda')"
      ]
     },
     "execution_count": 39,
     "metadata": {},
     "output_type": "execute_result"
    }
   ],
   "source": [
    "import torch\n",
    "import torch.nn as nn \n",
    "import torch.nn.functional as F\n",
    "import torch.nn.utils.rnn as rnn_utils\n",
    "import pandas as pd\n",
    "import re\n",
    "import numpy as np\n",
    "\n",
    "device = torch.device('cuda' if torch.cuda.is_available() else 'cpu')\n",
    "device"
   ]
  },
  {
   "cell_type": "code",
   "execution_count": 40,
   "id": "f08895bd",
   "metadata": {},
   "outputs": [],
   "source": [
    "# fiz sem o bidirectional, não sei se é necessário para o meu teste simples \n",
    "class SMILESEncoder(torch.nn.Module):\n",
    "    def __init__(self, vocab_size, max_len, padding_idx, embedding_dim=64, dim=128, num_layers=1):\n",
    "        super(SMILESEncoder, self).__init__()\n",
    "\n",
    "        self.vocab_size = vocab_size\n",
    "        self.max_len = max_len\n",
    "        self.padding_idx = padding_idx\n",
    "        self.embedding_dim = embedding_dim\n",
    "        self.dim = dim\n",
    "        self.num_layers = num_layers\n",
    "\n",
    "        self.encoder = torch.nn.LSTM(self.embedding_dim, self.dim, self.num_layers, batch_first=True)\n",
    "\n",
    "    def forward(self, x, lengths):\n",
    "        batch_size = x.size(0)\n",
    "        seq_len = x.size(1)\n",
    "        \n",
    "        valid_lengths = torch.clamp(lengths, min=1, max=seq_len)\n",
    "        \n",
    "        # Mover lengths para a CPU antes de empacotar\n",
    "        lengths_on_cpu = valid_lengths.cpu()\n",
    "        \n",
    "        x_packed = rnn_utils.pack_padded_sequence(\n",
    "            x, lengths=lengths_on_cpu, batch_first=True, enforce_sorted=False\n",
    "        )\n",
    "\n",
    "        _, (hidden, _) = self.encoder(x_packed)\n",
    "        return hidden[-1]\n",
    "    \n",
    "class CLRNet(torch.nn.Module):\n",
    "    def __init__(self, vocab_size, max_len, padding_idx, embedding_dim=64, dim=128, num_layers=1):\n",
    "        super(CLRNet, self).__init__()\n",
    "\n",
    "        self.vocab_size = vocab_size\n",
    "        self.max_len = max_len\n",
    "        self.padding_idx = padding_idx\n",
    "        self.embedding_dim = embedding_dim\n",
    "        self.dim = dim\n",
    "        self.num_layers = num_layers\n",
    "\n",
    "        self.emb = torch.nn.Embedding(\n",
    "            num_embeddings=self.vocab_size, \n",
    "            padding_idx=self.padding_idx,\n",
    "            embedding_dim=self.embedding_dim, \n",
    "        )\n",
    "\n",
    "        # definindo as duas redes LSTM responsáveis pelo aprendizado contrastivo\n",
    "        self.SMILESEnc1 = SMILESEncoder(vocab_size=self.vocab_size, max_len=self.max_len, padding_idx=self.padding_idx,\n",
    "                                        embedding_dim=self.embedding_dim, dim=2*self.dim, num_layers=self.num_layers)\n",
    "        \n",
    "\n",
    "        self.SMILESEnc2 = SMILESEncoder(vocab_size=self.vocab_size, max_len=self.max_len, padding_idx=self.padding_idx,\n",
    "                                        embedding_dim=self.embedding_dim, dim=2*self.dim, num_layers=self.num_layers)\n",
    "        \n",
    "        # cabeça de projeção MLP\n",
    "        self.projection_head = torch.nn.Sequential(\n",
    "            torch.nn.Linear(2*self.dim, 4 * self.dim),\n",
    "            torch.nn.BatchNorm1d(4 * self.dim),\n",
    "            torch.nn.ReLU(inplace=True),\n",
    "            torch.nn.Linear(4*self.dim, 6*self.dim, bias=False)\n",
    "        )\n",
    "    \n",
    "    def forward(self, smi, random_smi, smi_len, random_smi_len):\n",
    "        x = self.emb(smi)\n",
    "        \n",
    "        x1 = self.emb(random_smi)\n",
    "        \n",
    "        enc1 = self.SMILESEnc1(x, smi_len)\n",
    "        enc2 = self.SMILESEnc2(x1, random_smi_len)\n",
    "        \n",
    "        return F.normalize(self.projection_head(enc1), dim=1), F.normalize(self.projection_head(enc2), dim=1)"
   ]
  },
  {
   "cell_type": "code",
   "execution_count": 41,
   "id": "c1af1d8c",
   "metadata": {},
   "outputs": [
    {
     "data": {
      "text/plain": [
       "CLRNet(\n",
       "  (emb): Embedding(82, 64, padding_idx=81)\n",
       "  (SMILESEnc1): SMILESEncoder(\n",
       "    (encoder): LSTM(64, 256, batch_first=True)\n",
       "  )\n",
       "  (SMILESEnc2): SMILESEncoder(\n",
       "    (encoder): LSTM(64, 256, batch_first=True)\n",
       "  )\n",
       "  (projection_head): Sequential(\n",
       "    (0): Linear(in_features=256, out_features=512, bias=True)\n",
       "    (1): BatchNorm1d(512, eps=1e-05, momentum=0.1, affine=True, track_running_stats=True)\n",
       "    (2): ReLU(inplace=True)\n",
       "    (3): Linear(in_features=512, out_features=768, bias=False)\n",
       "  )\n",
       ")"
      ]
     },
     "execution_count": 41,
     "metadata": {},
     "output_type": "execute_result"
    }
   ],
   "source": [
    "clr_model = CLRNet(vocab_size=82, max_len=24, padding_idx=81)\n",
    "clr_model.load_state_dict(torch.load(\"clr_model.pth\"))\n",
    "clr_model.to(device)"
   ]
  },
  {
   "cell_type": "code",
   "execution_count": 42,
   "id": "0ebc93d3",
   "metadata": {},
   "outputs": [
    {
     "data": {
      "text/html": [
       "<div>\n",
       "<style scoped>\n",
       "    .dataframe tbody tr th:only-of-type {\n",
       "        vertical-align: middle;\n",
       "    }\n",
       "\n",
       "    .dataframe tbody tr th {\n",
       "        vertical-align: top;\n",
       "    }\n",
       "\n",
       "    .dataframe thead th {\n",
       "        text-align: right;\n",
       "    }\n",
       "</style>\n",
       "<table border=\"1\" class=\"dataframe\">\n",
       "  <thead>\n",
       "    <tr style=\"text-align: right;\">\n",
       "      <th></th>\n",
       "      <th>SMILES_1</th>\n",
       "      <th>SMILES_2</th>\n",
       "      <th>INCHI_1</th>\n",
       "      <th>INCHI_2</th>\n",
       "      <th>Property_0</th>\n",
       "    </tr>\n",
       "  </thead>\n",
       "  <tbody>\n",
       "    <tr>\n",
       "      <th>0</th>\n",
       "      <td>OC1COC(=N)C1=O</td>\n",
       "      <td>O[C@H]1CO[C]([NH])C1=O</td>\n",
       "      <td>InChI=1S/C4H5NO3/c5-4-3(7)2(6)1-8-4/h2,5-6H,1H2</td>\n",
       "      <td>InChI=1S/C4H5NO3/c5-4-3(7)2(6)1-8-4/h2,5-6H,1H...</td>\n",
       "      <td>3.49649</td>\n",
       "    </tr>\n",
       "    <tr>\n",
       "      <th>1</th>\n",
       "      <td>CN(C)C(=O)C=O</td>\n",
       "      <td>CN(C)C(=O)C=O</td>\n",
       "      <td>InChI=1S/C4H7NO2/c1-5(2)4(7)3-6/h3H,1-2H3</td>\n",
       "      <td>InChI=1S/C4H7NO2/c1-5(2)4(7)3-6/h3H,1-2H3</td>\n",
       "      <td>3.92544</td>\n",
       "    </tr>\n",
       "    <tr>\n",
       "      <th>2</th>\n",
       "      <td>C1C2CC3N=COCC123</td>\n",
       "      <td>C1[C@H]2C[C@@H]3N=COC[C@]123</td>\n",
       "      <td>InChI=1S/C7H9NO/c1-5-2-7(5)3-9-4-8-6(1)7/h4-6H...</td>\n",
       "      <td>InChI=1S/C7H9NO/c1-5-2-7(5)3-9-4-8-6(1)7/h4-6H...</td>\n",
       "      <td>3.02103</td>\n",
       "    </tr>\n",
       "    <tr>\n",
       "      <th>3</th>\n",
       "      <td>OC1C2OC3CC2C13O</td>\n",
       "      <td>O[C@H]1[C@H]2O[C@@H]3C[C@H]2[C@]13O</td>\n",
       "      <td>InChI=1S/C6H8O3/c7-5-4-2-1-3(9-4)6(2,5)8/h2-5,...</td>\n",
       "      <td>InChI=1S/C6H8O3/c7-5-4-2-1-3(9-4)6(2,5)8/h2-5,...</td>\n",
       "      <td>2.52006</td>\n",
       "    </tr>\n",
       "    <tr>\n",
       "      <th>4</th>\n",
       "      <td>OC1C2C(=N)OCC12O</td>\n",
       "      <td>O[C@H]1[C@H]2[C]([NH])OC[C@@]12O</td>\n",
       "      <td>InChI=1S/C5H7NO3/c6-4-2-3(7)5(2,8)1-9-4/h2-3,6...</td>\n",
       "      <td>InChI=1S/C5H7NO3/c6-4-2-3(7)5(2,8)1-9-4/h2-3,6...</td>\n",
       "      <td>2.48587</td>\n",
       "    </tr>\n",
       "    <tr>\n",
       "      <th>...</th>\n",
       "      <td>...</td>\n",
       "      <td>...</td>\n",
       "      <td>...</td>\n",
       "      <td>...</td>\n",
       "      <td>...</td>\n",
       "    </tr>\n",
       "    <tr>\n",
       "      <th>133880</th>\n",
       "      <td>CC1=C(N)C(=NN1)C#C</td>\n",
       "      <td>Cc1c(N)c(n[nH]1)C#C</td>\n",
       "      <td>InChI=1S/C6H7N3/c1-3-5-6(7)4(2)8-9-5/h1H,7H2,2...</td>\n",
       "      <td>InChI=1S/C6H7N3/c1-3-5-6(7)4(2)8-9-5/h1H,7H2,2...</td>\n",
       "      <td>3.37027</td>\n",
       "    </tr>\n",
       "    <tr>\n",
       "      <th>133881</th>\n",
       "      <td>CC(C)(C)C(O)C(N)=O</td>\n",
       "      <td>CC(C)(C)[C@@H](O)C(=O)N</td>\n",
       "      <td>InChI=1S/C6H13NO2/c1-6(2,3)4(8)5(7)9/h4,8H,1-3...</td>\n",
       "      <td>InChI=1S/C6H13NO2/c1-6(2,3)4(8)5(7)9/h4,8H,1-3...</td>\n",
       "      <td>2.23826</td>\n",
       "    </tr>\n",
       "    <tr>\n",
       "      <th>133882</th>\n",
       "      <td>CC1C2C3C(N12)C3(C)O</td>\n",
       "      <td>C[C@H]1[C@H]2[C@H]3[C@@H](N12)[C@]3(C)O</td>\n",
       "      <td>InChI=1S/C7H11NO/c1-3-5-4-6(8(3)5)7(4,2)9/h3-6...</td>\n",
       "      <td>InChI=1S/C7H11NO/c1-3-5-4-6(8(3)5)7(4,2)9/h3-6...</td>\n",
       "      <td>3.77036</td>\n",
       "    </tr>\n",
       "    <tr>\n",
       "      <th>133883</th>\n",
       "      <td>C1CN1C1C2CC1C2</td>\n",
       "      <td>C1CN1[C@H]1[C@H]2C[C@@H]1C2</td>\n",
       "      <td>InChI=1S/C7H11N/c1-2-8(1)7-5-3-6(7)4-5/h5-7H,1...</td>\n",
       "      <td>InChI=1S/C7H11N/c1-2-8(1)7-5-3-6(7)4-5/h5-7H,1...</td>\n",
       "      <td>5.11764</td>\n",
       "    </tr>\n",
       "    <tr>\n",
       "      <th>133884</th>\n",
       "      <td>OC1=COC(=N)C(=N)O1</td>\n",
       "      <td>OC1=COC(=C([NH])O1)[NH]</td>\n",
       "      <td>InChI=1S/C4H4N2O3/c5-3-4(6)9-2(7)1-8-3/h1,5-7H</td>\n",
       "      <td>InChI=1S/C4H4N2O3/c5-3-4(6)9-2(7)1-8-3/h1,5-7H</td>\n",
       "      <td>3.08803</td>\n",
       "    </tr>\n",
       "  </tbody>\n",
       "</table>\n",
       "<p>133885 rows × 5 columns</p>\n",
       "</div>"
      ],
      "text/plain": [
       "                   SMILES_1                                 SMILES_2  \\\n",
       "0            OC1COC(=N)C1=O                   O[C@H]1CO[C]([NH])C1=O   \n",
       "1             CN(C)C(=O)C=O                            CN(C)C(=O)C=O   \n",
       "2          C1C2CC3N=COCC123             C1[C@H]2C[C@@H]3N=COC[C@]123   \n",
       "3           OC1C2OC3CC2C13O      O[C@H]1[C@H]2O[C@@H]3C[C@H]2[C@]13O   \n",
       "4          OC1C2C(=N)OCC12O         O[C@H]1[C@H]2[C]([NH])OC[C@@]12O   \n",
       "...                     ...                                      ...   \n",
       "133880   CC1=C(N)C(=NN1)C#C                      Cc1c(N)c(n[nH]1)C#C   \n",
       "133881   CC(C)(C)C(O)C(N)=O                  CC(C)(C)[C@@H](O)C(=O)N   \n",
       "133882  CC1C2C3C(N12)C3(C)O  C[C@H]1[C@H]2[C@H]3[C@@H](N12)[C@]3(C)O   \n",
       "133883       C1CN1C1C2CC1C2              C1CN1[C@H]1[C@H]2C[C@@H]1C2   \n",
       "133884   OC1=COC(=N)C(=N)O1                  OC1=COC(=C([NH])O1)[NH]   \n",
       "\n",
       "                                                  INCHI_1  \\\n",
       "0         InChI=1S/C4H5NO3/c5-4-3(7)2(6)1-8-4/h2,5-6H,1H2   \n",
       "1               InChI=1S/C4H7NO2/c1-5(2)4(7)3-6/h3H,1-2H3   \n",
       "2       InChI=1S/C7H9NO/c1-5-2-7(5)3-9-4-8-6(1)7/h4-6H...   \n",
       "3       InChI=1S/C6H8O3/c7-5-4-2-1-3(9-4)6(2,5)8/h2-5,...   \n",
       "4       InChI=1S/C5H7NO3/c6-4-2-3(7)5(2,8)1-9-4/h2-3,6...   \n",
       "...                                                   ...   \n",
       "133880  InChI=1S/C6H7N3/c1-3-5-6(7)4(2)8-9-5/h1H,7H2,2...   \n",
       "133881  InChI=1S/C6H13NO2/c1-6(2,3)4(8)5(7)9/h4,8H,1-3...   \n",
       "133882  InChI=1S/C7H11NO/c1-3-5-4-6(8(3)5)7(4,2)9/h3-6...   \n",
       "133883  InChI=1S/C7H11N/c1-2-8(1)7-5-3-6(7)4-5/h5-7H,1...   \n",
       "133884     InChI=1S/C4H4N2O3/c5-3-4(6)9-2(7)1-8-3/h1,5-7H   \n",
       "\n",
       "                                                  INCHI_2  Property_0  \n",
       "0       InChI=1S/C4H5NO3/c5-4-3(7)2(6)1-8-4/h2,5-6H,1H...     3.49649  \n",
       "1               InChI=1S/C4H7NO2/c1-5(2)4(7)3-6/h3H,1-2H3     3.92544  \n",
       "2       InChI=1S/C7H9NO/c1-5-2-7(5)3-9-4-8-6(1)7/h4-6H...     3.02103  \n",
       "3       InChI=1S/C6H8O3/c7-5-4-2-1-3(9-4)6(2,5)8/h2-5,...     2.52006  \n",
       "4       InChI=1S/C5H7NO3/c6-4-2-3(7)5(2,8)1-9-4/h2-3,6...     2.48587  \n",
       "...                                                   ...         ...  \n",
       "133880  InChI=1S/C6H7N3/c1-3-5-6(7)4(2)8-9-5/h1H,7H2,2...     3.37027  \n",
       "133881  InChI=1S/C6H13NO2/c1-6(2,3)4(8)5(7)9/h4,8H,1-3...     2.23826  \n",
       "133882  InChI=1S/C7H11NO/c1-3-5-4-6(8(3)5)7(4,2)9/h3-6...     3.77036  \n",
       "133883  InChI=1S/C7H11N/c1-2-8(1)7-5-3-6(7)4-5/h5-7H,1...     5.11764  \n",
       "133884     InChI=1S/C4H4N2O3/c5-3-4(6)9-2(7)1-8-3/h1,5-7H     3.08803  \n",
       "\n",
       "[133885 rows x 5 columns]"
      ]
     },
     "execution_count": 42,
     "metadata": {},
     "output_type": "execute_result"
    }
   ],
   "source": [
    "qm9 = pd.read_csv(\"../supervised-learning/QM9.csv\", index_col=0)\n",
    "qm9"
   ]
  },
  {
   "cell_type": "code",
   "execution_count": 43,
   "id": "4cbed333",
   "metadata": {},
   "outputs": [],
   "source": [
    "vocab = [\n",
    "    '#', '(', ')', '-', '/', '1', '2', '3', '4', '5', '6', '=', 'Br', 'C', 'Cl',\n",
    "    'F', 'I', 'In', 'N', 'O', 'P', 'S', '[17O]', '[AlH-]', '[AlH2-]', '[AlH3-]',\n",
    "    '[AsH3-]', '[BH-]', '[BH2-]', '[BH3-]', '[C-]', '[C@@H]', '[C@@]', '[C@H]',\n",
    "    '[C@]', '[CH-]', '[CH2-]', '[CH2]', '[CH]', '[C]', '[GaH-]', '[GaH2-]', '[GaH3-]',\n",
    "    '[InH-]', '[InH2-]', '[InH3-]', '[N+]', '[N-]', '[N@+]', '[N@@+]', '[N@@]', '[N@]',\n",
    "    '[NH+]', '[NH-]', '[NH2+]', '[NH3+]', '[NH]', '[N]', '[NbH3-]', '[O+]', '[O-]', '[O]',\n",
    "    '[PH+]', '[PH3-]', '[PH4-]', '[S+]', '[SbH3-]', '[Si]', '[TaH3-]', '[c-]', '[cH-]',\n",
    "    '[n+]', '[n-]', '[nH+]', '[nH]', '[o+]', '\\\\', 'c', 'n', 'o', ''\n",
    "]\n",
    "\n",
    "smiles_list = qm9['SMILES_1'].tolist()\n",
    "props = qm9['Property_0'].tolist()"
   ]
  },
  {
   "cell_type": "code",
   "execution_count": 44,
   "id": "45a0b8f8",
   "metadata": {},
   "outputs": [],
   "source": [
    "class BasicSmilesTokenizer(object):\n",
    "  def __init__(self):\n",
    "    self.regex_pattern = r\"\"\"(\\[[^\\]]+]|Br?|Cl?|Nb?|In?|Sb?|As|Ai|Ta|Ga|O|P|F|H|b|c|n|o|s|p|\\(|\\)|\\.|=|#|-|\\+|\\\\|\\/|:|~|@|\\?|>>?|\\*|\\$|\\%[0-9]{2}|[0-9])\"\"\"\n",
    "    self.regex = re.compile(self.regex_pattern)\n",
    "\n",
    "  def tokenize(self, text):\n",
    "    tokens = [token for token in self.regex.findall(text)]\n",
    "    return tokens\n",
    "\n",
    "TOKENIZER = BasicSmilesTokenizer()"
   ]
  },
  {
   "cell_type": "code",
   "execution_count": 45,
   "id": "de5d2d52",
   "metadata": {},
   "outputs": [],
   "source": [
    "def one_hot_encode(smiles_list, vocab):\n",
    "    token_to_index = {token: i for i, token in enumerate(vocab)}\n",
    "    one_hot_data = []\n",
    "\n",
    "    for smile in smiles_list:\n",
    "        tokens = TOKENIZER.tokenize(smile)\n",
    "        one_hot_seq = []\n",
    "\n",
    "        for token in tokens:\n",
    "            vec = np.zeros(len(vocab), dtype=np.float32)\n",
    "            idx = token_to_index[token]\n",
    "            vec[idx] = 1.0\n",
    "            one_hot_seq.append(vec)\n",
    "\n",
    "        one_hot_seq = np.array(one_hot_seq, dtype=np.float32)\n",
    "        one_hot_data.append(one_hot_seq)\n",
    "\n",
    "    return np.array(one_hot_data, dtype=object)"
   ]
  },
  {
   "cell_type": "code",
   "execution_count": 46,
   "id": "f4deadb6",
   "metadata": {},
   "outputs": [
    {
     "name": "stdout",
     "output_type": "stream",
     "text": [
      "[[0. 0. 0. ... 0. 0. 0.]\n",
      " [0. 0. 0. ... 0. 0. 0.]\n",
      " [0. 0. 0. ... 0. 0. 0.]\n",
      " ...\n",
      " [0. 0. 0. ... 0. 0. 0.]\n",
      " [0. 0. 0. ... 0. 0. 0.]\n",
      " [0. 0. 0. ... 0. 0. 0.]]\n"
     ]
    }
   ],
   "source": [
    "one_hot_encoded = one_hot_encode(smiles_list, vocab)\n",
    "\n",
    "print(one_hot_encoded[0])"
   ]
  },
  {
   "cell_type": "code",
   "execution_count": 47,
   "id": "58ba961d",
   "metadata": {},
   "outputs": [],
   "source": [
    "def one_hot_to_indices(one_hot_array):\n",
    "    return np.argmax(one_hot_array, axis=1)\n",
    "\n",
    "one_hot_encoded_idx = np.empty(one_hot_encoded.shape, dtype=object)\n",
    "\n",
    "indexed_sequences = [one_hot_to_indices(seq) for seq in one_hot_encoded]"
   ]
  },
  {
   "cell_type": "code",
   "execution_count": 48,
   "id": "6a7c33d5",
   "metadata": {},
   "outputs": [
    {
     "name": "stdout",
     "output_type": "stream",
     "text": [
      "Exemplo de train_data: (array([19, 11, 13, 13,  1, 11, 19,  2, 13,  5, 13, 13,  5, 13,  0, 13]), 2.76254)\n",
      "Exemplo de val_data: (array([18, 13,  1, 11, 19,  2, 13,  1, 11, 18,  2, 18, 13,  5, 13, 13,  5]), 3.87733)\n",
      "Exemplo de test_data: (array([15, 13,  5, 11, 13, 13,  1, 11, 18,  2, 13,  1, 15,  2, 11, 18, 19,\n",
      "        5]), 3.29185)\n"
     ]
    }
   ],
   "source": [
    "from sklearn.model_selection import train_test_split\n",
    "\n",
    "X = indexed_sequences\n",
    "y = list(map(float, props))\n",
    "\n",
    "# Primeiro split: treino + temp (validação + teste)\n",
    "X_train, X_temp, y_train, y_temp = train_test_split(X, y, test_size=0.5,  random_state=24)\n",
    "# Segundo split: validação + teste\n",
    "X_val, X_test, y_val, y_test = train_test_split(X_temp, y_temp, test_size=0.5, random_state=42)\n",
    "\n",
    "train_data = list(zip(X_train, y_train))\n",
    "val_data   = list(zip(X_val, y_val))\n",
    "test_data  = list(zip(X_test, y_test))\n",
    "\n",
    "print(\"Exemplo de train_data:\", train_data[0])\n",
    "print(\"Exemplo de val_data:\", val_data[0])\n",
    "print(\"Exemplo de test_data:\", test_data[0])"
   ]
  },
  {
   "cell_type": "code",
   "execution_count": 49,
   "id": "138ab269",
   "metadata": {},
   "outputs": [],
   "source": [
    "from sklearn.preprocessing import MinMaxScaler\n",
    "\n",
    "X_train_filtered = [xi for xi, yi in zip(X_train, y_train) if yi <= 20]\n",
    "y_train_filtered = [yi for xi, yi in zip(X_train, y_train) if yi <= 20]\n",
    "X_val_filtered = [xi for xi, yi in zip(X_val, y_val) if yi <= 20]\n",
    "y_val_filtered = [yi for xi, yi in zip(X_val, y_val) if yi <= 20]\n",
    "X_test_filtered = [xi for xi, yi in zip(X_test, y_test) if yi <= 20]\n",
    "y_test_filtered = [yi for xi, yi in zip(X_test, y_test) if yi <= 20]\n",
    "\n",
    "\n",
    "\n",
    "# Normaliza apenas os dados filtrados\n",
    "scaler = MinMaxScaler()\n",
    "y_train_scaled = scaler.fit_transform(np.array(y_train_filtered).reshape(-1, 1)).flatten()\n",
    "y_val_scaled   = scaler.transform(np.array(y_val_filtered).reshape(-1, 1)).flatten()\n",
    "y_test_scaled  = scaler.transform(np.array(y_test_filtered).reshape(-1, 1)).flatten()\n",
    "\n",
    "train_data = list(zip(X_train_filtered, y_train_scaled))\n",
    "val_data   = list(zip(X_val_filtered, y_val_scaled))\n",
    "test_data  = list(zip(X_test_filtered, y_test_scaled))"
   ]
  },
  {
   "cell_type": "code",
   "execution_count": 50,
   "id": "f232d5f0",
   "metadata": {},
   "outputs": [],
   "source": [
    "from torch.nn.utils.rnn import pad_sequence\n",
    "\n",
    "padding_idx = 80\n",
    "def collate_fn(batch):\n",
    "  # print(batch)\n",
    "  sequences = [seq for seq, _ in batch]\n",
    "  labels = [label for _, label in batch]\n",
    "  lengths = [len(seq) for seq in sequences]\n",
    "\n",
    "  sequences_tensors = [torch.tensor(seq, dtype=torch.long) for seq in sequences]\n",
    "\n",
    "  padded = pad_sequence(sequences_tensors, batch_first=True, padding_value=padding_idx)\n",
    "\n",
    "  return padded, torch.tensor(lengths), torch.tensor(labels, dtype=torch.float32)\n"
   ]
  },
  {
   "cell_type": "code",
   "execution_count": 51,
   "id": "bbd9b87e",
   "metadata": {},
   "outputs": [],
   "source": [
    "from torch.utils.data import DataLoader\n",
    "\n",
    "train_dataloader = DataLoader(train_data, batch_size=32, collate_fn=collate_fn)\n",
    "val_dataloader = DataLoader(val_data, batch_size=32, collate_fn=collate_fn)"
   ]
  },
  {
   "cell_type": "code",
   "execution_count": 52,
   "id": "16e09cc2",
   "metadata": {},
   "outputs": [],
   "source": [
    "class LSTM(nn.Module):\n",
    "    def __init__(self, clr_model, hidden_dim, num_layers, dropout=0.3):\n",
    "        super().__init__()\n",
    "        self.embedding = clr_model.emb\n",
    "        input_dim = clr_model.embedding_dim   # → 64\n",
    "        self.lstm = nn.LSTM(input_dim,\n",
    "                            hidden_dim,\n",
    "                            num_layers,\n",
    "                            batch_first=True,\n",
    "                            dropout=dropout)\n",
    "        self.fc = nn.Linear(hidden_dim, 1)\n",
    "\n",
    "    def forward(self, x, lengths):\n",
    "        # x: [batch, seq_len]\n",
    "        emb = self.embedding(x)              # [batch, seq_len,  emb_dim]\n",
    "        packed = rnn_utils.pack_padded_sequence(\n",
    "            emb, lengths.cpu(), batch_first=True, enforce_sorted=False\n",
    "        )\n",
    "        _, (h, _) = self.lstm(packed)\n",
    "        out = h[-1]                         \n",
    "        return self.fc(out).squeeze(1)"
   ]
  },
  {
   "cell_type": "code",
   "execution_count": 53,
   "id": "cd4184e1",
   "metadata": {},
   "outputs": [],
   "source": [
    "def train_model(model, train_loader, val_loader, num_epochs, criterion, optimizer, device):\n",
    "    train_losses = []\n",
    "    val_losses = []\n",
    "    best_val = float('inf')\n",
    "\n",
    "    model.to(device)\n",
    "    for epoch in range(num_epochs):\n",
    "        model.train()\n",
    "        total_loss = 0.0\n",
    "        for batch_x, lengths, batch_y in train_loader:\n",
    "            batch_x = batch_x.to(device)\n",
    "            lengths = lengths.to(device)\n",
    "            batch_y = batch_y.to(device)\n",
    "            optimizer.zero_grad()\n",
    "            preds = model(batch_x, lengths)\n",
    "            loss = criterion(preds, batch_y)\n",
    "            loss.backward()\n",
    "            optimizer.step()\n",
    "            total_loss += loss.item()\n",
    "        train_losses.append(total_loss)\n",
    "\n",
    "        # Validação\n",
    "        model.eval()\n",
    "        val_loss = 0.0\n",
    "        with torch.no_grad():\n",
    "            for batch_x, lengths, batch_y in val_loader:\n",
    "                batch_x = batch_x.to(device)\n",
    "                lengths = lengths.to(device)\n",
    "                batch_y = batch_y.to(device)\n",
    "                preds = model(batch_x, lengths)\n",
    "                loss = criterion(preds, batch_y)\n",
    "                val_loss += loss.item()\n",
    "            val_losses.append(val_loss)\n",
    "        print(f\"Epoch {epoch+1}/{num_epochs} — Train Loss: {total_loss:.4f} — Val Loss: {val_loss:.4f}\")\n",
    "\n",
    "        if val_loss < best_val:\n",
    "                    best_val = val_loss\n",
    "                    torch.save(model.state_dict(), \"best_lstm_predictor.pth\")\n",
    "\n",
    "    return train_losses, val_losses"
   ]
  },
  {
   "cell_type": "code",
   "execution_count": 16,
   "id": "9fec7290",
   "metadata": {},
   "outputs": [
    {
     "name": "stderr",
     "output_type": "stream",
     "text": [
      "/home/gbonavina/Documentos/property-prediction-with-lstm/venv/lib/python3.13/site-packages/tqdm/auto.py:21: TqdmWarning: IProgress not found. Please update jupyter and ipywidgets. See https://ipywidgets.readthedocs.io/en/stable/user_install.html\n",
      "  from .autonotebook import tqdm as notebook_tqdm\n",
      "[I 2025-06-04 15:59:07,963] A new study created in memory with name: no-name-bdf8af33-3d3d-4005-83a7-dad9ab67b2ed\n",
      "  0%|          | 0/20 [00:00<?, ?it/s]/tmp/ipykernel_46525/2281665065.py:10: FutureWarning: suggest_loguniform has been deprecated in v3.0.0. This feature will be removed in v6.0.0. See https://github.com/optuna/optuna/releases/tag/v3.0.0. Use suggest_float(..., log=True) instead.\n",
      "  lr = trial.suggest_loguniform('lr', 1e-5, 1e-2)\n",
      "/tmp/ipykernel_46525/2281665065.py:11: FutureWarning: suggest_loguniform has been deprecated in v3.0.0. This feature will be removed in v6.0.0. See https://github.com/optuna/optuna/releases/tag/v3.0.0. Use suggest_float(..., log=True) instead.\n",
      "  weight_decay = trial.suggest_loguniform('weight_decay', 1e-6, 1e-2)\n",
      "Best trial: 0. Best value: 4.87253:   5%|▌         | 1/20 [01:27<27:36, 87.16s/it]/tmp/ipykernel_46525/2281665065.py:10: FutureWarning: suggest_loguniform has been deprecated in v3.0.0. This feature will be removed in v6.0.0. See https://github.com/optuna/optuna/releases/tag/v3.0.0. Use suggest_float(..., log=True) instead.\n",
      "  lr = trial.suggest_loguniform('lr', 1e-5, 1e-2)\n",
      "/tmp/ipykernel_46525/2281665065.py:11: FutureWarning: suggest_loguniform has been deprecated in v3.0.0. This feature will be removed in v6.0.0. See https://github.com/optuna/optuna/releases/tag/v3.0.0. Use suggest_float(..., log=True) instead.\n",
      "  weight_decay = trial.suggest_loguniform('weight_decay', 1e-6, 1e-2)\n"
     ]
    },
    {
     "name": "stdout",
     "output_type": "stream",
     "text": [
      "[I 2025-06-04 16:00:35,124] Trial 0 finished with value: 4.872527926345356 and parameters: {'hidden_dim': 64, 'num_layers': 8, 'dropout': 0.5288551080510187, 'lr': 0.007166965302418864, 'weight_decay': 1.5955941583920753e-06}. Best is trial 0 with value: 4.872527926345356.\n"
     ]
    },
    {
     "name": "stderr",
     "output_type": "stream",
     "text": [
      "Best trial: 1. Best value: 4.8476:  10%|█         | 2/20 [02:46<24:41, 82.33s/it] /home/gbonavina/Documentos/property-prediction-with-lstm/venv/lib/python3.13/site-packages/torch/nn/modules/rnn.py:123: UserWarning: dropout option adds dropout after all but last recurrent layer, so non-zero dropout expects num_layers greater than 1, but got dropout=0.6200205159381975 and num_layers=1\n",
      "  warnings.warn(\n"
     ]
    },
    {
     "name": "stdout",
     "output_type": "stream",
     "text": [
      "[I 2025-06-04 16:01:54,072] Trial 1 finished with value: 4.847595949016977 and parameters: {'hidden_dim': 64, 'num_layers': 7, 'dropout': 0.5025328289907033, 'lr': 0.004697950772665803, 'weight_decay': 0.00010707011262039469}. Best is trial 1 with value: 4.847595949016977.\n"
     ]
    },
    {
     "name": "stderr",
     "output_type": "stream",
     "text": [
      "Best trial: 2. Best value: 4.84278:  15%|█▌        | 3/20 [03:17<16:43, 59.00s/it]"
     ]
    },
    {
     "name": "stdout",
     "output_type": "stream",
     "text": [
      "[I 2025-06-04 16:02:25,311] Trial 2 finished with value: 4.842781709972769 and parameters: {'hidden_dim': 128, 'num_layers': 1, 'dropout': 0.6200205159381975, 'lr': 0.007799270856042119, 'weight_decay': 0.0018647910676610933}. Best is trial 2 with value: 4.842781709972769.\n"
     ]
    },
    {
     "name": "stderr",
     "output_type": "stream",
     "text": [
      "Best trial: 2. Best value: 4.84278:  20%|██        | 4/20 [03:39<11:50, 44.44s/it]"
     ]
    },
    {
     "name": "stdout",
     "output_type": "stream",
     "text": [
      "[I 2025-06-04 16:02:47,422] Trial 3 pruned. \n"
     ]
    },
    {
     "name": "stderr",
     "output_type": "stream",
     "text": [
      "Best trial: 2. Best value: 4.84278:  25%|██▌       | 5/20 [04:07<09:36, 38.46s/it]"
     ]
    },
    {
     "name": "stdout",
     "output_type": "stream",
     "text": [
      "[I 2025-06-04 16:03:15,276] Trial 4 pruned. \n"
     ]
    },
    {
     "name": "stderr",
     "output_type": "stream",
     "text": [
      "Best trial: 5. Best value: 4.83834:  30%|███       | 6/20 [09:35<31:55, 136.82s/it]"
     ]
    },
    {
     "name": "stdout",
     "output_type": "stream",
     "text": [
      "[I 2025-06-04 16:08:43,030] Trial 5 finished with value: 4.83833697787486 and parameters: {'hidden_dim': 512, 'num_layers': 8, 'dropout': 0.6558345049299737, 'lr': 9.852977693513708e-05, 'weight_decay': 0.0017235544665962616}. Best is trial 5 with value: 4.83833697787486.\n"
     ]
    },
    {
     "name": "stderr",
     "output_type": "stream",
     "text": [
      "Best trial: 6. Best value: 3.72547:  35%|███▌      | 7/20 [10:46<25:01, 115.47s/it]"
     ]
    },
    {
     "name": "stdout",
     "output_type": "stream",
     "text": [
      "[I 2025-06-04 16:09:54,560] Trial 6 finished with value: 3.7254651631228626 and parameters: {'hidden_dim': 256, 'num_layers': 5, 'dropout': 0.25749496162176094, 'lr': 0.00028800851360552863, 'weight_decay': 4.124392265853022e-05}. Best is trial 6 with value: 3.7254651631228626.\n"
     ]
    },
    {
     "name": "stderr",
     "output_type": "stream",
     "text": [
      "Best trial: 6. Best value: 3.72547:  40%|████      | 8/20 [12:05<20:47, 103.96s/it]/home/gbonavina/Documentos/property-prediction-with-lstm/venv/lib/python3.13/site-packages/torch/nn/modules/rnn.py:123: UserWarning: dropout option adds dropout after all but last recurrent layer, so non-zero dropout expects num_layers greater than 1, but got dropout=0.4093485154976412 and num_layers=1\n",
      "  warnings.warn(\n"
     ]
    },
    {
     "name": "stdout",
     "output_type": "stream",
     "text": [
      "[I 2025-06-04 16:11:13,861] Trial 7 finished with value: 4.838253039983101 and parameters: {'hidden_dim': 128, 'num_layers': 7, 'dropout': 0.20134084880542646, 'lr': 0.0001959935154218468, 'weight_decay': 0.002059733774160301}. Best is trial 6 with value: 3.7254651631228626.\n"
     ]
    },
    {
     "name": "stderr",
     "output_type": "stream",
     "text": [
      "Best trial: 8. Best value: 2.33747:  45%|████▌     | 9/20 [12:37<14:53, 81.21s/it] "
     ]
    },
    {
     "name": "stdout",
     "output_type": "stream",
     "text": [
      "[I 2025-06-04 16:11:45,050] Trial 8 finished with value: 2.337474786618259 and parameters: {'hidden_dim': 128, 'num_layers': 1, 'dropout': 0.4093485154976412, 'lr': 0.0009451165578844163, 'weight_decay': 0.00012923549339720545}. Best is trial 8 with value: 2.337474786618259.\n"
     ]
    },
    {
     "name": "stderr",
     "output_type": "stream",
     "text": [
      "Best trial: 8. Best value: 2.33747:  50%|█████     | 10/20 [14:49<16:09, 96.94s/it]/home/gbonavina/Documentos/property-prediction-with-lstm/venv/lib/python3.13/site-packages/torch/nn/modules/rnn.py:123: UserWarning: dropout option adds dropout after all but last recurrent layer, so non-zero dropout expects num_layers greater than 1, but got dropout=0.3770034383012116 and num_layers=1\n",
      "  warnings.warn(\n"
     ]
    },
    {
     "name": "stdout",
     "output_type": "stream",
     "text": [
      "[I 2025-06-04 16:13:57,228] Trial 9 pruned. \n"
     ]
    },
    {
     "name": "stderr",
     "output_type": "stream",
     "text": [
      "Best trial: 10. Best value: 1.13405:  55%|█████▌    | 11/20 [15:20<11:30, 76.71s/it]/home/gbonavina/Documentos/property-prediction-with-lstm/venv/lib/python3.13/site-packages/torch/nn/modules/rnn.py:123: UserWarning: dropout option adds dropout after all but last recurrent layer, so non-zero dropout expects num_layers greater than 1, but got dropout=0.36654224617192716 and num_layers=1\n",
      "  warnings.warn(\n"
     ]
    },
    {
     "name": "stdout",
     "output_type": "stream",
     "text": [
      "[I 2025-06-04 16:14:28,072] Trial 10 finished with value: 1.1340503517712932 and parameters: {'hidden_dim': 128, 'num_layers': 1, 'dropout': 0.3770034383012116, 'lr': 0.0015494468441686687, 'weight_decay': 6.267091114466421e-06}. Best is trial 10 with value: 1.1340503517712932.\n"
     ]
    },
    {
     "name": "stderr",
     "output_type": "stream",
     "text": [
      "Best trial: 10. Best value: 1.13405:  60%|██████    | 12/20 [15:51<08:23, 62.92s/it]"
     ]
    },
    {
     "name": "stdout",
     "output_type": "stream",
     "text": [
      "[I 2025-06-04 16:14:59,446] Trial 11 finished with value: 1.1395574262132868 and parameters: {'hidden_dim': 128, 'num_layers': 1, 'dropout': 0.36654224617192716, 'lr': 0.0012375606776319455, 'weight_decay': 7.504536372260349e-06}. Best is trial 10 with value: 1.1340503517712932.\n"
     ]
    },
    {
     "name": "stderr",
     "output_type": "stream",
     "text": [
      "Best trial: 12. Best value: 1.11597:  65%|██████▌   | 13/20 [16:38<06:46, 58.04s/it]"
     ]
    },
    {
     "name": "stdout",
     "output_type": "stream",
     "text": [
      "[I 2025-06-04 16:15:46,239] Trial 12 finished with value: 1.1159684256417677 and parameters: {'hidden_dim': 128, 'num_layers': 3, 'dropout': 0.35300743951517466, 'lr': 0.0019506843081347753, 'weight_decay': 3.4943158828653326e-06}. Best is trial 12 with value: 1.1159684256417677.\n"
     ]
    },
    {
     "name": "stderr",
     "output_type": "stream",
     "text": [
      "Best trial: 13. Best value: 0.841457:  70%|███████   | 14/20 [17:26<05:30, 55.05s/it]"
     ]
    },
    {
     "name": "stdout",
     "output_type": "stream",
     "text": [
      "[I 2025-06-04 16:16:34,385] Trial 13 finished with value: 0.841456843263586 and parameters: {'hidden_dim': 128, 'num_layers': 3, 'dropout': 0.33499437699310225, 'lr': 0.0022013924698543494, 'weight_decay': 1.2121510236798247e-06}. Best is trial 13 with value: 0.841456843263586.\n"
     ]
    },
    {
     "name": "stderr",
     "output_type": "stream",
     "text": [
      "Best trial: 13. Best value: 0.841457:  75%|███████▌  | 15/20 [18:16<04:27, 53.59s/it]"
     ]
    },
    {
     "name": "stdout",
     "output_type": "stream",
     "text": [
      "[I 2025-06-04 16:17:24,594] Trial 14 finished with value: 0.8465312938060379 and parameters: {'hidden_dim': 256, 'num_layers': 3, 'dropout': 0.1020374228833317, 'lr': 0.0029605756588737915, 'weight_decay': 1.3323951311876262e-06}. Best is trial 13 with value: 0.841456843263586.\n"
     ]
    },
    {
     "name": "stderr",
     "output_type": "stream",
     "text": [
      "Best trial: 13. Best value: 0.841457:  80%|████████  | 16/20 [19:06<03:30, 52.57s/it]"
     ]
    },
    {
     "name": "stdout",
     "output_type": "stream",
     "text": [
      "[I 2025-06-04 16:18:14,805] Trial 15 finished with value: 0.8753000818978762 and parameters: {'hidden_dim': 256, 'num_layers': 3, 'dropout': 0.10016295135206332, 'lr': 0.003251468374471453, 'weight_decay': 1.0498908223782125e-06}. Best is trial 13 with value: 0.841456843263586.\n"
     ]
    },
    {
     "name": "stderr",
     "output_type": "stream",
     "text": [
      "Best trial: 13. Best value: 0.841457:  85%|████████▌ | 17/20 [19:57<02:35, 51.88s/it]"
     ]
    },
    {
     "name": "stdout",
     "output_type": "stream",
     "text": [
      "[I 2025-06-04 16:19:05,087] Trial 16 finished with value: 1.4710717998095788 and parameters: {'hidden_dim': 256, 'num_layers': 3, 'dropout': 0.10886681816726926, 'lr': 0.0005175695587698504, 'weight_decay': 2.081840389209132e-05}. Best is trial 13 with value: 0.841456843263586.\n"
     ]
    },
    {
     "name": "stderr",
     "output_type": "stream",
     "text": [
      "Best trial: 13. Best value: 0.841457:  90%|█████████ | 18/20 [20:58<01:49, 54.85s/it]"
     ]
    },
    {
     "name": "stdout",
     "output_type": "stream",
     "text": [
      "[I 2025-06-04 16:20:06,825] Trial 17 finished with value: 1.6498539356980473 and parameters: {'hidden_dim': 256, 'num_layers': 4, 'dropout': 0.23145109977790307, 'lr': 0.0028943748678718637, 'weight_decay': 1.5499735003786172e-05}. Best is trial 13 with value: 0.841456843263586.\n"
     ]
    },
    {
     "name": "stderr",
     "output_type": "stream",
     "text": [
      "Best trial: 13. Best value: 0.841457:  95%|█████████▌| 19/20 [21:14<00:43, 43.18s/it]"
     ]
    },
    {
     "name": "stdout",
     "output_type": "stream",
     "text": [
      "[I 2025-06-04 16:20:22,835] Trial 18 pruned. \n"
     ]
    },
    {
     "name": "stderr",
     "output_type": "stream",
     "text": [
      "Best trial: 13. Best value: 0.841457: 100%|██████████| 20/20 [22:37<00:00, 67.88s/it]"
     ]
    },
    {
     "name": "stdout",
     "output_type": "stream",
     "text": [
      "[I 2025-06-04 16:21:45,588] Trial 19 pruned. \n",
      "Melhores hiperparâmetros: {'hidden_dim': 128, 'num_layers': 3, 'dropout': 0.33499437699310225, 'lr': 0.0022013924698543494, 'weight_decay': 1.2121510236798247e-06}\n"
     ]
    },
    {
     "name": "stderr",
     "output_type": "stream",
     "text": [
      "\n"
     ]
    }
   ],
   "source": [
    "import optuna\n",
    "from optuna.exceptions import TrialPruned\n",
    "\n",
    "device = torch.device(\"cuda\" if torch.cuda.is_available() else \"cpu\")\n",
    "\n",
    "def objective(trial):\n",
    "    hidden_dim = trial.suggest_categorical('hidden_dim', [64, 128, 256, 512])\n",
    "    num_layers = trial.suggest_int('num_layers', 1, 8)\n",
    "    dropout = trial.suggest_float('dropout', 0.1, 0.7)\n",
    "    lr = trial.suggest_loguniform('lr', 1e-5, 1e-2)\n",
    "    weight_decay = trial.suggest_loguniform('weight_decay', 1e-6, 1e-2)\n",
    "\n",
    "    lstm_model = LSTM(\n",
    "        clr_model=clr_model,\n",
    "        hidden_dim=hidden_dim,\n",
    "        num_layers=num_layers,\n",
    "        dropout=dropout\n",
    "    ).to(device)\n",
    "\n",
    "    optimizer = torch.optim.Adam(lstm_model.parameters(), lr=lr, weight_decay=weight_decay)\n",
    "    loss_function = nn.MSELoss(reduction='mean')\n",
    "\n",
    "    train_losses = []\n",
    "    val_losses = []\n",
    "\n",
    "    num_epochs = 10\n",
    "    for epoch in range(num_epochs):\n",
    "        lstm_model.train()\n",
    "        total_loss = 0.0\n",
    "        for batch_x, lengths, batch_y in train_dataloader:\n",
    "            batch_x = batch_x.to(device)\n",
    "            lengths = lengths.to(device)\n",
    "            batch_y = batch_y.to(device)\n",
    "            optimizer.zero_grad()\n",
    "            preds = lstm_model(batch_x, lengths)\n",
    "            loss = loss_function(preds, batch_y)\n",
    "            loss.backward()\n",
    "            optimizer.step()\n",
    "            total_loss += loss.item()\n",
    "        train_losses.append(total_loss)\n",
    "\n",
    "        # Validação\n",
    "        lstm_model.eval()\n",
    "        val_loss = 0.0\n",
    "        with torch.no_grad():\n",
    "            for batch_x, lengths, batch_y in val_dataloader:\n",
    "                batch_x = batch_x.to(device)\n",
    "                lengths = lengths.to(device)\n",
    "                batch_y = batch_y.to(device)\n",
    "                preds = lstm_model(batch_x, lengths)\n",
    "                loss = loss_function(preds, batch_y)\n",
    "                val_loss += loss.item()\n",
    "        val_losses.append(val_loss)\n",
    "\n",
    "        trial.report(val_loss, epoch)\n",
    "\n",
    "        if trial.should_prune():\n",
    "            raise TrialPruned()\n",
    "\n",
    "    return val_losses[-1]\n",
    "\n",
    "pruner = optuna.pruners.MedianPruner(n_startup_trials=3, n_warmup_steps=3)\n",
    "study  = optuna.create_study(direction='minimize', pruner=pruner)\n",
    "study.optimize(objective,\n",
    "               n_trials=20,        \n",
    "               n_jobs=1,\n",
    "               show_progress_bar=True)         \n",
    "print(\"Melhores hiperparâmetros:\", study.best_params)"
   ]
  },
  {
   "cell_type": "code",
   "execution_count": 54,
   "id": "840dab6d",
   "metadata": {},
   "outputs": [],
   "source": [
    "lstm_model = LSTM(clr_model=clr_model,hidden_dim=study.best_params[\"hidden_dim\"], num_layers=study.best_params['num_layers'], dropout=study.best_params['dropout'])\n",
    "\n",
    "criterion = nn.MSELoss(reduction='mean')\n",
    "optimizer = torch.optim.Adam(lstm_model.parameters(), lr=study.best_params['lr'], weight_decay=study.best_params['weight_decay'])"
   ]
  },
  {
   "cell_type": "code",
   "execution_count": 55,
   "id": "6e53e799",
   "metadata": {},
   "outputs": [
    {
     "name": "stdout",
     "output_type": "stream",
     "text": [
      "Epoch 1/300 — Train Loss: 4.9302 — Val Loss: 1.5028\n",
      "Epoch 2/300 — Train Loss: 2.6164 — Val Loss: 1.2166\n",
      "Epoch 3/300 — Train Loss: 2.3223 — Val Loss: 1.0022\n",
      "Epoch 4/300 — Train Loss: 2.1180 — Val Loss: 0.9256\n",
      "Epoch 5/300 — Train Loss: 2.0467 — Val Loss: 0.9815\n",
      "Epoch 6/300 — Train Loss: 1.9805 — Val Loss: 0.8414\n",
      "Epoch 7/300 — Train Loss: 1.9043 — Val Loss: 0.8688\n",
      "Epoch 8/300 — Train Loss: 1.8533 — Val Loss: 0.8399\n",
      "Epoch 9/300 — Train Loss: 1.8168 — Val Loss: 0.7825\n",
      "Epoch 10/300 — Train Loss: 1.7754 — Val Loss: 0.8027\n",
      "Epoch 11/300 — Train Loss: 1.7261 — Val Loss: 0.8600\n",
      "Epoch 12/300 — Train Loss: 1.6708 — Val Loss: 0.7975\n",
      "Epoch 13/300 — Train Loss: 1.6862 — Val Loss: 0.7237\n",
      "Epoch 14/300 — Train Loss: 1.6081 — Val Loss: 0.7275\n",
      "Epoch 15/300 — Train Loss: 1.6722 — Val Loss: 0.7172\n",
      "Epoch 16/300 — Train Loss: 1.5955 — Val Loss: 0.7097\n",
      "Epoch 17/300 — Train Loss: 1.6023 — Val Loss: 0.6867\n",
      "Epoch 18/300 — Train Loss: 1.5745 — Val Loss: 0.6869\n",
      "Epoch 19/300 — Train Loss: 1.5270 — Val Loss: 0.6831\n",
      "Epoch 20/300 — Train Loss: 1.5481 — Val Loss: 0.7294\n",
      "Epoch 21/300 — Train Loss: 1.4908 — Val Loss: 0.6503\n",
      "Epoch 22/300 — Train Loss: 1.5297 — Val Loss: 0.6559\n",
      "Epoch 23/300 — Train Loss: 1.5125 — Val Loss: 0.6742\n",
      "Epoch 24/300 — Train Loss: 1.5210 — Val Loss: 0.6539\n",
      "Epoch 25/300 — Train Loss: 1.4894 — Val Loss: 0.6343\n",
      "Epoch 26/300 — Train Loss: 1.4638 — Val Loss: 0.6418\n",
      "Epoch 27/300 — Train Loss: 1.5228 — Val Loss: 0.6581\n",
      "Epoch 28/300 — Train Loss: 1.4996 — Val Loss: 0.6694\n",
      "Epoch 29/300 — Train Loss: 1.4513 — Val Loss: 0.6465\n",
      "Epoch 30/300 — Train Loss: 1.5032 — Val Loss: 0.7081\n",
      "Epoch 31/300 — Train Loss: 1.4687 — Val Loss: 0.6327\n",
      "Epoch 32/300 — Train Loss: 1.4778 — Val Loss: 0.7714\n",
      "Epoch 33/300 — Train Loss: 1.4148 — Val Loss: 0.6576\n",
      "Epoch 34/300 — Train Loss: 1.4870 — Val Loss: 0.6624\n",
      "Epoch 35/300 — Train Loss: 1.4233 — Val Loss: 0.6554\n",
      "Epoch 36/300 — Train Loss: 1.4421 — Val Loss: 0.6524\n",
      "Epoch 37/300 — Train Loss: 1.3972 — Val Loss: 0.6438\n",
      "Epoch 38/300 — Train Loss: 1.4272 — Val Loss: 0.6675\n",
      "Epoch 39/300 — Train Loss: 1.4268 — Val Loss: 0.6543\n",
      "Epoch 40/300 — Train Loss: 1.4626 — Val Loss: 0.6088\n",
      "Epoch 41/300 — Train Loss: 1.4046 — Val Loss: 0.6116\n",
      "Epoch 42/300 — Train Loss: 1.3992 — Val Loss: 0.6434\n",
      "Epoch 43/300 — Train Loss: 1.4185 — Val Loss: 0.6277\n",
      "Epoch 44/300 — Train Loss: 1.4170 — Val Loss: 0.6730\n",
      "Epoch 45/300 — Train Loss: 1.4216 — Val Loss: 0.6115\n",
      "Epoch 46/300 — Train Loss: 1.3714 — Val Loss: 0.6227\n",
      "Epoch 47/300 — Train Loss: 1.4103 — Val Loss: 0.6502\n",
      "Epoch 48/300 — Train Loss: 1.4073 — Val Loss: 0.6445\n",
      "Epoch 49/300 — Train Loss: 1.3420 — Val Loss: 0.6898\n",
      "Epoch 50/300 — Train Loss: 1.3846 — Val Loss: 0.7028\n",
      "Epoch 51/300 — Train Loss: 1.4149 — Val Loss: 0.6545\n",
      "Epoch 52/300 — Train Loss: 1.3384 — Val Loss: 0.6515\n",
      "Epoch 53/300 — Train Loss: 1.3990 — Val Loss: 0.6430\n",
      "Epoch 54/300 — Train Loss: 1.3268 — Val Loss: 0.6179\n",
      "Epoch 55/300 — Train Loss: 1.3965 — Val Loss: 0.6166\n",
      "Epoch 56/300 — Train Loss: 1.4186 — Val Loss: 0.6533\n",
      "Epoch 57/300 — Train Loss: 1.3515 — Val Loss: 0.6382\n",
      "Epoch 58/300 — Train Loss: 1.3679 — Val Loss: 0.6411\n",
      "Epoch 59/300 — Train Loss: 1.3771 — Val Loss: 0.6511\n",
      "Epoch 60/300 — Train Loss: 1.3991 — Val Loss: 0.6349\n",
      "Epoch 61/300 — Train Loss: 1.3488 — Val Loss: 0.6395\n",
      "Epoch 62/300 — Train Loss: 1.3700 — Val Loss: 0.6478\n",
      "Epoch 63/300 — Train Loss: 1.4131 — Val Loss: 0.6541\n",
      "Epoch 64/300 — Train Loss: 1.3743 — Val Loss: 0.6913\n",
      "Epoch 65/300 — Train Loss: 1.3912 — Val Loss: 0.6172\n",
      "Epoch 66/300 — Train Loss: 1.3691 — Val Loss: 0.6473\n",
      "Epoch 67/300 — Train Loss: 1.3734 — Val Loss: 0.6423\n",
      "Epoch 68/300 — Train Loss: 1.4215 — Val Loss: 0.6380\n",
      "Epoch 69/300 — Train Loss: 1.3510 — Val Loss: 0.7165\n",
      "Epoch 70/300 — Train Loss: 1.3786 — Val Loss: 0.6804\n",
      "Epoch 71/300 — Train Loss: 1.3638 — Val Loss: 0.6288\n",
      "Epoch 72/300 — Train Loss: 1.3607 — Val Loss: 0.6695\n",
      "Epoch 73/300 — Train Loss: 1.3696 — Val Loss: 0.6418\n",
      "Epoch 74/300 — Train Loss: 1.3987 — Val Loss: 0.6184\n",
      "Epoch 75/300 — Train Loss: 1.3488 — Val Loss: 0.6944\n",
      "Epoch 76/300 — Train Loss: 1.3686 — Val Loss: 0.6337\n",
      "Epoch 77/300 — Train Loss: 1.3800 — Val Loss: 0.6210\n",
      "Epoch 78/300 — Train Loss: 1.3554 — Val Loss: 0.7097\n",
      "Epoch 79/300 — Train Loss: 1.3857 — Val Loss: 0.6466\n",
      "Epoch 80/300 — Train Loss: 1.3764 — Val Loss: 0.6454\n",
      "Epoch 81/300 — Train Loss: 1.3238 — Val Loss: 0.6197\n",
      "Epoch 82/300 — Train Loss: 1.3606 — Val Loss: 0.6288\n",
      "Epoch 83/300 — Train Loss: 1.3424 — Val Loss: 0.6332\n",
      "Epoch 84/300 — Train Loss: 1.3088 — Val Loss: 0.6403\n",
      "Epoch 85/300 — Train Loss: 1.4131 — Val Loss: 0.6794\n",
      "Epoch 86/300 — Train Loss: 1.3870 — Val Loss: 0.6708\n",
      "Epoch 87/300 — Train Loss: 1.3453 — Val Loss: 0.7058\n",
      "Epoch 88/300 — Train Loss: 1.3712 — Val Loss: 0.6495\n",
      "Epoch 89/300 — Train Loss: 1.3163 — Val Loss: 0.6467\n",
      "Epoch 90/300 — Train Loss: 1.3522 — Val Loss: 0.6380\n",
      "Epoch 91/300 — Train Loss: 1.3179 — Val Loss: 0.6257\n",
      "Epoch 92/300 — Train Loss: 1.3256 — Val Loss: 0.6430\n",
      "Epoch 93/300 — Train Loss: 1.3677 — Val Loss: 0.6051\n",
      "Epoch 94/300 — Train Loss: 1.3296 — Val Loss: 0.6810\n",
      "Epoch 95/300 — Train Loss: 1.4200 — Val Loss: 0.6238\n",
      "Epoch 96/300 — Train Loss: 1.2998 — Val Loss: 0.6120\n",
      "Epoch 97/300 — Train Loss: 1.4191 — Val Loss: 0.7045\n",
      "Epoch 98/300 — Train Loss: 1.2789 — Val Loss: 0.6364\n",
      "Epoch 99/300 — Train Loss: 1.3795 — Val Loss: 0.6810\n",
      "Epoch 100/300 — Train Loss: 1.3315 — Val Loss: 0.6296\n",
      "Epoch 101/300 — Train Loss: 1.3267 — Val Loss: 0.6893\n",
      "Epoch 102/300 — Train Loss: 1.3240 — Val Loss: 0.6630\n",
      "Epoch 103/300 — Train Loss: 1.3511 — Val Loss: 0.6440\n",
      "Epoch 104/300 — Train Loss: 1.3913 — Val Loss: 0.6381\n",
      "Epoch 105/300 — Train Loss: 1.2996 — Val Loss: 0.6518\n",
      "Epoch 106/300 — Train Loss: 1.3446 — Val Loss: 0.6875\n",
      "Epoch 107/300 — Train Loss: 1.3437 — Val Loss: 0.6717\n",
      "Epoch 108/300 — Train Loss: 1.3448 — Val Loss: 0.6800\n",
      "Epoch 109/300 — Train Loss: 1.3658 — Val Loss: 0.6363\n",
      "Epoch 110/300 — Train Loss: 1.3311 — Val Loss: 0.6958\n",
      "Epoch 111/300 — Train Loss: 1.3508 — Val Loss: 0.6020\n",
      "Epoch 112/300 — Train Loss: 1.3082 — Val Loss: 0.6229\n",
      "Epoch 113/300 — Train Loss: 1.4049 — Val Loss: 0.6255\n",
      "Epoch 114/300 — Train Loss: 1.3606 — Val Loss: 0.6483\n",
      "Epoch 115/300 — Train Loss: 1.3316 — Val Loss: 0.8106\n",
      "Epoch 116/300 — Train Loss: 1.4203 — Val Loss: 0.6351\n",
      "Epoch 117/300 — Train Loss: 1.3136 — Val Loss: 0.6935\n",
      "Epoch 118/300 — Train Loss: 1.2920 — Val Loss: 0.6361\n",
      "Epoch 119/300 — Train Loss: 1.3255 — Val Loss: 0.6922\n",
      "Epoch 120/300 — Train Loss: 1.3262 — Val Loss: 0.5962\n",
      "Epoch 121/300 — Train Loss: 1.3702 — Val Loss: 0.6064\n",
      "Epoch 122/300 — Train Loss: 1.3043 — Val Loss: 0.6731\n",
      "Epoch 123/300 — Train Loss: 1.3391 — Val Loss: 0.6692\n",
      "Epoch 124/300 — Train Loss: 1.3418 — Val Loss: 0.6165\n",
      "Epoch 125/300 — Train Loss: 1.3708 — Val Loss: 0.6247\n",
      "Epoch 126/300 — Train Loss: 1.3092 — Val Loss: 0.6702\n",
      "Epoch 127/300 — Train Loss: 1.3507 — Val Loss: 0.6366\n",
      "Epoch 128/300 — Train Loss: 1.3399 — Val Loss: 0.7049\n",
      "Epoch 129/300 — Train Loss: 1.3183 — Val Loss: 0.6398\n",
      "Epoch 130/300 — Train Loss: 1.3023 — Val Loss: 0.6080\n",
      "Epoch 131/300 — Train Loss: 1.3056 — Val Loss: 0.6268\n",
      "Epoch 132/300 — Train Loss: 1.3886 — Val Loss: 0.6453\n",
      "Epoch 133/300 — Train Loss: 1.3590 — Val Loss: 0.6199\n",
      "Epoch 134/300 — Train Loss: 1.2831 — Val Loss: 0.6488\n",
      "Epoch 135/300 — Train Loss: 1.3909 — Val Loss: 0.6697\n",
      "Epoch 136/300 — Train Loss: 1.3901 — Val Loss: 0.6263\n",
      "Epoch 137/300 — Train Loss: 1.3118 — Val Loss: 0.6059\n",
      "Epoch 138/300 — Train Loss: 1.4048 — Val Loss: 0.6263\n",
      "Epoch 139/300 — Train Loss: 1.2763 — Val Loss: 0.6733\n",
      "Epoch 140/300 — Train Loss: 1.3996 — Val Loss: 0.6041\n",
      "Epoch 141/300 — Train Loss: 1.3041 — Val Loss: 0.6391\n",
      "Epoch 142/300 — Train Loss: 1.3269 — Val Loss: 0.6500\n",
      "Epoch 143/300 — Train Loss: 1.3102 — Val Loss: 0.6393\n",
      "Epoch 144/300 — Train Loss: 1.3196 — Val Loss: 0.6641\n",
      "Epoch 145/300 — Train Loss: 1.3935 — Val Loss: 0.6466\n",
      "Epoch 146/300 — Train Loss: 1.3488 — Val Loss: 0.6641\n",
      "Epoch 147/300 — Train Loss: 1.2849 — Val Loss: 0.6908\n",
      "Epoch 148/300 — Train Loss: 1.3079 — Val Loss: 0.6081\n",
      "Epoch 149/300 — Train Loss: 1.3453 — Val Loss: 0.6545\n",
      "Epoch 150/300 — Train Loss: 1.3491 — Val Loss: 0.6399\n",
      "Epoch 151/300 — Train Loss: 1.3659 — Val Loss: 0.6106\n",
      "Epoch 152/300 — Train Loss: 1.3264 — Val Loss: 0.6111\n",
      "Epoch 153/300 — Train Loss: 1.3274 — Val Loss: 0.6851\n",
      "Epoch 154/300 — Train Loss: 1.3315 — Val Loss: 0.6138\n",
      "Epoch 155/300 — Train Loss: 1.3246 — Val Loss: 0.6552\n",
      "Epoch 156/300 — Train Loss: 1.2881 — Val Loss: 0.6138\n",
      "Epoch 157/300 — Train Loss: 1.3475 — Val Loss: 0.6877\n",
      "Epoch 158/300 — Train Loss: 1.4039 — Val Loss: 0.5996\n",
      "Epoch 159/300 — Train Loss: 1.2924 — Val Loss: 0.6225\n",
      "Epoch 160/300 — Train Loss: 1.3252 — Val Loss: 0.6600\n",
      "Epoch 161/300 — Train Loss: 1.3073 — Val Loss: 0.6420\n",
      "Epoch 162/300 — Train Loss: 1.4432 — Val Loss: 0.6368\n",
      "Epoch 163/300 — Train Loss: 1.3857 — Val Loss: 0.6188\n",
      "Epoch 164/300 — Train Loss: 1.2732 — Val Loss: 0.7294\n",
      "Epoch 165/300 — Train Loss: 1.3117 — Val Loss: 0.6197\n",
      "Epoch 166/300 — Train Loss: 1.4241 — Val Loss: 0.6185\n",
      "Epoch 167/300 — Train Loss: 1.2965 — Val Loss: 0.6281\n",
      "Epoch 168/300 — Train Loss: 1.2940 — Val Loss: 0.6232\n",
      "Epoch 169/300 — Train Loss: 1.3721 — Val Loss: 0.7190\n",
      "Epoch 170/300 — Train Loss: 1.3844 — Val Loss: 0.6248\n",
      "Epoch 171/300 — Train Loss: 1.4145 — Val Loss: 0.7255\n",
      "Epoch 172/300 — Train Loss: 1.3003 — Val Loss: 0.5823\n",
      "Epoch 173/300 — Train Loss: 1.2972 — Val Loss: 0.6145\n",
      "Epoch 174/300 — Train Loss: 1.3343 — Val Loss: 0.7522\n",
      "Epoch 175/300 — Train Loss: 1.3752 — Val Loss: 0.6311\n",
      "Epoch 176/300 — Train Loss: 1.4277 — Val Loss: 0.6226\n",
      "Epoch 177/300 — Train Loss: 1.3164 — Val Loss: 0.6664\n",
      "Epoch 178/300 — Train Loss: 1.3481 — Val Loss: 0.6747\n",
      "Epoch 179/300 — Train Loss: 1.2941 — Val Loss: 0.6294\n",
      "Epoch 180/300 — Train Loss: 1.3527 — Val Loss: 0.6430\n",
      "Epoch 181/300 — Train Loss: 1.3378 — Val Loss: 0.6402\n",
      "Epoch 182/300 — Train Loss: 1.2784 — Val Loss: 0.6466\n",
      "Epoch 183/300 — Train Loss: 1.3850 — Val Loss: 0.6815\n",
      "Epoch 184/300 — Train Loss: 1.3234 — Val Loss: 0.6509\n",
      "Epoch 185/300 — Train Loss: 1.3218 — Val Loss: 0.6360\n",
      "Epoch 186/300 — Train Loss: 1.3283 — Val Loss: 0.6312\n",
      "Epoch 187/300 — Train Loss: 1.3352 — Val Loss: 0.6217\n",
      "Epoch 188/300 — Train Loss: 1.3102 — Val Loss: 0.6455\n",
      "Epoch 189/300 — Train Loss: 1.2939 — Val Loss: 0.6078\n",
      "Epoch 190/300 — Train Loss: 1.4046 — Val Loss: 0.6058\n",
      "Epoch 191/300 — Train Loss: 1.2827 — Val Loss: 0.6135\n",
      "Epoch 192/300 — Train Loss: 1.3349 — Val Loss: 0.6134\n",
      "Epoch 193/300 — Train Loss: 1.3203 — Val Loss: 0.6137\n",
      "Epoch 194/300 — Train Loss: 1.3962 — Val Loss: 0.6964\n",
      "Epoch 195/300 — Train Loss: 1.3058 — Val Loss: 0.5901\n",
      "Epoch 196/300 — Train Loss: 1.3391 — Val Loss: 0.7211\n",
      "Epoch 197/300 — Train Loss: 1.3698 — Val Loss: 0.6709\n",
      "Epoch 198/300 — Train Loss: 1.2932 — Val Loss: 0.6178\n",
      "Epoch 199/300 — Train Loss: 1.3125 — Val Loss: 0.6218\n",
      "Epoch 200/300 — Train Loss: 1.3327 — Val Loss: 0.6162\n",
      "Epoch 201/300 — Train Loss: 1.3471 — Val Loss: 0.6186\n",
      "Epoch 202/300 — Train Loss: 1.3483 — Val Loss: 0.6359\n",
      "Epoch 203/300 — Train Loss: 1.2848 — Val Loss: 0.6363\n",
      "Epoch 204/300 — Train Loss: 1.3287 — Val Loss: 0.6054\n",
      "Epoch 205/300 — Train Loss: 1.3616 — Val Loss: 0.5854\n",
      "Epoch 206/300 — Train Loss: 1.2808 — Val Loss: 0.7921\n",
      "Epoch 207/300 — Train Loss: 1.3258 — Val Loss: 0.5953\n",
      "Epoch 208/300 — Train Loss: 1.3297 — Val Loss: 0.7271\n",
      "Epoch 209/300 — Train Loss: 1.2981 — Val Loss: 0.6679\n",
      "Epoch 210/300 — Train Loss: 1.2798 — Val Loss: 0.6268\n",
      "Epoch 211/300 — Train Loss: 1.2993 — Val Loss: 0.6468\n",
      "Epoch 212/300 — Train Loss: 1.2817 — Val Loss: 0.6418\n",
      "Epoch 213/300 — Train Loss: 1.3656 — Val Loss: 0.6097\n",
      "Epoch 214/300 — Train Loss: 1.2906 — Val Loss: 0.6837\n",
      "Epoch 215/300 — Train Loss: 1.3906 — Val Loss: 0.7311\n",
      "Epoch 216/300 — Train Loss: 1.3056 — Val Loss: 0.6075\n",
      "Epoch 217/300 — Train Loss: 1.2833 — Val Loss: 0.6249\n",
      "Epoch 218/300 — Train Loss: 1.2892 — Val Loss: 0.5947\n",
      "Epoch 219/300 — Train Loss: 1.2926 — Val Loss: 0.6265\n",
      "Epoch 220/300 — Train Loss: 1.3441 — Val Loss: 0.6404\n",
      "Epoch 221/300 — Train Loss: 1.3472 — Val Loss: 0.5956\n",
      "Epoch 222/300 — Train Loss: 1.3369 — Val Loss: 0.6553\n",
      "Epoch 223/300 — Train Loss: 1.2875 — Val Loss: 0.5820\n",
      "Epoch 224/300 — Train Loss: 1.3590 — Val Loss: 0.6338\n",
      "Epoch 225/300 — Train Loss: 1.3057 — Val Loss: 0.6451\n",
      "Epoch 226/300 — Train Loss: 1.3363 — Val Loss: 0.6490\n",
      "Epoch 227/300 — Train Loss: 1.2851 — Val Loss: 0.6522\n",
      "Epoch 228/300 — Train Loss: 1.3404 — Val Loss: 0.6269\n",
      "Epoch 229/300 — Train Loss: 1.3438 — Val Loss: 0.6348\n",
      "Epoch 230/300 — Train Loss: 1.2915 — Val Loss: 0.6223\n",
      "Epoch 231/300 — Train Loss: 1.2910 — Val Loss: 0.6492\n",
      "Epoch 232/300 — Train Loss: 1.2947 — Val Loss: 0.6015\n",
      "Epoch 233/300 — Train Loss: 1.3180 — Val Loss: 0.6292\n",
      "Epoch 234/300 — Train Loss: 1.3211 — Val Loss: 0.7290\n",
      "Epoch 235/300 — Train Loss: 1.2770 — Val Loss: 0.6091\n",
      "Epoch 236/300 — Train Loss: 1.3098 — Val Loss: 0.6953\n",
      "Epoch 237/300 — Train Loss: 1.2693 — Val Loss: 0.6637\n",
      "Epoch 238/300 — Train Loss: 1.2891 — Val Loss: 0.6057\n",
      "Epoch 239/300 — Train Loss: 1.2713 — Val Loss: 0.6723\n",
      "Epoch 240/300 — Train Loss: 1.3306 — Val Loss: 0.6053\n",
      "Epoch 241/300 — Train Loss: 1.3108 — Val Loss: 0.6963\n",
      "Epoch 242/300 — Train Loss: 1.3441 — Val Loss: 0.6402\n",
      "Epoch 243/300 — Train Loss: 1.3203 — Val Loss: 0.6132\n",
      "Epoch 244/300 — Train Loss: 1.3717 — Val Loss: 0.6143\n",
      "Epoch 245/300 — Train Loss: 1.2764 — Val Loss: 0.6380\n",
      "Epoch 246/300 — Train Loss: 1.2844 — Val Loss: 0.6168\n",
      "Epoch 247/300 — Train Loss: 1.3624 — Val Loss: 0.6459\n",
      "Epoch 248/300 — Train Loss: 1.2627 — Val Loss: 0.6425\n",
      "Epoch 249/300 — Train Loss: 1.3535 — Val Loss: 0.5937\n",
      "Epoch 250/300 — Train Loss: 1.2926 — Val Loss: 0.6139\n",
      "Epoch 251/300 — Train Loss: 1.3386 — Val Loss: 0.6343\n",
      "Epoch 252/300 — Train Loss: 1.2635 — Val Loss: 0.6381\n",
      "Epoch 253/300 — Train Loss: 1.3002 — Val Loss: 0.6483\n",
      "Epoch 254/300 — Train Loss: 1.3356 — Val Loss: 0.5715\n",
      "Epoch 255/300 — Train Loss: 1.2735 — Val Loss: 0.6123\n",
      "Epoch 256/300 — Train Loss: 1.3060 — Val Loss: 0.6471\n",
      "Epoch 257/300 — Train Loss: 1.2769 — Val Loss: 0.6120\n",
      "Epoch 258/300 — Train Loss: 1.2777 — Val Loss: 0.6043\n",
      "Epoch 259/300 — Train Loss: 1.2628 — Val Loss: 0.5971\n",
      "Epoch 260/300 — Train Loss: 1.3095 — Val Loss: 0.6130\n",
      "Epoch 261/300 — Train Loss: 1.3339 — Val Loss: 0.6126\n",
      "Epoch 262/300 — Train Loss: 1.2771 — Val Loss: 0.5712\n",
      "Epoch 263/300 — Train Loss: 1.2737 — Val Loss: 0.6100\n",
      "Epoch 264/300 — Train Loss: 1.3299 — Val Loss: 0.6306\n",
      "Epoch 265/300 — Train Loss: 1.3156 — Val Loss: 0.6041\n",
      "Epoch 266/300 — Train Loss: 1.3326 — Val Loss: 0.5813\n",
      "Epoch 267/300 — Train Loss: 1.3026 — Val Loss: 0.5913\n",
      "Epoch 268/300 — Train Loss: 1.2891 — Val Loss: 0.5983\n",
      "Epoch 269/300 — Train Loss: 1.2633 — Val Loss: 0.5942\n",
      "Epoch 270/300 — Train Loss: 1.3875 — Val Loss: 0.6185\n",
      "Epoch 271/300 — Train Loss: 1.2583 — Val Loss: 0.6174\n",
      "Epoch 272/300 — Train Loss: 1.2777 — Val Loss: 0.6047\n",
      "Epoch 273/300 — Train Loss: 1.4212 — Val Loss: 0.6750\n",
      "Epoch 274/300 — Train Loss: 1.2599 — Val Loss: 0.6576\n",
      "Epoch 275/300 — Train Loss: 1.2792 — Val Loss: 0.6738\n",
      "Epoch 276/300 — Train Loss: 1.3021 — Val Loss: 0.6376\n",
      "Epoch 277/300 — Train Loss: 1.3250 — Val Loss: 0.6890\n",
      "Epoch 278/300 — Train Loss: 1.2530 — Val Loss: 0.6128\n",
      "Epoch 279/300 — Train Loss: 1.4530 — Val Loss: 0.6176\n",
      "Epoch 280/300 — Train Loss: 1.3252 — Val Loss: 0.6192\n",
      "Epoch 281/300 — Train Loss: 1.2852 — Val Loss: 0.7258\n",
      "Epoch 282/300 — Train Loss: 1.2957 — Val Loss: 0.5883\n",
      "Epoch 283/300 — Train Loss: 1.2804 — Val Loss: 0.6005\n",
      "Epoch 284/300 — Train Loss: 1.2873 — Val Loss: 0.5926\n",
      "Epoch 285/300 — Train Loss: 1.2621 — Val Loss: 0.6174\n",
      "Epoch 286/300 — Train Loss: 1.2900 — Val Loss: 0.6128\n",
      "Epoch 287/300 — Train Loss: 1.3354 — Val Loss: 0.6447\n",
      "Epoch 288/300 — Train Loss: 1.3648 — Val Loss: 0.6984\n",
      "Epoch 289/300 — Train Loss: 1.3150 — Val Loss: 0.6419\n",
      "Epoch 290/300 — Train Loss: 1.3395 — Val Loss: 0.6167\n",
      "Epoch 291/300 — Train Loss: 1.2716 — Val Loss: 0.6310\n",
      "Epoch 292/300 — Train Loss: 1.2866 — Val Loss: 0.6987\n",
      "Epoch 293/300 — Train Loss: 1.2887 — Val Loss: 0.5871\n",
      "Epoch 294/300 — Train Loss: 1.3040 — Val Loss: 0.5800\n",
      "Epoch 295/300 — Train Loss: 1.2571 — Val Loss: 0.6640\n",
      "Epoch 296/300 — Train Loss: 1.3390 — Val Loss: 0.6455\n",
      "Epoch 297/300 — Train Loss: 1.2738 — Val Loss: 0.5789\n",
      "Epoch 298/300 — Train Loss: 1.2853 — Val Loss: 0.5774\n",
      "Epoch 299/300 — Train Loss: 1.2877 — Val Loss: 0.5690\n",
      "Epoch 300/300 — Train Loss: 1.2708 — Val Loss: 0.5770\n"
     ]
    }
   ],
   "source": [
    "train_losses, val_losses = train_model(model=lstm_model, train_loader=train_dataloader, val_loader=val_dataloader, num_epochs=300, criterion=criterion, optimizer=optimizer, device=device)"
   ]
  },
  {
   "cell_type": "code",
   "execution_count": 19,
   "id": "546acab0",
   "metadata": {},
   "outputs": [
    {
     "data": {
      "image/png": "[encoded data removed]",
      "text/plain": [
       "<Figure size 640x480 with 1 Axes>"
      ]
     },
     "metadata": {},
     "output_type": "display_data"
    }
   ],
   "source": [
    "import matplotlib.pyplot as plt\n",
    "\n",
    "plt.plot(train_losses)\n",
    "plt.plot(val_losses)\n",
    "plt.show()"
   ]
  },
  {
   "cell_type": "code",
   "execution_count": null,
   "id": "d060a488",
   "metadata": {},
   "outputs": [],
   "source": [
    "lstm_model.load_state_dict(\"best_lstm_predictor.pth\")"
   ]
  },
  {
   "cell_type": "code",
   "execution_count": 20,
   "id": "f3300d1a",
   "metadata": {},
   "outputs": [
    {
     "name": "stdout",
     "output_type": "stream",
     "text": [
      "Erro de Teste: 0.0005612295353785157\n"
     ]
    },
    {
     "data": {
      "image/png": "[encoded data removed]",
      "text/plain": [
       "<Figure size 640x480 with 1 Axes>"
      ]
     },
     "metadata": {},
     "output_type": "display_data"
    }
   ],
   "source": [
    "from sklearn.metrics import r2_score\n",
    "\n",
    "test_dataloader = DataLoader(test_data, batch_size=32, collate_fn=collate_fn)\n",
    "\n",
    "\n",
    "predictions_test = []\n",
    "targets_test = []\n",
    "\n",
    "loss_function = nn.MSELoss(reduction='mean')\n",
    "\n",
    "with torch.no_grad():\n",
    "    for batch_x, lengths, batch_y in test_dataloader:\n",
    "        batch_x = batch_x.to(device)\n",
    "        lengths = lengths.to(device)\n",
    "        batch_y = batch_y.to(device)\n",
    "\n",
    "        preds = lstm_model(batch_x, lengths)\n",
    "        predictions_test.append(preds)\n",
    "        targets_test.append(batch_y)\n",
    "\n",
    "# Concatena todos os tensores da lista\n",
    "predictions_test = torch.cat(predictions_test, dim=0)\n",
    "targets_test = torch.cat(targets_test, dim=0)\n",
    "\n",
    "erro_test = loss_function(predictions_test, targets_test)\n",
    "print(f\"Erro de Teste: {erro_test.item()}\")\n",
    "\n",
    "# Desfaz a normalização\n",
    "y_true = scaler.inverse_transform(targets_test.cpu().numpy().reshape(-1, 1)).flatten()\n",
    "y_pred = scaler.inverse_transform(predictions_test.cpu().numpy().reshape(-1, 1)).flatten()\n",
    "\n",
    "r2 = r2_score(y_true=y_true, y_pred=y_pred)\n",
    "\n",
    "# Gráfico real x predito\n",
    "import matplotlib.pyplot as plt\n",
    "plt.plot([min(y_true), max(y_true)], [min(y_true), max(y_true)], 'r--', label='Real')\n",
    "plt.scatter(y_true, y_pred, alpha=0.7)\n",
    "plt.xlabel('y (real)')\n",
    "plt.ylabel('y (predito)')\n",
    "plt.title(f\"R² = {r2}\")\n",
    "plt.legend()\n",
    "plt.show()"
   ]
  }
 ],
 "metadata": {
  "kernelspec": {
   "display_name": "venv",
   "language": "python",
   "name": "python3"
  },
  "language_info": {
   "codemirror_mode": {
    "name": "ipython",
    "version": 3
   },
   "file_extension": ".py",
   "mimetype": "text/x-python",
   "name": "python",
   "nbconvert_exporter": "python",
   "pygments_lexer": "ipython3",
   "version": "3.13.3"
  }
 },
 "nbformat": 4,
 "nbformat_minor": 5
}
