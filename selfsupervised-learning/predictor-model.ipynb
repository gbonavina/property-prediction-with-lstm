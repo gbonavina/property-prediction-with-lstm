{
 "cells": [
  {
   "cell_type": "code",
   "execution_count": 1,
   "id": "af47f509",
   "metadata": {},
   "outputs": [],
   "source": [
    "import torch\n",
    "import torch.nn as nn \n",
    "import torch.nn.functional as F\n",
    "import torch.nn.utils.rnn as rnn_utils\n",
    "import pandas as pd\n",
    "from sklearn.preprocessing import StandardScaler\n",
    "from sklearn.model_selection import train_test_split\n",
    "import numpy as np"
   ]
  },
  {
   "cell_type": "code",
   "execution_count": 2,
   "id": "67db0da4",
   "metadata": {},
   "outputs": [
    {
     "data": {
      "text/plain": [
       "device(type='cuda')"
      ]
     },
     "execution_count": 2,
     "metadata": {},
     "output_type": "execute_result"
    }
   ],
   "source": [
    "device = torch.device('cuda' if torch.cuda.is_available() else 'cpu')\n",
    "device"
   ]
  },
  {
   "cell_type": "markdown",
   "id": "909fad5c",
   "metadata": {},
   "source": [
    "# Importar o modelo contrastivo desenvolvido anteriormente"
   ]
  },
  {
   "cell_type": "code",
   "execution_count": 3,
   "id": "e9970409",
   "metadata": {},
   "outputs": [],
   "source": [
    "# fiz sem o bidirectional, não sei se é necessário para o meu teste simples \n",
    "class SMILESEncoder(torch.nn.Module):\n",
    "    def __init__(self, vocab_size, max_len, padding_idx, embedding_dim=64, dim=128, num_layers=1):\n",
    "        super(SMILESEncoder, self).__init__()\n",
    "\n",
    "        self.vocab_size = vocab_size\n",
    "        self.max_len = max_len\n",
    "        self.padding_idx = padding_idx\n",
    "        self.embedding_dim = embedding_dim\n",
    "        self.dim = dim\n",
    "        self.num_layers = num_layers\n",
    "\n",
    "        self.encoder = torch.nn.LSTM(self.embedding_dim, self.dim, self.num_layers, batch_first=True)\n",
    "\n",
    "    def forward(self, x, lengths):\n",
    "        batch_size = x.size(0)\n",
    "        seq_len = x.size(1)\n",
    "        \n",
    "        valid_lengths = torch.clamp(lengths, min=1, max=seq_len)\n",
    "        \n",
    "        # Mover lengths para a CPU antes de empacotar\n",
    "        lengths_on_cpu = valid_lengths.cpu()\n",
    "        \n",
    "        x_packed = rnn_utils.pack_padded_sequence(\n",
    "            x, lengths=lengths_on_cpu, batch_first=True, enforce_sorted=False\n",
    "        )\n",
    "\n",
    "        _, (hidden, _) = self.encoder(x_packed)\n",
    "        return hidden[-1]\n",
    "    \n",
    "class CLRNet(torch.nn.Module):\n",
    "    def __init__(self, vocab_size, max_len, padding_idx, embedding_dim=64, dim=128, num_layers=1):\n",
    "        super(CLRNet, self).__init__()\n",
    "\n",
    "        self.vocab_size = vocab_size\n",
    "        self.max_len = max_len\n",
    "        self.padding_idx = padding_idx\n",
    "        self.embedding_dim = embedding_dim\n",
    "        self.dim = dim\n",
    "        self.num_layers = num_layers\n",
    "\n",
    "        self.emb = torch.nn.Embedding(\n",
    "            num_embeddings=self.vocab_size, \n",
    "            padding_idx=self.padding_idx,\n",
    "            embedding_dim=self.embedding_dim, \n",
    "        )\n",
    "\n",
    "        # definindo as duas redes LSTM responsáveis pelo aprendizado contrastivo\n",
    "        self.SMILESEnc1 = SMILESEncoder(vocab_size=self.vocab_size, max_len=self.max_len, padding_idx=self.padding_idx,\n",
    "                                        embedding_dim=self.embedding_dim, dim=2*self.dim, num_layers=self.num_layers)\n",
    "        \n",
    "\n",
    "        self.SMILESEnc2 = SMILESEncoder(vocab_size=self.vocab_size, max_len=self.max_len, padding_idx=self.padding_idx,\n",
    "                                        embedding_dim=self.embedding_dim, dim=2*self.dim, num_layers=self.num_layers)\n",
    "        \n",
    "        # cabeça de projeção MLP\n",
    "        self.projection_head = torch.nn.Sequential(\n",
    "            torch.nn.Linear(2*self.dim, 4 * self.dim),\n",
    "            torch.nn.BatchNorm1d(4 * self.dim),\n",
    "            torch.nn.ReLU(inplace=True),\n",
    "            torch.nn.Linear(4*self.dim, 6*self.dim, bias=False)\n",
    "        )\n",
    "    \n",
    "    def forward(self, smi, random_smi, smi_len, random_smi_len):\n",
    "        x = self.emb(smi)\n",
    "        \n",
    "        x1 = self.emb(random_smi)\n",
    "        \n",
    "        enc1 = self.SMILESEnc1(x, smi_len)\n",
    "        enc2 = self.SMILESEnc2(x1, random_smi_len)\n",
    "        \n",
    "        return F.normalize(self.projection_head(enc1), dim=1), F.normalize(self.projection_head(enc2), dim=1)"
   ]
  },
  {
   "cell_type": "code",
   "execution_count": 4,
   "id": "ada76a9b",
   "metadata": {},
   "outputs": [
    {
     "name": "stderr",
     "output_type": "stream",
     "text": [
      "C:\\Users\\Gabriel\\AppData\\Local\\Temp\\ipykernel_14252\\1547071262.py:2: FutureWarning: You are using `torch.load` with `weights_only=False` (the current default value), which uses the default pickle module implicitly. It is possible to construct malicious pickle data which will execute arbitrary code during unpickling (See https://github.com/pytorch/pytorch/blob/main/SECURITY.md#untrusted-models for more details). In a future release, the default value for `weights_only` will be flipped to `True`. This limits the functions that could be executed during unpickling. Arbitrary objects will no longer be allowed to be loaded via this mode unless they are explicitly allowlisted by the user via `torch.serialization.add_safe_globals`. We recommend you start setting `weights_only=True` for any use case where you don't have full control of the loaded file. Please open an issue on GitHub for any issues related to this experimental feature.\n",
      "  clr_model.load_state_dict(torch.load(\"clr_model.pth\"))\n"
     ]
    },
    {
     "data": {
      "text/plain": [
       "CLRNet(\n",
       "  (emb): Embedding(82, 64, padding_idx=81)\n",
       "  (SMILESEnc1): SMILESEncoder(\n",
       "    (encoder): LSTM(64, 256, batch_first=True)\n",
       "  )\n",
       "  (SMILESEnc2): SMILESEncoder(\n",
       "    (encoder): LSTM(64, 256, batch_first=True)\n",
       "  )\n",
       "  (projection_head): Sequential(\n",
       "    (0): Linear(in_features=256, out_features=512, bias=True)\n",
       "    (1): BatchNorm1d(512, eps=1e-05, momentum=0.1, affine=True, track_running_stats=True)\n",
       "    (2): ReLU(inplace=True)\n",
       "    (3): Linear(in_features=512, out_features=768, bias=False)\n",
       "  )\n",
       ")"
      ]
     },
     "execution_count": 4,
     "metadata": {},
     "output_type": "execute_result"
    }
   ],
   "source": [
    "clr_model = CLRNet(vocab_size=82, max_len=24, padding_idx=81)\n",
    "clr_model.load_state_dict(torch.load(\"clr_model.pth\"))\n",
    "clr_model.to(device)"
   ]
  },
  {
   "cell_type": "markdown",
   "id": "b73ce902",
   "metadata": {},
   "source": [
    "# Definindo os dados"
   ]
  },
  {
   "cell_type": "code",
   "execution_count": 5,
   "id": "58f1b1fd",
   "metadata": {},
   "outputs": [
    {
     "data": {
      "application/vnd.microsoft.datawrangler.viewer.v0+json": {
       "columns": [
        {
         "name": "index",
         "rawType": "int64",
         "type": "integer"
        },
        {
         "name": "SMILES_1",
         "rawType": "object",
         "type": "string"
        },
        {
         "name": "SMILES_2",
         "rawType": "object",
         "type": "string"
        },
        {
         "name": "INCHI_1",
         "rawType": "object",
         "type": "string"
        },
        {
         "name": "INCHI_2",
         "rawType": "object",
         "type": "string"
        },
        {
         "name": "Property_0",
         "rawType": "float64",
         "type": "float"
        }
       ],
       "conversionMethod": "pd.DataFrame",
       "ref": "cbc6dd38-942c-47c9-abc9-dfd63292af52",
       "rows": [
        [
         "0",
         "OC1COC(=N)C1=O",
         "O[C@H]1CO[C]([NH])C1=O",
         "InChI=1S/C4H5NO3/c5-4-3(7)2(6)1-8-4/h2,5-6H,1H2",
         "InChI=1S/C4H5NO3/c5-4-3(7)2(6)1-8-4/h2,5-6H,1H2/t2-/m0/s1",
         "3.49649"
        ],
        [
         "1",
         "CN(C)C(=O)C=O",
         "CN(C)C(=O)C=O",
         "InChI=1S/C4H7NO2/c1-5(2)4(7)3-6/h3H,1-2H3",
         "InChI=1S/C4H7NO2/c1-5(2)4(7)3-6/h3H,1-2H3",
         "3.92544"
        ],
        [
         "2",
         "C1C2CC3N=COCC123",
         "C1[C@H]2C[C@@H]3N=COC[C@]123",
         "InChI=1S/C7H9NO/c1-5-2-7(5)3-9-4-8-6(1)7/h4-6H,1-3H2",
         "InChI=1S/C7H9NO/c1-5-2-7(5)3-9-4-8-6(1)7/h4-6H,1-3H2/t5-,6+,7-/m1/s1",
         "3.02103"
        ],
        [
         "3",
         "OC1C2OC3CC2C13O",
         "O[C@H]1[C@H]2O[C@@H]3C[C@H]2[C@]13O",
         "InChI=1S/C6H8O3/c7-5-4-2-1-3(9-4)6(2,5)8/h2-5,7-8H,1H2",
         "InChI=1S/C6H8O3/c7-5-4-2-1-3(9-4)6(2,5)8/h2-5,7-8H,1H2/t2-,3-,4+,5+,6-/m1/s1",
         "2.52006"
        ],
        [
         "4",
         "OC1C2C(=N)OCC12O",
         "O[C@H]1[C@H]2[C]([NH])OC[C@@]12O",
         "InChI=1S/C5H7NO3/c6-4-2-3(7)5(2,8)1-9-4/h2-3,6-8H,1H2",
         "InChI=1S/C5H7NO3/c6-4-2-3(7)5(2,8)1-9-4/h2-3,6-8H,1H2/t2-,3-,5-/m0/s1",
         "2.48587"
        ],
        [
         "5",
         "OC1C2C3CC4C1C2C34",
         "O[C@H]1[C@H]2[C@H]3C[C@H]4[C@@H]1[C@@H]2[C@@H]34",
         "InChI=1S/C8H10O/c9-8-5-2-1-3-4(2)7(5)6(3)8/h2-9H,1H2",
         "InChI=1S/C8H10O/c9-8-5-2-1-3-4(2)7(5)6(3)8/h2-9H,1H2/t2-,3+,4-,5-,6+,7+,8-",
         "2.87574"
        ],
        [
         "6",
         "COC1C2CC3C2C13O",
         "CO[C@H]1[C@H]2C[C@@H]3[C@H]2[C@]13O",
         "InChI=1S/C7H10O2/c1-9-6-3-2-4-5(3)7(4,6)8/h3-6,8H,2H2,1H3",
         "InChI=1S/C7H10O2/c1-9-6-3-2-4-5(3)7(4,6)8/h3-6,8H,2H2,1H3/t3-,4+,5-,6-,7-/m0/s1",
         "2.63872"
        ],
        [
         "7",
         "O=CC1C2COC12C#C",
         "O=C[C@H]1[C@H]2CO[C@@]12C#C",
         "InChI=1S/C7H6O2/c1-2-7-5(3-8)6(7)4-9-7/h1,3,5-6H,4H2",
         "InChI=1S/C7H6O2/c1-2-7-5(3-8)6(7)4-9-7/h1,3,5-6H,4H2/t5-,6+,7-/m0/s1",
         "2.57257"
        ],
        [
         "8",
         "CC12CC1(O)C1CC1O2",
         "C[C@@]12C[C@]1(O)[C@H]1C[C@H]1O2",
         "InChI=1S/C7H10O2/c1-6-3-7(6,8)4-2-5(4)9-6/h4-5,8H,2-3H2,1H3",
         "InChI=1S/C7H10O2/c1-6-3-7(6,8)4-2-5(4)9-6/h4-5,8H,2-3H2,1H3/t4-,5+,6+,7-/m0/s1",
         "2.40996"
        ],
        [
         "9",
         "CC12CCC1CC=CC2",
         "C[C@]12CC[C@H]1CC=CC2",
         "InChI=1S/C9H14/c1-9-6-3-2-4-8(9)5-7-9/h2-3,8H,4-7H2,1H3",
         "InChI=1S/C9H14/c1-9-6-3-2-4-8(9)5-7-9/h2-3,8H,4-7H2,1H3/t8-,9+/m1/s1",
         "2.32101"
        ],
        [
         "10",
         "CC12COCC(O1)C2=O",
         "C[C@@]12COC[C@@H](O1)C2=O",
         "InChI=1S/C6H8O3/c1-6-3-8-2-4(9-6)5(6)7/h4H,2-3H2,1H3",
         "InChI=1S/C6H8O3/c1-6-3-8-2-4(9-6)5(6)7/h4H,2-3H2,1H3/t4-,6+/m1/s1",
         "2.33208"
        ],
        [
         "11",
         "NC1=CNC(CCO)=N1",
         "Nc1c[nH]c(CCO)n1",
         "InChI=1S/C5H9N3O/c6-4-3-7-5(8-4)1-2-9/h3,9H,1-2,6H2,(H,7,8)",
         "InChI=1S/C5H9N3O/c6-4-3-7-5(8-4)1-2-9/h3,9H,1-2,6H2,(H,7,8)",
         "4.44449"
        ],
        [
         "12",
         "O1C=NN2N=NN=C12",
         "o1cnn2nnnc12",
         "InChI=1S/C2HN5O/c1-3-7-2(8-1)4-5-6-7/h1H",
         "InChI=1S/C2HN5O/c1-3-7-2(8-1)4-5-6-7/h1H",
         "5.9132"
        ],
        [
         "13",
         "NC1=CC(=O)N=NO1",
         "NC(=O)[CH][C][O].N#N",
         "InChI=1S/C3H3N3O2/c4-2-1-3(7)5-6-8-2/h1H,4H2",
         "InChI=1S/C3H3NO2.N2/c4-3(6)1-2-5;1-2/h1H,(H2,4,6);",
         "2.24651"
        ],
        [
         "14",
         "CC1CN1CCC(C)=O",
         "C[C@H]1CN1CCC(=O)C",
         "InChI=1S/C7H13NO/c1-6-5-8(6)4-3-7(2)9/h6H,3-5H2,1-2H3",
         "InChI=1S/C7H13NO/c1-6-5-8(6)4-3-7(2)9/h6H,3-5H2,1-2H3/t6-,8?/m0/s1",
         "4.01003"
        ],
        [
         "15",
         "C1OC2=NC3C4NC13C24",
         "C=C1N[C@@H]2C=NC(=O)[C@H]12",
         "InChI=1S/C6H6N2O/c1-6-2-3(8-6)4(6)7-5(2)9-1/h2-4,8H,1H2",
         "InChI=1S/C6H6N2O/c1-3-5-4(8-3)2-7-6(5)9/h2,4-5,8H,1H2/t4-,5-/m1/s1",
         "2.69747"
        ],
        [
         "16",
         "OC1=COC(CC#N)=N1",
         "Oc1coc(CC#N)n1",
         "InChI=1S/C5H4N2O2/c6-2-1-5-7-4(8)3-9-5/h3,8H,1H2",
         "InChI=1S/C5H4N2O2/c6-2-1-5-7-4(8)3-9-5/h3,8H,1H2",
         "5.00272"
        ],
        [
         "17",
         "CN1CC11CC(O)C1=O",
         "CN1C[C@]21C[C@@H](O)C2=O",
         "InChI=1S/C6H9NO2/c1-7-3-6(7)2-4(8)5(6)9/h4,8H,2-3H2,1H3",
         "InChI=1S/C6H9NO2/c1-7-3-6(7)2-4(8)5(6)9/h4,8H,2-3H2,1H3/t4-,6-,7?/m1/s1",
         "2.96348"
        ],
        [
         "18",
         "CC(=O)C1CC1(O)CO",
         "CC(=O)[C@H]1C[C@]1(O)CO",
         "InChI=1S/C6H10O3/c1-4(8)5-2-6(5,9)3-7/h5,7,9H,2-3H2,1H3",
         "InChI=1S/C6H10O3/c1-4(8)5-2-6(5,9)3-7/h5,7,9H,2-3H2,1H3/t5-,6+/m1/s1",
         "3.60579"
        ],
        [
         "19",
         "CC1(C)CN(C=O)C=C1",
         "CC1(C)CN(C=O)C=C1",
         "InChI=1S/C7H11NO/c1-7(2)3-4-8(5-7)6-9/h3-4,6H,5H2,1-2H3",
         "InChI=1S/C7H11NO/c1-7(2)3-4-8(5-7)6-9/h3-4,6H,5H2,1-2H3",
         "3.79598"
        ],
        [
         "20",
         "CCC(NCCO)C#N",
         "CC[C@@H](NCCO)C#N",
         "InChI=1S/C6H12N2O/c1-2-6(5-7)8-3-4-9/h6,8-9H,2-4H2,1H3",
         "InChI=1S/C6H12N2O/c1-2-6(5-7)8-3-4-9/h6,8-9H,2-4H2,1H3/t6-/m1/s1",
         "1.94318"
        ],
        [
         "21",
         "C1CC(O1)C1=CON=N1",
         "C1C[C@@H](O1)c1conn1",
         "InChI=1S/C5H6N2O2/c1-2-8-5(1)4-3-9-7-6-4/h3,5H,1-2H2",
         "InChI=1S/C5H6N2O2/c1-2-8-5(1)4-3-9-7-6-4/h3,5H,1-2H2/t5-/m1/s1",
         "4.82186"
        ],
        [
         "22",
         "CN1C=NNC(=N)C1=O",
         "CN1C=NN[C]([NH])C1=O",
         "InChI=1S/C4H6N4O/c1-8-2-6-7-3(5)4(8)9/h2H,1H3,(H2,5,7)",
         "InChI=1S/C4H6N4O/c1-8-2-6-7-3(5)4(8)9/h2H,1H3,(H2,5,7)",
         "2.48852"
        ],
        [
         "23",
         "NC1=COC(=O)C(N)=C1",
         "Nc1coc(=O)c(N)c1",
         "InChI=1S/C5H6N2O2/c6-3-1-4(7)5(8)9-2-3/h1-2H,6-7H2",
         "InChI=1S/C5H6N2O2/c6-3-1-4(7)5(8)9-2-3/h1-2H,6-7H2",
         "3.17251"
        ],
        [
         "24",
         "CC1CC2C(CO)C2O1",
         "C[C@H]1C[C@H]2[C@@H](CO)[C@H]2O1",
         "InChI=1S/C7H12O2/c1-4-2-5-6(3-8)7(5)9-4/h4-8H,2-3H2,1H3",
         "InChI=1S/C7H12O2/c1-4-2-5-6(3-8)7(5)9-4/h4-8H,2-3H2,1H3/t4-,5-,6+,7-/m0/s1",
         "2.35596"
        ],
        [
         "25",
         "OC1=CC=C(N1)C=O",
         "Oc1ccc([nH]1)C=O",
         "InChI=1S/C5H5NO2/c7-3-4-1-2-5(8)6-4/h1-3,6,8H",
         "InChI=1S/C5H5NO2/c7-3-4-1-2-5(8)6-4/h1-3,6,8H",
         "6.67247"
        ],
        [
         "26",
         "CC(=O)NCCN1CC1",
         "CC(=O)NCCN1CC1",
         "InChI=1S/C6H12N2O/c1-6(9)7-2-3-8-4-5-8/h2-5H2,1H3,(H,7,9)",
         "InChI=1S/C6H12N2O/c1-6(9)7-2-3-8-4-5-8/h2-5H2,1H3,(H,7,9)",
         "5.14731"
        ],
        [
         "27",
         "CC1C2C(C)C(=O)CN12",
         "C[C@H]1[C@H]2[C@@H](C)C(=O)CN12",
         "InChI=1S/C7H11NO/c1-4-6(9)3-8-5(2)7(4)8/h4-5,7H,3H2,1-2H3",
         "InChI=1S/C7H11NO/c1-4-6(9)3-8-5(2)7(4)8/h4-5,7H,3H2,1-2H3/t4-,5-,7+,8?/m0/s1",
         "2.2216"
        ],
        [
         "28",
         "CC1NC1C1=CN=NO1",
         "C[C@H]1N[C@H]1c1cnno1",
         "InChI=1S/C5H7N3O/c1-3-5(7-3)4-2-6-8-9-4/h2-3,5,7H,1H3",
         "InChI=1S/C5H7N3O/c1-3-5(7-3)4-2-6-8-9-4/h2-3,5,7H,1H3/t3-,5-/m1/s1",
         "3.91763"
        ],
        [
         "29",
         "O=CCC12CC(N1)C2=O",
         "O=CC[C@@]12C[C@@H](N1)C2=O",
         "InChI=1S/C6H7NO2/c8-2-1-6-3-4(7-6)5(6)9/h2,4,7H,1,3H2",
         "InChI=1S/C6H7NO2/c8-2-1-6-3-4(7-6)5(6)9/h2,4,7H,1,3H2/t4-,6+/m1/s1",
         "3.03141"
        ],
        [
         "30",
         "CC1=CC2OC2(C)C1=O",
         "CC1=C[C@H]2O[C@@]2(C)C1=O",
         "InChI=1S/C7H8O2/c1-4-3-5-7(2,9-5)6(4)8/h3,5H,1-2H3",
         "InChI=1S/C7H8O2/c1-4-3-5-7(2,9-5)6(4)8/h3,5H,1-2H3/t5-,7-/m1/s1",
         "2.78904"
        ],
        [
         "31",
         "OC1(COC1)C=O",
         "OC1(COC1)C=O",
         "InChI=1S/C4H6O3/c5-1-4(6)2-7-3-4/h1,6H,2-3H2",
         "InChI=1S/C4H6O3/c5-1-4(6)2-7-3-4/h1,6H,2-3H2",
         "5.01651"
        ],
        [
         "32",
         "CCN=CN(C)C=O",
         "CCN=CN(C)C=O",
         "InChI=1S/C5H10N2O/c1-3-6-4-7(2)5-8/h4-5H,3H2,1-2H3",
         "InChI=1S/C5H10N2O/c1-3-6-4-7(2)5-8/h4-5H,3H2,1-2H3",
         "5.14013"
        ],
        [
         "33",
         "CC1(CCOC1=O)C#C",
         "C[C@]1(CCOC1=O)C#C",
         "InChI=1S/C7H8O2/c1-3-7(2)4-5-9-6(7)8/h1H,4-5H2,2H3",
         "InChI=1S/C7H8O2/c1-3-7(2)4-5-9-6(7)8/h1H,4-5H2,2H3/t7-/m1/s1",
         "2.05623"
        ],
        [
         "34",
         "OCCC1=C(O)N=NO1",
         "OCCc1c(O)nno1",
         "InChI=1S/C4H6N2O3/c7-2-1-3-4(8)5-6-9-3/h7-8H,1-2H2",
         "InChI=1S/C4H6N2O3/c7-2-1-3-4(8)5-6-9-3/h7-8H,1-2H2",
         "3.30328"
        ],
        [
         "35",
         "C1CC23CC4OC2CC134",
         "C1C[C@]23C[C@@H]4O[C@H]2C[C@]134",
         "InChI=1S/C8H10O/c1-2-8-4-5-7(1,8)3-6(8)9-5/h5-6H,1-4H2",
         "InChI=1S/C8H10O/c1-2-8-4-5-7(1,8)3-6(8)9-5/h5-6H,1-4H2/t5-,6-,7-,8-/m0/s1",
         "3.08554"
        ],
        [
         "36",
         "CC12CC1OC1CC21C",
         "C[C@]12C[C@H]1O[C@H]1C[C@@]21C",
         "InChI=1S/C8H12O/c1-7-3-5(7)9-6-4-8(6,7)2/h5-6H,3-4H2,1-2H3",
         "InChI=1S/C8H12O/c1-7-3-5(7)9-6-4-8(6,7)2/h5-6H,3-4H2,1-2H3/t5-,6+,7+,8-",
         "2.17225"
        ],
        [
         "37",
         "CC#CCOCC1CN1",
         "CC#CCOC[C@H]1CN1",
         "InChI=1S/C7H11NO/c1-2-3-4-9-6-7-5-8-7/h7-8H,4-6H2,1H3",
         "InChI=1S/C7H11NO/c1-2-3-4-9-6-7-5-8-7/h7-8H,4-6H2,1H3/t7-/m1/s1",
         "5.76974"
        ],
        [
         "38",
         "OCC1C2C(O)CCN12",
         "OC[C@H]1[C@H]2[C@@H](O)CCN12",
         "InChI=1S/C6H11NO2/c8-3-4-6-5(9)1-2-7(4)6/h4-6,8-9H,1-3H2",
         "InChI=1S/C6H11NO2/c8-3-4-6-5(9)1-2-7(4)6/h4-6,8-9H,1-3H2/t4-,5-,6-,7?/m0/s1",
         "2.37375"
        ],
        [
         "39",
         "C1C2COCC3CCC123",
         "C1[C@H]2COC[C@@H]3CC[C@]123",
         "InChI=1S/C8H12O/c1-2-8-3-7(8)5-9-4-6(1)8/h6-7H,1-5H2",
         "InChI=1S/C8H12O/c1-2-8-3-7(8)5-9-4-6(1)8/h6-7H,1-5H2/t6-,7-,8+/m0/s1",
         "2.37653"
        ],
        [
         "40",
         "C1CC2OC1C=CC=C2",
         "C1C[C@@H]2O[C@H]1C=CC=C2",
         "InChI=1S/C8H10O/c1-2-4-8-6-5-7(3-1)9-8/h1-4,7-8H,5-6H2",
         "InChI=1S/C8H10O/c1-2-4-8-6-5-7(3-1)9-8/h1-4,7-8H,5-6H2/t7-,8+",
         "2.53363"
        ],
        [
         "41",
         "N=C1OC2=C(O1)C=NO2",
         "[NH][C@@H]1Oc2c(O1)cno2",
         "InChI=1S/C4H2N2O3/c5-4-7-2-1-6-9-3(2)8-4/h1,5H",
         "InChI=1S/C4H3N2O3/c5-4-7-2-1-6-9-3(2)8-4/h1,4-5H/t4-/m0/s1",
         "5.45117"
        ],
        [
         "42",
         "O=CC1=NC=CN=C1",
         "O=Cc1nccnc1",
         "InChI=1S/C5H4N2O/c8-4-5-3-6-1-2-7-5/h1-4H",
         "InChI=1S/C5H4N2O/c8-4-5-3-6-1-2-7-5/h1-4H",
         "5.65047"
        ],
        [
         "43",
         "CC1=CCCC1(C)C#N",
         "CC1=CCC[C@]1(C)C#N",
         "InChI=1S/C8H11N/c1-7-4-3-5-8(7,2)6-9/h4H,3,5H2,1-2H3",
         "InChI=1S/C8H11N/c1-7-4-3-5-8(7,2)6-9/h4H,3,5H2,1-2H3/t8-/m1/s1",
         "1.92982"
        ],
        [
         "44",
         "OC1C=CCC1(O)C#N",
         "O[C@H]1C=CC[C@]1(O)C#N",
         "InChI=1S/C6H7NO2/c7-4-6(9)3-1-2-5(6)8/h1-2,5,8-9H,3H2",
         "InChI=1S/C6H7NO2/c7-4-6(9)3-1-2-5(6)8/h1-2,5,8-9H,3H2/t5-,6-/m0/s1",
         "2.40214"
        ],
        [
         "45",
         "O=C1CN2CC1C2",
         "O=C1CN2C[C@H]1C2",
         "InChI=1S/C5H7NO/c7-5-3-6-1-4(5)2-6/h4H,1-3H2",
         "InChI=1S/C5H7NO/c7-5-3-6-1-4(5)2-6/h4H,1-3H2",
         "5.29239"
        ],
        [
         "46",
         "OC1CCC11CN=CO1",
         "O[C@H]1CC[C@]21CN=CO2",
         "InChI=1S/C6H9NO2/c8-5-1-2-6(5)3-7-4-9-6/h4-5,8H,1-3H2",
         "InChI=1S/C6H9NO2/c8-5-1-2-6(5)3-7-4-9-6/h4-5,8H,1-3H2/t5-,6+/m0/s1",
         "2.90573"
        ],
        [
         "47",
         "CC12CC(C=O)C1CO2",
         "C[C@]12C[C@@H](C=O)[C@H]1CO2",
         "InChI=1S/C7H10O2/c1-7-2-5(3-8)6(7)4-9-7/h3,5-6H,2,4H2,1H3",
         "InChI=1S/C7H10O2/c1-7-2-5(3-8)6(7)4-9-7/h3,5-6H,2,4H2,1H3/t5-,6+,7-/m0/s1",
         "3.32531"
        ],
        [
         "48",
         "O=C1CCC2C3CC12C3",
         "O=C1CC[C@H]2[C@H]3C[C@@]12C3",
         "InChI=1S/C8H10O/c9-7-2-1-6-5-3-8(6,7)4-5/h5-6H,1-4H2",
         "InChI=1S/C8H10O/c9-7-2-1-6-5-3-8(6,7)4-5/h5-6H,1-4H2/t5-,6-,8-/m0/s1",
         "2.73497"
        ],
        [
         "49",
         "CCOCCOC(N)=O",
         "CCOCCOC(=O)N",
         "InChI=1S/C5H11NO3/c1-2-8-3-4-9-5(6)7/h2-4H2,1H3,(H2,6,7)",
         "InChI=1S/C5H11NO3/c1-2-8-3-4-9-5(6)7/h2-4H2,1H3,(H2,6,7)",
         "3.91141"
        ]
       ],
       "shape": {
        "columns": 5,
        "rows": 133885
       }
      },
      "text/html": [
       "<div>\n",
       "<style scoped>\n",
       "    .dataframe tbody tr th:only-of-type {\n",
       "        vertical-align: middle;\n",
       "    }\n",
       "\n",
       "    .dataframe tbody tr th {\n",
       "        vertical-align: top;\n",
       "    }\n",
       "\n",
       "    .dataframe thead th {\n",
       "        text-align: right;\n",
       "    }\n",
       "</style>\n",
       "<table border=\"1\" class=\"dataframe\">\n",
       "  <thead>\n",
       "    <tr style=\"text-align: right;\">\n",
       "      <th></th>\n",
       "      <th>SMILES_1</th>\n",
       "      <th>SMILES_2</th>\n",
       "      <th>INCHI_1</th>\n",
       "      <th>INCHI_2</th>\n",
       "      <th>Property_0</th>\n",
       "    </tr>\n",
       "  </thead>\n",
       "  <tbody>\n",
       "    <tr>\n",
       "      <th>0</th>\n",
       "      <td>OC1COC(=N)C1=O</td>\n",
       "      <td>O[C@H]1CO[C]([NH])C1=O</td>\n",
       "      <td>InChI=1S/C4H5NO3/c5-4-3(7)2(6)1-8-4/h2,5-6H,1H2</td>\n",
       "      <td>InChI=1S/C4H5NO3/c5-4-3(7)2(6)1-8-4/h2,5-6H,1H...</td>\n",
       "      <td>3.49649</td>\n",
       "    </tr>\n",
       "    <tr>\n",
       "      <th>1</th>\n",
       "      <td>CN(C)C(=O)C=O</td>\n",
       "      <td>CN(C)C(=O)C=O</td>\n",
       "      <td>InChI=1S/C4H7NO2/c1-5(2)4(7)3-6/h3H,1-2H3</td>\n",
       "      <td>InChI=1S/C4H7NO2/c1-5(2)4(7)3-6/h3H,1-2H3</td>\n",
       "      <td>3.92544</td>\n",
       "    </tr>\n",
       "    <tr>\n",
       "      <th>2</th>\n",
       "      <td>C1C2CC3N=COCC123</td>\n",
       "      <td>C1[C@H]2C[C@@H]3N=COC[C@]123</td>\n",
       "      <td>InChI=1S/C7H9NO/c1-5-2-7(5)3-9-4-8-6(1)7/h4-6H...</td>\n",
       "      <td>InChI=1S/C7H9NO/c1-5-2-7(5)3-9-4-8-6(1)7/h4-6H...</td>\n",
       "      <td>3.02103</td>\n",
       "    </tr>\n",
       "    <tr>\n",
       "      <th>3</th>\n",
       "      <td>OC1C2OC3CC2C13O</td>\n",
       "      <td>O[C@H]1[C@H]2O[C@@H]3C[C@H]2[C@]13O</td>\n",
       "      <td>InChI=1S/C6H8O3/c7-5-4-2-1-3(9-4)6(2,5)8/h2-5,...</td>\n",
       "      <td>InChI=1S/C6H8O3/c7-5-4-2-1-3(9-4)6(2,5)8/h2-5,...</td>\n",
       "      <td>2.52006</td>\n",
       "    </tr>\n",
       "    <tr>\n",
       "      <th>4</th>\n",
       "      <td>OC1C2C(=N)OCC12O</td>\n",
       "      <td>O[C@H]1[C@H]2[C]([NH])OC[C@@]12O</td>\n",
       "      <td>InChI=1S/C5H7NO3/c6-4-2-3(7)5(2,8)1-9-4/h2-3,6...</td>\n",
       "      <td>InChI=1S/C5H7NO3/c6-4-2-3(7)5(2,8)1-9-4/h2-3,6...</td>\n",
       "      <td>2.48587</td>\n",
       "    </tr>\n",
       "    <tr>\n",
       "      <th>...</th>\n",
       "      <td>...</td>\n",
       "      <td>...</td>\n",
       "      <td>...</td>\n",
       "      <td>...</td>\n",
       "      <td>...</td>\n",
       "    </tr>\n",
       "    <tr>\n",
       "      <th>133880</th>\n",
       "      <td>CC1=C(N)C(=NN1)C#C</td>\n",
       "      <td>Cc1c(N)c(n[nH]1)C#C</td>\n",
       "      <td>InChI=1S/C6H7N3/c1-3-5-6(7)4(2)8-9-5/h1H,7H2,2...</td>\n",
       "      <td>InChI=1S/C6H7N3/c1-3-5-6(7)4(2)8-9-5/h1H,7H2,2...</td>\n",
       "      <td>3.37027</td>\n",
       "    </tr>\n",
       "    <tr>\n",
       "      <th>133881</th>\n",
       "      <td>CC(C)(C)C(O)C(N)=O</td>\n",
       "      <td>CC(C)(C)[C@@H](O)C(=O)N</td>\n",
       "      <td>InChI=1S/C6H13NO2/c1-6(2,3)4(8)5(7)9/h4,8H,1-3...</td>\n",
       "      <td>InChI=1S/C6H13NO2/c1-6(2,3)4(8)5(7)9/h4,8H,1-3...</td>\n",
       "      <td>2.23826</td>\n",
       "    </tr>\n",
       "    <tr>\n",
       "      <th>133882</th>\n",
       "      <td>CC1C2C3C(N12)C3(C)O</td>\n",
       "      <td>C[C@H]1[C@H]2[C@H]3[C@@H](N12)[C@]3(C)O</td>\n",
       "      <td>InChI=1S/C7H11NO/c1-3-5-4-6(8(3)5)7(4,2)9/h3-6...</td>\n",
       "      <td>InChI=1S/C7H11NO/c1-3-5-4-6(8(3)5)7(4,2)9/h3-6...</td>\n",
       "      <td>3.77036</td>\n",
       "    </tr>\n",
       "    <tr>\n",
       "      <th>133883</th>\n",
       "      <td>C1CN1C1C2CC1C2</td>\n",
       "      <td>C1CN1[C@H]1[C@H]2C[C@@H]1C2</td>\n",
       "      <td>InChI=1S/C7H11N/c1-2-8(1)7-5-3-6(7)4-5/h5-7H,1...</td>\n",
       "      <td>InChI=1S/C7H11N/c1-2-8(1)7-5-3-6(7)4-5/h5-7H,1...</td>\n",
       "      <td>5.11764</td>\n",
       "    </tr>\n",
       "    <tr>\n",
       "      <th>133884</th>\n",
       "      <td>OC1=COC(=N)C(=N)O1</td>\n",
       "      <td>OC1=COC(=C([NH])O1)[NH]</td>\n",
       "      <td>InChI=1S/C4H4N2O3/c5-3-4(6)9-2(7)1-8-3/h1,5-7H</td>\n",
       "      <td>InChI=1S/C4H4N2O3/c5-3-4(6)9-2(7)1-8-3/h1,5-7H</td>\n",
       "      <td>3.08803</td>\n",
       "    </tr>\n",
       "  </tbody>\n",
       "</table>\n",
       "<p>133885 rows × 5 columns</p>\n",
       "</div>"
      ],
      "text/plain": [
       "                   SMILES_1                                 SMILES_2  \\\n",
       "0            OC1COC(=N)C1=O                   O[C@H]1CO[C]([NH])C1=O   \n",
       "1             CN(C)C(=O)C=O                            CN(C)C(=O)C=O   \n",
       "2          C1C2CC3N=COCC123             C1[C@H]2C[C@@H]3N=COC[C@]123   \n",
       "3           OC1C2OC3CC2C13O      O[C@H]1[C@H]2O[C@@H]3C[C@H]2[C@]13O   \n",
       "4          OC1C2C(=N)OCC12O         O[C@H]1[C@H]2[C]([NH])OC[C@@]12O   \n",
       "...                     ...                                      ...   \n",
       "133880   CC1=C(N)C(=NN1)C#C                      Cc1c(N)c(n[nH]1)C#C   \n",
       "133881   CC(C)(C)C(O)C(N)=O                  CC(C)(C)[C@@H](O)C(=O)N   \n",
       "133882  CC1C2C3C(N12)C3(C)O  C[C@H]1[C@H]2[C@H]3[C@@H](N12)[C@]3(C)O   \n",
       "133883       C1CN1C1C2CC1C2              C1CN1[C@H]1[C@H]2C[C@@H]1C2   \n",
       "133884   OC1=COC(=N)C(=N)O1                  OC1=COC(=C([NH])O1)[NH]   \n",
       "\n",
       "                                                  INCHI_1  \\\n",
       "0         InChI=1S/C4H5NO3/c5-4-3(7)2(6)1-8-4/h2,5-6H,1H2   \n",
       "1               InChI=1S/C4H7NO2/c1-5(2)4(7)3-6/h3H,1-2H3   \n",
       "2       InChI=1S/C7H9NO/c1-5-2-7(5)3-9-4-8-6(1)7/h4-6H...   \n",
       "3       InChI=1S/C6H8O3/c7-5-4-2-1-3(9-4)6(2,5)8/h2-5,...   \n",
       "4       InChI=1S/C5H7NO3/c6-4-2-3(7)5(2,8)1-9-4/h2-3,6...   \n",
       "...                                                   ...   \n",
       "133880  InChI=1S/C6H7N3/c1-3-5-6(7)4(2)8-9-5/h1H,7H2,2...   \n",
       "133881  InChI=1S/C6H13NO2/c1-6(2,3)4(8)5(7)9/h4,8H,1-3...   \n",
       "133882  InChI=1S/C7H11NO/c1-3-5-4-6(8(3)5)7(4,2)9/h3-6...   \n",
       "133883  InChI=1S/C7H11N/c1-2-8(1)7-5-3-6(7)4-5/h5-7H,1...   \n",
       "133884     InChI=1S/C4H4N2O3/c5-3-4(6)9-2(7)1-8-3/h1,5-7H   \n",
       "\n",
       "                                                  INCHI_2  Property_0  \n",
       "0       InChI=1S/C4H5NO3/c5-4-3(7)2(6)1-8-4/h2,5-6H,1H...     3.49649  \n",
       "1               InChI=1S/C4H7NO2/c1-5(2)4(7)3-6/h3H,1-2H3     3.92544  \n",
       "2       InChI=1S/C7H9NO/c1-5-2-7(5)3-9-4-8-6(1)7/h4-6H...     3.02103  \n",
       "3       InChI=1S/C6H8O3/c7-5-4-2-1-3(9-4)6(2,5)8/h2-5,...     2.52006  \n",
       "4       InChI=1S/C5H7NO3/c6-4-2-3(7)5(2,8)1-9-4/h2-3,6...     2.48587  \n",
       "...                                                   ...         ...  \n",
       "133880  InChI=1S/C6H7N3/c1-3-5-6(7)4(2)8-9-5/h1H,7H2,2...     3.37027  \n",
       "133881  InChI=1S/C6H13NO2/c1-6(2,3)4(8)5(7)9/h4,8H,1-3...     2.23826  \n",
       "133882  InChI=1S/C7H11NO/c1-3-5-4-6(8(3)5)7(4,2)9/h3-6...     3.77036  \n",
       "133883  InChI=1S/C7H11N/c1-2-8(1)7-5-3-6(7)4-5/h5-7H,1...     5.11764  \n",
       "133884     InChI=1S/C4H4N2O3/c5-3-4(6)9-2(7)1-8-3/h1,5-7H     3.08803  \n",
       "\n",
       "[133885 rows x 5 columns]"
      ]
     },
     "execution_count": 5,
     "metadata": {},
     "output_type": "execute_result"
    }
   ],
   "source": [
    "qm9 = pd.read_csv(\"../supervised-learning/QM9.csv\", index_col=0)\n",
    "qm9"
   ]
  },
  {
   "cell_type": "markdown",
   "id": "40c519a6",
   "metadata": {},
   "source": [
    "# Definição da rede MLP preditora"
   ]
  },
  {
   "cell_type": "code",
   "execution_count": 6,
   "id": "29f72bc5",
   "metadata": {},
   "outputs": [
    {
     "ename": "SyntaxError",
     "evalue": "incomplete input (326970354.py, line 2)",
     "output_type": "error",
     "traceback": [
      "\u001b[1;36m  Cell \u001b[1;32mIn[6], line 2\u001b[1;36m\u001b[0m\n\u001b[1;33m    def __init__(self, ):\u001b[0m\n\u001b[1;37m                         ^\u001b[0m\n\u001b[1;31mSyntaxError\u001b[0m\u001b[1;31m:\u001b[0m incomplete input\n"
     ]
    }
   ],
   "source": [
    "class MLP(nn.Module):\n",
    "    def __init__(self, ):"
   ]
  }
 ],
 "metadata": {
  "kernelspec": {
   "display_name": "Python 3",
   "language": "python",
   "name": "python3"
  },
  "language_info": {
   "codemirror_mode": {
    "name": "ipython",
    "version": 3
   },
   "file_extension": ".py",
   "mimetype": "text/x-python",
   "name": "python",
   "nbconvert_exporter": "python",
   "pygments_lexer": "ipython3",
   "version": "3.12.10"
  }
 },
 "nbformat": 4,
 "nbformat_minor": 5
}
