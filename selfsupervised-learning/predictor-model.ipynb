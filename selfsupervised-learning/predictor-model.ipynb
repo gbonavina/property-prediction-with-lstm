{
 "cells": [
  {
   "cell_type": "code",
   "execution_count": 1,
   "id": "af47f509",
   "metadata": {},
   "outputs": [],
   "source": [
    "import torch\n",
    "import torch.nn as nn \n",
    "import torch.nn.functional as F\n",
    "import torch.nn.utils.rnn as rnn_utils\n",
    "import pandas as pd\n",
    "import numpy as np"
   ]
  },
  {
   "cell_type": "code",
   "execution_count": 2,
   "id": "67db0da4",
   "metadata": {},
   "outputs": [
    {
     "data": {
      "text/plain": [
       "device(type='cuda')"
      ]
     },
     "execution_count": 2,
     "metadata": {},
     "output_type": "execute_result"
    }
   ],
   "source": [
    "device = torch.device('cuda' if torch.cuda.is_available() else 'cpu')\n",
    "device"
   ]
  },
  {
   "cell_type": "markdown",
   "id": "909fad5c",
   "metadata": {},
   "source": [
    "# Importar o modelo contrastivo desenvolvido anteriormente"
   ]
  },
  {
   "cell_type": "code",
   "execution_count": 3,
   "id": "e9970409",
   "metadata": {},
   "outputs": [],
   "source": [
    "# fiz sem o bidirectional, não sei se é necessário para o meu teste simples \n",
    "class SMILESEncoder(torch.nn.Module):\n",
    "    def __init__(self, vocab_size, max_len, padding_idx, embedding_dim=64, dim=128, num_layers=1):\n",
    "        super(SMILESEncoder, self).__init__()\n",
    "\n",
    "        self.vocab_size = vocab_size\n",
    "        self.max_len = max_len\n",
    "        self.padding_idx = padding_idx\n",
    "        self.embedding_dim = embedding_dim\n",
    "        self.dim = dim\n",
    "        self.num_layers = num_layers\n",
    "\n",
    "        self.encoder = torch.nn.LSTM(self.embedding_dim, self.dim, self.num_layers, batch_first=True)\n",
    "\n",
    "    def forward(self, x, lengths):\n",
    "        batch_size = x.size(0)\n",
    "        seq_len = x.size(1)\n",
    "        \n",
    "        valid_lengths = torch.clamp(lengths, min=1, max=seq_len)\n",
    "        \n",
    "        # Mover lengths para a CPU antes de empacotar\n",
    "        lengths_on_cpu = valid_lengths.cpu()\n",
    "        \n",
    "        x_packed = rnn_utils.pack_padded_sequence(\n",
    "            x, lengths=lengths_on_cpu, batch_first=True, enforce_sorted=False\n",
    "        )\n",
    "\n",
    "        _, (hidden, _) = self.encoder(x_packed)\n",
    "        return hidden[-1]\n",
    "    \n",
    "class CLRNet(torch.nn.Module):\n",
    "    def __init__(self, vocab_size, max_len, padding_idx, embedding_dim=64, dim=128, num_layers=1):\n",
    "        super(CLRNet, self).__init__()\n",
    "\n",
    "        self.vocab_size = vocab_size\n",
    "        self.max_len = max_len\n",
    "        self.padding_idx = padding_idx\n",
    "        self.embedding_dim = embedding_dim\n",
    "        self.dim = dim\n",
    "        self.num_layers = num_layers\n",
    "\n",
    "        self.emb = torch.nn.Embedding(\n",
    "            num_embeddings=self.vocab_size, \n",
    "            padding_idx=self.padding_idx,\n",
    "            embedding_dim=self.embedding_dim, \n",
    "        )\n",
    "\n",
    "        # definindo as duas redes LSTM responsáveis pelo aprendizado contrastivo\n",
    "        self.SMILESEnc1 = SMILESEncoder(vocab_size=self.vocab_size, max_len=self.max_len, padding_idx=self.padding_idx,\n",
    "                                        embedding_dim=self.embedding_dim, dim=2*self.dim, num_layers=self.num_layers)\n",
    "        \n",
    "\n",
    "        self.SMILESEnc2 = SMILESEncoder(vocab_size=self.vocab_size, max_len=self.max_len, padding_idx=self.padding_idx,\n",
    "                                        embedding_dim=self.embedding_dim, dim=2*self.dim, num_layers=self.num_layers)\n",
    "        \n",
    "        # cabeça de projeção MLP\n",
    "        self.projection_head = torch.nn.Sequential(\n",
    "            torch.nn.Linear(2*self.dim, 4 * self.dim),\n",
    "            torch.nn.BatchNorm1d(4 * self.dim),\n",
    "            torch.nn.ReLU(inplace=True),\n",
    "            torch.nn.Linear(4*self.dim, 6*self.dim, bias=False)\n",
    "        )\n",
    "    \n",
    "    def forward(self, smi, random_smi, smi_len, random_smi_len):\n",
    "        x = self.emb(smi)\n",
    "        \n",
    "        x1 = self.emb(random_smi)\n",
    "        \n",
    "        enc1 = self.SMILESEnc1(x, smi_len)\n",
    "        enc2 = self.SMILESEnc2(x1, random_smi_len)\n",
    "        \n",
    "        return F.normalize(self.projection_head(enc1), dim=1), F.normalize(self.projection_head(enc2), dim=1)"
   ]
  },
  {
   "cell_type": "code",
   "execution_count": 4,
   "id": "ada76a9b",
   "metadata": {},
   "outputs": [
    {
     "data": {
      "text/plain": [
       "CLRNet(\n",
       "  (emb): Embedding(82, 64, padding_idx=81)\n",
       "  (SMILESEnc1): SMILESEncoder(\n",
       "    (encoder): LSTM(64, 256, batch_first=True)\n",
       "  )\n",
       "  (SMILESEnc2): SMILESEncoder(\n",
       "    (encoder): LSTM(64, 256, batch_first=True)\n",
       "  )\n",
       "  (projection_head): Sequential(\n",
       "    (0): Linear(in_features=256, out_features=512, bias=True)\n",
       "    (1): BatchNorm1d(512, eps=1e-05, momentum=0.1, affine=True, track_running_stats=True)\n",
       "    (2): ReLU(inplace=True)\n",
       "    (3): Linear(in_features=512, out_features=768, bias=False)\n",
       "  )\n",
       ")"
      ]
     },
     "execution_count": 4,
     "metadata": {},
     "output_type": "execute_result"
    }
   ],
   "source": [
    "clr_model = CLRNet(vocab_size=82, max_len=24, padding_idx=81)\n",
    "clr_model.load_state_dict(torch.load(\"clr_model.pth\"))\n",
    "clr_model.to(device)"
   ]
  },
  {
   "cell_type": "code",
   "execution_count": 5,
   "id": "ce933da0",
   "metadata": {},
   "outputs": [],
   "source": [
    "smi_encoder = SMILESEncoder(vocab_size=82, max_len=24, padding_idx=81)"
   ]
  },
  {
   "cell_type": "markdown",
   "id": "b73ce902",
   "metadata": {},
   "source": [
    "# Definindo os dados"
   ]
  },
  {
   "cell_type": "code",
   "execution_count": 6,
   "id": "58f1b1fd",
   "metadata": {},
   "outputs": [
    {
     "data": {
      "text/html": [
       "<div>\n",
       "<style scoped>\n",
       "    .dataframe tbody tr th:only-of-type {\n",
       "        vertical-align: middle;\n",
       "    }\n",
       "\n",
       "    .dataframe tbody tr th {\n",
       "        vertical-align: top;\n",
       "    }\n",
       "\n",
       "    .dataframe thead th {\n",
       "        text-align: right;\n",
       "    }\n",
       "</style>\n",
       "<table border=\"1\" class=\"dataframe\">\n",
       "  <thead>\n",
       "    <tr style=\"text-align: right;\">\n",
       "      <th></th>\n",
       "      <th>SMILES_1</th>\n",
       "      <th>SMILES_2</th>\n",
       "      <th>INCHI_1</th>\n",
       "      <th>INCHI_2</th>\n",
       "      <th>Property_0</th>\n",
       "    </tr>\n",
       "  </thead>\n",
       "  <tbody>\n",
       "    <tr>\n",
       "      <th>0</th>\n",
       "      <td>OC1COC(=N)C1=O</td>\n",
       "      <td>O[C@H]1CO[C]([NH])C1=O</td>\n",
       "      <td>InChI=1S/C4H5NO3/c5-4-3(7)2(6)1-8-4/h2,5-6H,1H2</td>\n",
       "      <td>InChI=1S/C4H5NO3/c5-4-3(7)2(6)1-8-4/h2,5-6H,1H...</td>\n",
       "      <td>3.49649</td>\n",
       "    </tr>\n",
       "    <tr>\n",
       "      <th>1</th>\n",
       "      <td>CN(C)C(=O)C=O</td>\n",
       "      <td>CN(C)C(=O)C=O</td>\n",
       "      <td>InChI=1S/C4H7NO2/c1-5(2)4(7)3-6/h3H,1-2H3</td>\n",
       "      <td>InChI=1S/C4H7NO2/c1-5(2)4(7)3-6/h3H,1-2H3</td>\n",
       "      <td>3.92544</td>\n",
       "    </tr>\n",
       "    <tr>\n",
       "      <th>2</th>\n",
       "      <td>C1C2CC3N=COCC123</td>\n",
       "      <td>C1[C@H]2C[C@@H]3N=COC[C@]123</td>\n",
       "      <td>InChI=1S/C7H9NO/c1-5-2-7(5)3-9-4-8-6(1)7/h4-6H...</td>\n",
       "      <td>InChI=1S/C7H9NO/c1-5-2-7(5)3-9-4-8-6(1)7/h4-6H...</td>\n",
       "      <td>3.02103</td>\n",
       "    </tr>\n",
       "    <tr>\n",
       "      <th>3</th>\n",
       "      <td>OC1C2OC3CC2C13O</td>\n",
       "      <td>O[C@H]1[C@H]2O[C@@H]3C[C@H]2[C@]13O</td>\n",
       "      <td>InChI=1S/C6H8O3/c7-5-4-2-1-3(9-4)6(2,5)8/h2-5,...</td>\n",
       "      <td>InChI=1S/C6H8O3/c7-5-4-2-1-3(9-4)6(2,5)8/h2-5,...</td>\n",
       "      <td>2.52006</td>\n",
       "    </tr>\n",
       "    <tr>\n",
       "      <th>4</th>\n",
       "      <td>OC1C2C(=N)OCC12O</td>\n",
       "      <td>O[C@H]1[C@H]2[C]([NH])OC[C@@]12O</td>\n",
       "      <td>InChI=1S/C5H7NO3/c6-4-2-3(7)5(2,8)1-9-4/h2-3,6...</td>\n",
       "      <td>InChI=1S/C5H7NO3/c6-4-2-3(7)5(2,8)1-9-4/h2-3,6...</td>\n",
       "      <td>2.48587</td>\n",
       "    </tr>\n",
       "    <tr>\n",
       "      <th>...</th>\n",
       "      <td>...</td>\n",
       "      <td>...</td>\n",
       "      <td>...</td>\n",
       "      <td>...</td>\n",
       "      <td>...</td>\n",
       "    </tr>\n",
       "    <tr>\n",
       "      <th>133880</th>\n",
       "      <td>CC1=C(N)C(=NN1)C#C</td>\n",
       "      <td>Cc1c(N)c(n[nH]1)C#C</td>\n",
       "      <td>InChI=1S/C6H7N3/c1-3-5-6(7)4(2)8-9-5/h1H,7H2,2...</td>\n",
       "      <td>InChI=1S/C6H7N3/c1-3-5-6(7)4(2)8-9-5/h1H,7H2,2...</td>\n",
       "      <td>3.37027</td>\n",
       "    </tr>\n",
       "    <tr>\n",
       "      <th>133881</th>\n",
       "      <td>CC(C)(C)C(O)C(N)=O</td>\n",
       "      <td>CC(C)(C)[C@@H](O)C(=O)N</td>\n",
       "      <td>InChI=1S/C6H13NO2/c1-6(2,3)4(8)5(7)9/h4,8H,1-3...</td>\n",
       "      <td>InChI=1S/C6H13NO2/c1-6(2,3)4(8)5(7)9/h4,8H,1-3...</td>\n",
       "      <td>2.23826</td>\n",
       "    </tr>\n",
       "    <tr>\n",
       "      <th>133882</th>\n",
       "      <td>CC1C2C3C(N12)C3(C)O</td>\n",
       "      <td>C[C@H]1[C@H]2[C@H]3[C@@H](N12)[C@]3(C)O</td>\n",
       "      <td>InChI=1S/C7H11NO/c1-3-5-4-6(8(3)5)7(4,2)9/h3-6...</td>\n",
       "      <td>InChI=1S/C7H11NO/c1-3-5-4-6(8(3)5)7(4,2)9/h3-6...</td>\n",
       "      <td>3.77036</td>\n",
       "    </tr>\n",
       "    <tr>\n",
       "      <th>133883</th>\n",
       "      <td>C1CN1C1C2CC1C2</td>\n",
       "      <td>C1CN1[C@H]1[C@H]2C[C@@H]1C2</td>\n",
       "      <td>InChI=1S/C7H11N/c1-2-8(1)7-5-3-6(7)4-5/h5-7H,1...</td>\n",
       "      <td>InChI=1S/C7H11N/c1-2-8(1)7-5-3-6(7)4-5/h5-7H,1...</td>\n",
       "      <td>5.11764</td>\n",
       "    </tr>\n",
       "    <tr>\n",
       "      <th>133884</th>\n",
       "      <td>OC1=COC(=N)C(=N)O1</td>\n",
       "      <td>OC1=COC(=C([NH])O1)[NH]</td>\n",
       "      <td>InChI=1S/C4H4N2O3/c5-3-4(6)9-2(7)1-8-3/h1,5-7H</td>\n",
       "      <td>InChI=1S/C4H4N2O3/c5-3-4(6)9-2(7)1-8-3/h1,5-7H</td>\n",
       "      <td>3.08803</td>\n",
       "    </tr>\n",
       "  </tbody>\n",
       "</table>\n",
       "<p>133885 rows × 5 columns</p>\n",
       "</div>"
      ],
      "text/plain": [
       "                   SMILES_1                                 SMILES_2  \\\n",
       "0            OC1COC(=N)C1=O                   O[C@H]1CO[C]([NH])C1=O   \n",
       "1             CN(C)C(=O)C=O                            CN(C)C(=O)C=O   \n",
       "2          C1C2CC3N=COCC123             C1[C@H]2C[C@@H]3N=COC[C@]123   \n",
       "3           OC1C2OC3CC2C13O      O[C@H]1[C@H]2O[C@@H]3C[C@H]2[C@]13O   \n",
       "4          OC1C2C(=N)OCC12O         O[C@H]1[C@H]2[C]([NH])OC[C@@]12O   \n",
       "...                     ...                                      ...   \n",
       "133880   CC1=C(N)C(=NN1)C#C                      Cc1c(N)c(n[nH]1)C#C   \n",
       "133881   CC(C)(C)C(O)C(N)=O                  CC(C)(C)[C@@H](O)C(=O)N   \n",
       "133882  CC1C2C3C(N12)C3(C)O  C[C@H]1[C@H]2[C@H]3[C@@H](N12)[C@]3(C)O   \n",
       "133883       C1CN1C1C2CC1C2              C1CN1[C@H]1[C@H]2C[C@@H]1C2   \n",
       "133884   OC1=COC(=N)C(=N)O1                  OC1=COC(=C([NH])O1)[NH]   \n",
       "\n",
       "                                                  INCHI_1  \\\n",
       "0         InChI=1S/C4H5NO3/c5-4-3(7)2(6)1-8-4/h2,5-6H,1H2   \n",
       "1               InChI=1S/C4H7NO2/c1-5(2)4(7)3-6/h3H,1-2H3   \n",
       "2       InChI=1S/C7H9NO/c1-5-2-7(5)3-9-4-8-6(1)7/h4-6H...   \n",
       "3       InChI=1S/C6H8O3/c7-5-4-2-1-3(9-4)6(2,5)8/h2-5,...   \n",
       "4       InChI=1S/C5H7NO3/c6-4-2-3(7)5(2,8)1-9-4/h2-3,6...   \n",
       "...                                                   ...   \n",
       "133880  InChI=1S/C6H7N3/c1-3-5-6(7)4(2)8-9-5/h1H,7H2,2...   \n",
       "133881  InChI=1S/C6H13NO2/c1-6(2,3)4(8)5(7)9/h4,8H,1-3...   \n",
       "133882  InChI=1S/C7H11NO/c1-3-5-4-6(8(3)5)7(4,2)9/h3-6...   \n",
       "133883  InChI=1S/C7H11N/c1-2-8(1)7-5-3-6(7)4-5/h5-7H,1...   \n",
       "133884     InChI=1S/C4H4N2O3/c5-3-4(6)9-2(7)1-8-3/h1,5-7H   \n",
       "\n",
       "                                                  INCHI_2  Property_0  \n",
       "0       InChI=1S/C4H5NO3/c5-4-3(7)2(6)1-8-4/h2,5-6H,1H...     3.49649  \n",
       "1               InChI=1S/C4H7NO2/c1-5(2)4(7)3-6/h3H,1-2H3     3.92544  \n",
       "2       InChI=1S/C7H9NO/c1-5-2-7(5)3-9-4-8-6(1)7/h4-6H...     3.02103  \n",
       "3       InChI=1S/C6H8O3/c7-5-4-2-1-3(9-4)6(2,5)8/h2-5,...     2.52006  \n",
       "4       InChI=1S/C5H7NO3/c6-4-2-3(7)5(2,8)1-9-4/h2-3,6...     2.48587  \n",
       "...                                                   ...         ...  \n",
       "133880  InChI=1S/C6H7N3/c1-3-5-6(7)4(2)8-9-5/h1H,7H2,2...     3.37027  \n",
       "133881  InChI=1S/C6H13NO2/c1-6(2,3)4(8)5(7)9/h4,8H,1-3...     2.23826  \n",
       "133882  InChI=1S/C7H11NO/c1-3-5-4-6(8(3)5)7(4,2)9/h3-6...     3.77036  \n",
       "133883  InChI=1S/C7H11N/c1-2-8(1)7-5-3-6(7)4-5/h5-7H,1...     5.11764  \n",
       "133884     InChI=1S/C4H4N2O3/c5-3-4(6)9-2(7)1-8-3/h1,5-7H     3.08803  \n",
       "\n",
       "[133885 rows x 5 columns]"
      ]
     },
     "execution_count": 6,
     "metadata": {},
     "output_type": "execute_result"
    }
   ],
   "source": [
    "qm9 = pd.read_csv(\"../supervised-learning/QM9.csv\", index_col=0)\n",
    "qm9"
   ]
  },
  {
   "cell_type": "markdown",
   "id": "40c519a6",
   "metadata": {},
   "source": [
    "# Definição da rede MLP preditora"
   ]
  },
  {
   "cell_type": "code",
   "execution_count": 7,
   "id": "0970b5d8",
   "metadata": {},
   "outputs": [],
   "source": [
    "from torch.nn.utils.rnn import pack_padded_sequence"
   ]
  },
  {
   "cell_type": "code",
   "execution_count": 8,
   "id": "29f72bc5",
   "metadata": {},
   "outputs": [],
   "source": [
    "class MLP(nn.Module):\n",
    "    def __init__(self, clr_model, smiles_encoder, input_dim, layers, output_dim=1):\n",
    "        super().__init__()\n",
    "        # self.embedding = clr_model.emb    # já não precisamos mais\n",
    "        self.smiles_encoder = smiles_encoder\n",
    "        prev_dim = input_dim\n",
    "        all_layers = []\n",
    "        for l in layers:\n",
    "            all_layers += [nn.Linear(prev_dim, l), nn.ReLU()]\n",
    "            prev_dim = l\n",
    "        all_layers.append(nn.Linear(prev_dim, output_dim))\n",
    "        self.layers = nn.Sequential(*all_layers)\n",
    "\n",
    "    def forward(self, x, lengths):\n",
    "        # x já é LongTensor de índices\n",
    "        h = self.smiles_encoder(x, lengths)\n",
    "        return self.layers(h)"
   ]
  },
  {
   "cell_type": "markdown",
   "id": "ae0d2488",
   "metadata": {},
   "source": [
    "# Separação dos dados"
   ]
  },
  {
   "cell_type": "code",
   "execution_count": 9,
   "id": "51baa08f",
   "metadata": {},
   "outputs": [
    {
     "data": {
      "text/html": [
       "<div>\n",
       "<style scoped>\n",
       "    .dataframe tbody tr th:only-of-type {\n",
       "        vertical-align: middle;\n",
       "    }\n",
       "\n",
       "    .dataframe tbody tr th {\n",
       "        vertical-align: top;\n",
       "    }\n",
       "\n",
       "    .dataframe thead th {\n",
       "        text-align: right;\n",
       "    }\n",
       "</style>\n",
       "<table border=\"1\" class=\"dataframe\">\n",
       "  <thead>\n",
       "    <tr style=\"text-align: right;\">\n",
       "      <th></th>\n",
       "      <th>SMILES_1</th>\n",
       "      <th>Property_0</th>\n",
       "    </tr>\n",
       "  </thead>\n",
       "  <tbody>\n",
       "    <tr>\n",
       "      <th>0</th>\n",
       "      <td>OC1COC(=N)C1=O</td>\n",
       "      <td>3.49649</td>\n",
       "    </tr>\n",
       "    <tr>\n",
       "      <th>1</th>\n",
       "      <td>CN(C)C(=O)C=O</td>\n",
       "      <td>3.92544</td>\n",
       "    </tr>\n",
       "    <tr>\n",
       "      <th>2</th>\n",
       "      <td>C1C2CC3N=COCC123</td>\n",
       "      <td>3.02103</td>\n",
       "    </tr>\n",
       "    <tr>\n",
       "      <th>3</th>\n",
       "      <td>OC1C2OC3CC2C13O</td>\n",
       "      <td>2.52006</td>\n",
       "    </tr>\n",
       "    <tr>\n",
       "      <th>4</th>\n",
       "      <td>OC1C2C(=N)OCC12O</td>\n",
       "      <td>2.48587</td>\n",
       "    </tr>\n",
       "  </tbody>\n",
       "</table>\n",
       "</div>"
      ],
      "text/plain": [
       "           SMILES_1  Property_0\n",
       "0    OC1COC(=N)C1=O     3.49649\n",
       "1     CN(C)C(=O)C=O     3.92544\n",
       "2  C1C2CC3N=COCC123     3.02103\n",
       "3   OC1C2OC3CC2C13O     2.52006\n",
       "4  OC1C2C(=N)OCC12O     2.48587"
      ]
     },
     "execution_count": 9,
     "metadata": {},
     "output_type": "execute_result"
    }
   ],
   "source": [
    "df = qm9[['SMILES_1', 'Property_0']]\n",
    "df.head()"
   ]
  },
  {
   "cell_type": "markdown",
   "id": "4cf22932",
   "metadata": {},
   "source": [
    "## Scaling das propriedades"
   ]
  },
  {
   "cell_type": "code",
   "execution_count": null,
   "id": "97fbe643",
   "metadata": {},
   "outputs": [
    {
     "data": {
      "text/plain": [
       "array([[-0.00349159],\n",
       "       [-0.00325453],\n",
       "       [-0.00375436],\n",
       "       ...,\n",
       "       [-0.00334024],\n",
       "       [-0.00259566],\n",
       "       [-0.00371733]], shape=(133885, 1))"
      ]
     },
     "execution_count": 10,
     "metadata": {},
     "output_type": "execute_result"
    }
   ],
   "source": [
    "# from sklearn.preprocessing import StandardScaler\n",
    "\n",
    "# scaler = StandardScaler()\n",
    "\n",
    "smiles = df['SMILES_1'].tolist()\n",
    "props = df['Property_0'].to_numpy().reshape(-1, 1)\n",
    "\n",
    "# scaler.fit(props)\n",
    "\n",
    "# props_scaled = scaler.fit_transform(props)\n",
    "# props_scaled"
   ]
  },
  {
   "cell_type": "markdown",
   "id": "b709017c",
   "metadata": {},
   "source": [
    "## Separação em treino, teste e validação + tokenização"
   ]
  },
  {
   "cell_type": "code",
   "execution_count": 11,
   "id": "826848d1",
   "metadata": {},
   "outputs": [],
   "source": [
    "import re\n",
    "\n",
    "class BasicSmilesTokenizer(object):\n",
    "  def __init__(self):\n",
    "    self.regex_pattern = r\"\"\"(\\[[^\\]]+]|Br?|Cl?|Nb?|In?|Sb?|As|Ai|Ta|Ga|O|P|F|H|b|c|n|o|s|p|\\(|\\)|\\.|=|#|-|\\+|\\\\|\\/|:|~|@|\\?|>>?|\\*|\\$|\\%[0-9]{2}|[0-9])\"\"\"\n",
    "    self.regex = re.compile(self.regex_pattern)\n",
    "\n",
    "  def tokenize(self, text):\n",
    "    tokens = [token for token in self.regex.findall(text)]\n",
    "    return tokens\n",
    "\n",
    "TOKENIZER = BasicSmilesTokenizer()"
   ]
  },
  {
   "cell_type": "code",
   "execution_count": 12,
   "id": "71a058e0",
   "metadata": {},
   "outputs": [],
   "source": [
    "vocab = [\n",
    "    '#', '(', ')', '-', '/', '1', '2', '3', '4', '5', '6', '=', 'Br', 'C', 'Cl',\n",
    "    'F', 'I', 'In', 'N', 'O', 'P', 'S', '[17O]', '[AlH-]', '[AlH2-]', '[AlH3-]',\n",
    "    '[AsH3-]', '[BH-]', '[BH2-]', '[BH3-]', '[C-]', '[C@@H]', '[C@@]', '[C@H]',\n",
    "    '[C@]', '[CH-]', '[CH2-]', '[CH2]', '[CH]', '[C]', '[GaH-]', '[GaH2-]', '[GaH3-]',\n",
    "    '[InH-]', '[InH2-]', '[InH3-]', '[N+]', '[N-]', '[N@+]', '[N@@+]', '[N@@]', '[N@]',\n",
    "    '[NH+]', '[NH-]', '[NH2+]', '[NH3+]', '[NH]', '[N]', '[NbH3-]', '[O+]', '[O-]', '[O]',\n",
    "    '[PH+]', '[PH3-]', '[PH4-]', '[S+]', '[SbH3-]', '[Si]', '[TaH3-]', '[c-]', '[cH-]',\n",
    "    '[n+]', '[n-]', '[nH+]', '[nH]', '[o+]', '\\\\', 'c', 'n', 'o', ''\n",
    "]"
   ]
  },
  {
   "cell_type": "code",
   "execution_count": 13,
   "id": "464425bd",
   "metadata": {},
   "outputs": [],
   "source": [
    "from sklearn.model_selection import train_test_split"
   ]
  },
  {
   "cell_type": "code",
   "execution_count": 14,
   "id": "8377d72a",
   "metadata": {},
   "outputs": [],
   "source": [
    "from torch.nn.utils.rnn import pad_sequence\n",
    "from torch.utils.data import Dataset, DataLoader\n",
    "\n",
    "class PredictorDataset(Dataset):\n",
    "    def __init__(self, df, tokenizer, vocab, props_scaled, smiles_col='SMILES_1', padding_idx=81):\n",
    "        self.df = df\n",
    "        self.tokenizer = tokenizer\n",
    "        self.token_to_index = {t: i for i, t in enumerate(vocab)}\n",
    "        self.smiles_col = smiles_col\n",
    "        self.props_scaled = props_scaled\n",
    "        self.padding_idx = padding_idx\n",
    "\n",
    "    def __len__(self):\n",
    "        return len(self.df)\n",
    "\n",
    "    def __getitem__(self, idx):\n",
    "        smi = self.df.iloc[idx][self.smiles_col]\n",
    "        prop = self.props_scaled[idx]\n",
    "        tokens = self.tokenizer.tokenize(smi)\n",
    "        indices = [self.token_to_index[t] for t in tokens]\n",
    "        return indices, len(indices), float(prop)\n",
    "\n",
    "def predictor_collate_fn(batch):\n",
    "    seqs, lengths, props = zip(*batch)\n",
    "    tensors = [torch.tensor(s, dtype=torch.long) for s in seqs]\n",
    "    padded = pad_sequence(tensors, batch_first=True, padding_value=81)\n",
    "    lengths = torch.tensor(lengths, dtype=torch.long)\n",
    "    props = torch.tensor(props, dtype=torch.float32).unsqueeze(1)\n",
    "    return padded, lengths, props"
   ]
  },
  {
   "cell_type": "code",
   "execution_count": 15,
   "id": "aef1af1a",
   "metadata": {},
   "outputs": [],
   "source": [
    "ds  = PredictorDataset(df, TOKENIZER, vocab, props_scaled)\n",
    "dataloader = DataLoader(ds, batch_size=32, shuffle=True, collate_fn=predictor_collate_fn)"
   ]
  },
  {
   "cell_type": "code",
   "execution_count": 16,
   "id": "60eb560c",
   "metadata": {},
   "outputs": [
    {
     "name": "stderr",
     "output_type": "stream",
     "text": [
      "/tmp/ipykernel_6110/3630557835.py:21: DeprecationWarning: Conversion of an array with ndim > 0 to a scalar is deprecated, and will error in future. Ensure you extract a single element from your array before performing this operation. (Deprecated NumPy 1.25.)\n",
      "  return indices, len(indices), float(prop)\n"
     ]
    },
    {
     "data": {
      "text/plain": [
       "(tensor([[13, 13,  5, 11, 13,  1, 19,  2, 13, 11, 13, 18, 11, 13,  5, 18, 81, 81],\n",
       "         [13,  0, 13, 13,  5,  6, 19, 13,  7, 13, 11, 13, 13,  5, 13,  6,  7, 81],\n",
       "         [13, 13,  5,  6, 13, 13,  5,  1, 13, 19,  2, 13, 19,  6, 81, 81, 81, 81],\n",
       "         [19, 13,  5,  1, 13, 13, 19, 13, 13,  5,  2, 13,  0, 18, 81, 81, 81, 81],\n",
       "         [13, 19, 13,  5,  6, 13, 19, 13,  5, 13,  6, 19, 81, 81, 81, 81, 81, 81],\n",
       "         [18,  0, 13, 13,  5, 13, 13,  1, 19,  5,  2, 13,  5, 13, 13,  5, 81, 81],\n",
       "         [18, 13,  1, 11, 19,  2, 13,  5,  1, 13, 13,  0, 13,  2, 13, 13,  5, 81],\n",
       "         [13, 13,  5, 13, 11, 13, 18, 13,  1, 11, 19,  2, 13,  5, 19, 81, 81, 81],\n",
       "         [13, 13, 13,  5, 11, 13,  1, 13, 11, 19,  2, 13, 11, 18, 19,  5, 81, 81],\n",
       "         [13, 13,  5, 13,  6, 13, 13,  5, 13,  1, 13,  2, 13, 11, 13,  6, 81, 81],\n",
       "         [18, 13,  5, 11, 13, 13,  1, 15,  2, 11, 13, 18, 13,  5, 11, 19, 81, 81],\n",
       "         [13, 13,  5, 11, 18, 13,  6, 11, 13, 19, 13, 11, 13,  6, 19,  5, 81, 81],\n",
       "         [19, 13, 13, 13, 13,  1, 13, 19,  2, 13, 11, 19, 81, 81, 81, 81, 81, 81],\n",
       "         [19, 18, 11, 13,  1, 13, 13, 11, 19,  2, 13,  5, 13, 13,  5, 81, 81, 81],\n",
       "         [13, 13,  1, 13,  2,  1, 19,  2, 13,  0, 13, 13, 13, 11, 19, 81, 81, 81],\n",
       "         [13, 13,  5,  1, 13,  2, 13,  6, 19, 13,  7, 13,  6, 13,  5,  7, 19, 81],\n",
       "         [18, 13,  5, 11, 18, 13,  1, 13, 19,  2, 11, 13, 13, 11, 18,  5, 81, 81],\n",
       "         [13, 13,  5,  6, 13, 18,  7, 13,  5, 13, 13, 13,  6,  7, 81, 81, 81, 81],\n",
       "         [19, 11, 13,  5, 13, 13, 13, 11, 13, 13,  5,  5, 13, 13,  5, 81, 81, 81],\n",
       "         [13, 13,  1, 13,  2,  1, 19,  2, 13,  5, 11, 18, 19, 18, 11, 18,  5, 81],\n",
       "         [13, 13,  5,  6, 19, 13,  5, 13,  1, 13, 19,  2, 13, 11, 13,  6, 81, 81],\n",
       "         [13, 13,  5,  1, 13, 19,  5,  2, 13,  5, 13, 13, 19,  5, 81, 81, 81, 81],\n",
       "         [19, 13,  5,  6, 13,  7, 13,  5, 18,  5, 13,  7, 13,  6, 13,  5, 11, 19],\n",
       "         [18, 13,  1, 11, 19,  2, 13, 18,  5, 13, 13, 11, 13, 13,  5, 81, 81, 81],\n",
       "         [13, 13,  0, 13, 13, 13,  5, 13, 13, 13, 13,  5, 81, 81, 81, 81, 81, 81],\n",
       "         [13,  5, 13, 13,  5,  5, 13, 13,  6, 13, 13,  6, 13,  5, 81, 81, 81, 81],\n",
       "         [13, 13, 19, 13, 13,  1, 11, 19,  2, 13,  1, 18,  2, 11, 19, 81, 81, 81],\n",
       "         [13, 13,  5, 13, 13,  6, 19, 13,  5, 13,  6,  5, 13, 19,  5, 81, 81, 81],\n",
       "         [18, 13,  5, 11, 13,  1, 18,  2, 13,  1, 11, 18,  2, 13, 11, 18, 18,  5],\n",
       "         [18, 11, 13,  5, 19, 13, 13, 11, 13, 13, 13,  5, 11, 19, 81, 81, 81, 81],\n",
       "         [18, 13,  5,  1, 13, 13, 13, 13,  5, 19,  2, 13,  0, 18, 81, 81, 81, 81],\n",
       "         [13,  0, 13, 13,  5, 19, 13,  5,  5, 13, 13,  6, 19, 13,  5,  6, 81, 81]]),\n",
       " tensor([16, 17, 14, 14, 12, 16, 17, 15, 16, 16, 16, 16, 12, 15, 15, 17, 16, 14,\n",
       "         15, 17, 16, 14, 18, 15, 12, 14, 15, 15, 18, 14, 14, 16]),\n",
       " tensor([[-0.0041],\n",
       "         [-0.0030],\n",
       "         [-0.0035],\n",
       "         [-0.0041],\n",
       "         [-0.0036],\n",
       "         [-0.0024],\n",
       "         [-0.0041],\n",
       "         [-0.0043],\n",
       "         [-0.0041],\n",
       "         [-0.0041],\n",
       "         [-0.0037],\n",
       "         [-0.0024],\n",
       "         [-0.0037],\n",
       "         [-0.0043],\n",
       "         [-0.0034],\n",
       "         [-0.0042],\n",
       "         [-0.0033],\n",
       "         [-0.0037],\n",
       "         [-0.0040],\n",
       "         [-0.0036],\n",
       "         [-0.0031],\n",
       "         [-0.0033],\n",
       "         [-0.0037],\n",
       "         [-0.0031],\n",
       "         [-0.0031],\n",
       "         [-0.0031],\n",
       "         [-0.0029],\n",
       "         [-0.0040],\n",
       "         [-0.0041],\n",
       "         [-0.0041],\n",
       "         [-0.0043],\n",
       "         [-0.0033]]))"
      ]
     },
     "execution_count": 16,
     "metadata": {},
     "output_type": "execute_result"
    }
   ],
   "source": [
    "next(iter(dataloader))"
   ]
  },
  {
   "cell_type": "code",
   "execution_count": null,
   "id": "6ce3db81",
   "metadata": {},
   "outputs": [
    {
     "name": "stdout",
     "output_type": "stream",
     "text": [
      "93719 20083 20083\n",
      "torch.Size([32, 18]) torch.Size([32]) torch.Size([32, 1])\n"
     ]
    },
    {
     "name": "stderr",
     "output_type": "stream",
     "text": [
      "/tmp/ipykernel_6110/3630557835.py:21: DeprecationWarning: Conversion of an array with ndim > 0 to a scalar is deprecated, and will error in future. Ensure you extract a single element from your array before performing this operation. (Deprecated NumPy 1.25.)\n",
      "  return indices, len(indices), float(prop)\n"
     ]
    }
   ],
   "source": [
    "from sklearn.preprocessing import StandardScaler\n",
    "from sklearn.model_selection import train_test_split\n",
    "\n",
    "df_train, df_temp = train_test_split(df, test_size=0.3, random_state=42)\n",
    "df_val,   df_test = train_test_split(df_temp, test_size=0.5, random_state=42)\n",
    "\n",
    "scaler = StandardScaler()\n",
    "y_train = df_train['Property_0'].values.reshape(-1,1)\n",
    "y_train_s = scaler.fit_transform(y_train)\n",
    "\n",
    "y_val_s   = scaler.transform(df_val['Property_0'].values.reshape(-1,1))\n",
    "y_test_s  = scaler.transform(df_test['Property_0'].values.reshape(-1,1))\n",
    "\n",
    "train_ds = PredictorDataset(df_train, TOKENIZER, vocab, y_train_s)\n",
    "val_ds   = PredictorDataset(df_val,   TOKENIZER, vocab, y_val_s)\n",
    "test_ds  = PredictorDataset(df_test,  TOKENIZER, vocab, y_test_s)\n",
    "\n",
    "train_loader = DataLoader(\n",
    "    train_ds, batch_size=32, shuffle=True,  collate_fn=predictor_collate_fn\n",
    ")\n",
    "val_loader = DataLoader(\n",
    "    val_ds,   batch_size=32, shuffle=False, collate_fn=predictor_collate_fn\n",
    ")\n",
    "test_loader = DataLoader(\n",
    "    test_ds,  batch_size=32, shuffle=False, collate_fn=predictor_collate_fn\n",
    ")\n",
    "\n",
    "print(len(train_ds), len(val_ds), len(test_ds))\n",
    "batch = next(iter(train_loader))\n",
    "print(batch[0].shape, batch[1].shape, batch[2].shape)"
   ]
  },
  {
   "cell_type": "code",
   "execution_count": 18,
   "id": "dce607d7",
   "metadata": {},
   "outputs": [
    {
     "data": {
      "text/plain": [
       "(tensor([[19, 11, 13, 18,  5, 13, 13,  5, 13,  0, 13, 13,  0, 18, 81, 81, 81, 81],\n",
       "         [18, 13,  5, 11, 13, 19, 13,  6, 11, 13,  5, 18, 11, 13, 19,  6, 81, 81],\n",
       "         [13, 13,  5, 13,  6, 13, 13, 13,  5, 13, 11, 13, 13,  6, 81, 81, 81, 81],\n",
       "         [13, 18,  5, 13, 13,  6,  7, 19, 13,  8, 13,  6, 13, 13,  5,  7,  8, 81],\n",
       "         [15, 13,  5, 11, 18, 13,  1, 11, 18,  2, 13,  1, 15,  2, 11, 13, 19,  5],\n",
       "         [13, 13,  5,  6, 13,  7, 13, 13,  5, 13,  1, 11, 19,  2, 13,  6,  7, 19],\n",
       "         [13,  5, 13,  6, 13, 13,  5,  5, 13,  7, 19, 13,  7, 13, 18,  6,  5, 81],\n",
       "         [13, 13,  5,  6, 13, 13,  1, 19,  2, 13,  5, 18,  5, 13, 13,  6,  5, 81],\n",
       "         [19, 13, 13, 13,  5,  6, 13, 18,  5, 13, 13,  6, 19, 81, 81, 81, 81, 81],\n",
       "         [13, 18, 13,  5, 11, 18, 13, 13,  1, 11, 19,  2, 19, 13,  5, 81, 81, 81],\n",
       "         [13, 18, 13,  5, 11, 13, 18, 13, 11, 18,  5, 81, 81, 81, 81, 81, 81, 81],\n",
       "         [18,  0, 13, 13,  0, 13, 13,  5, 19, 13,  6, 13, 13,  5,  6, 81, 81, 81],\n",
       "         [19, 13, 13, 19, 13, 13, 19, 13, 11, 18, 81, 81, 81, 81, 81, 81, 81, 81],\n",
       "         [19, 11, 13,  5, 13, 18, 13, 13, 19, 13, 19,  5, 81, 81, 81, 81, 81, 81],\n",
       "         [13, 13, 13,  5,  6, 13, 13,  5, 19, 13,  6, 81, 81, 81, 81, 81, 81, 81],\n",
       "         [13, 18, 11, 13,  1, 18,  2, 18,  5, 13, 13, 13,  5, 11, 19, 81, 81, 81],\n",
       "         [19, 11, 13,  5, 19, 13, 13,  5, 19, 13, 13,  0, 18, 81, 81, 81, 81, 81],\n",
       "         [13, 13,  5, 13,  6,  1, 13,  2, 19, 13,  6, 13,  5,  5, 13, 19,  5, 81],\n",
       "         [13, 13,  1, 19,  2, 13,  1, 19,  2,  1, 13, 19,  2, 13, 19, 81, 81, 81],\n",
       "         [13, 19, 13,  1, 11, 19,  2, 13,  1, 13,  2,  1, 13,  2, 13, 19, 81, 81],\n",
       "         [13, 13,  5, 13, 13,  5,  5, 13, 13, 13,  1, 11, 18,  2, 19,  5, 81, 81],\n",
       "         [19, 13, 13,  5,  1, 19,  2, 13, 18, 13,  1, 11, 19,  2, 13,  5, 81, 81],\n",
       "         [13, 13,  0, 13, 13,  1, 13,  0, 18,  2, 13,  1, 13,  2, 19, 81, 81, 81],\n",
       "         [19, 11, 13, 13,  5,  1, 13, 13,  0, 13,  2, 13, 13, 19,  5, 81, 81, 81],\n",
       "         [13, 13,  1, 11, 19,  2, 13,  5, 13, 13,  6, 18, 13,  6, 13,  5, 81, 81],\n",
       "         [13, 13,  5, 13, 13,  5,  1, 13, 11, 19,  2, 13,  5, 13, 18,  5, 81, 81],\n",
       "         [13, 13,  1, 13,  2, 13,  5,  1, 13, 19,  5,  2, 13,  0, 13, 81, 81, 81],\n",
       "         [13,  5, 13,  6, 13, 13, 13, 13, 19, 13, 13,  5,  6, 81, 81, 81, 81, 81],\n",
       "         [19, 13, 13,  5, 11, 18, 13, 11, 18, 18, 13,  5, 11, 18, 81, 81, 81, 81],\n",
       "         [19, 11, 13,  5, 13, 13,  6, 19, 13, 13,  5,  6, 13,  0, 18, 81, 81, 81],\n",
       "         [13, 19, 13, 13,  5, 11, 18, 18, 18, 11, 13,  5, 81, 81, 81, 81, 81, 81],\n",
       "         [13, 13,  5, 13,  6, 18,  1, 13,  2, 13,  5,  1, 13,  2, 13,  6, 11, 19]]),\n",
       " tensor([14, 16, 14, 17, 18, 18, 17, 17, 13, 15, 11, 15, 10, 12, 11, 15, 13, 17,\n",
       "         15, 16, 16, 16, 15, 15, 16, 16, 15, 13, 14, 15, 12, 18]),\n",
       " tensor([[-0.0042],\n",
       "         [-0.0042],\n",
       "         [-0.0047],\n",
       "         [-0.0043],\n",
       "         [-0.0043],\n",
       "         [-0.0048],\n",
       "         [-0.0042],\n",
       "         [-0.0047],\n",
       "         [-0.0044],\n",
       "         [-0.0038],\n",
       "         [-0.0023],\n",
       "         [-0.0033],\n",
       "         [-0.0047],\n",
       "         [-0.0047],\n",
       "         [-0.0032],\n",
       "         [-0.0043],\n",
       "         [-0.0039],\n",
       "         [-0.0045],\n",
       "         [-0.0049],\n",
       "         [-0.0044],\n",
       "         [-0.0041],\n",
       "         [-0.0043],\n",
       "         [-0.0048],\n",
       "         [-0.0047],\n",
       "         [-0.0045],\n",
       "         [-0.0046],\n",
       "         [-0.0045],\n",
       "         [-0.0047],\n",
       "         [-0.0045],\n",
       "         [-0.0048],\n",
       "         [-0.0024],\n",
       "         [-0.0048]]))"
      ]
     },
     "execution_count": 18,
     "metadata": {},
     "output_type": "execute_result"
    }
   ],
   "source": [
    "batch"
   ]
  },
  {
   "cell_type": "markdown",
   "id": "f5bc4c11",
   "metadata": {},
   "source": [
    "# Definição do treino da rede"
   ]
  },
  {
   "cell_type": "code",
   "execution_count": 19,
   "id": "ee103f2f",
   "metadata": {},
   "outputs": [],
   "source": [
    "def train_model(model, optimizer, criterion, train_loader, val_loader, num_epochs=100, device='cpu'):\n",
    "    model.train()\n",
    "    best_val = float('inf')\n",
    "    train_losses, val_losses = [], []\n",
    "\n",
    "    for epoch in range(num_epochs):\n",
    "        run_loss = 0.0\n",
    "        for batch_idx, (inputs, lengths, targets) in enumerate(train_loader):\n",
    "            inputs, lengths, targets = inputs.to(device), lengths.to(device), targets.to(device)\n",
    "            optimizer.zero_grad()\n",
    "            outputs = model(inputs, lengths)\n",
    "            loss = criterion(outputs, targets)\n",
    "            loss.backward()\n",
    "            # 2) clip gradients\n",
    "            torch.nn.utils.clip_grad_norm_(model.parameters(), max_norm=1.0)\n",
    "            optimizer.step()\n",
    "\n",
    "            run_loss += loss.item() * inputs.size(0)\n",
    "\n",
    "            # debug: veja escala no primeiro batch do 1º epoch\n",
    "            if epoch == 0 and batch_idx == 0:\n",
    "                print(\">> sample outputs:\", outputs[:5].detach().cpu().numpy().flatten())\n",
    "                print(\">> sample targets:\", targets[:5].detach().cpu().numpy().flatten())\n",
    "\n",
    "        epoch_loss = run_loss / len(train_loader.dataset)\n",
    "        train_losses.append(epoch_loss)\n",
    "\n",
    "        # validação (igual ao seu código)\n",
    "        if val_loader is not None:\n",
    "            model.eval()\n",
    "            vloss = 0.0\n",
    "            with torch.no_grad():\n",
    "                for i,l,t in val_loader:\n",
    "                    i,l,t = i.to(device), l.to(device), t.to(device)\n",
    "                    vloss += criterion(model(i,l), t).item() * i.size(0)\n",
    "            epoch_val = vloss / len(val_loader.dataset)\n",
    "            val_losses.append(epoch_val)\n",
    "            model.train()\n",
    "            if epoch_val < best_val:\n",
    "                best_val = epoch_val\n",
    "                torch.save(model.state_dict(), \"best_mlp_predictor.pth\")\n",
    "        else:\n",
    "            epoch_val = None\n",
    "\n",
    "        print(f\"Epoch {epoch+1}/{num_epochs} — Train: {epoch_loss:.6e}\", end='')\n",
    "        if epoch_val is not None:\n",
    "            print(f\", Val: {epoch_val:.6e}\")\n",
    "        else:\n",
    "            print()\n",
    "\n",
    "    return train_losses, val_losses"
   ]
  },
  {
   "cell_type": "markdown",
   "id": "6dd57200",
   "metadata": {},
   "source": [
    "# Definição da função de loss, otimizador e treinamento da rede"
   ]
  },
  {
   "cell_type": "code",
   "execution_count": 20,
   "id": "013d4c3b",
   "metadata": {},
   "outputs": [],
   "source": [
    "class CLRFeatureExtractor(nn.Module):\n",
    "    def __init__(self, clr_model):\n",
    "        super().__init__()\n",
    "        self.emb            = clr_model.emb\n",
    "        self.encoder        = clr_model.SMILESEnc1\n",
    "        self.projection     = clr_model.projection_head\n",
    "\n",
    "    def forward(self, x, lengths):\n",
    "        x_emb = self.emb(x)\n",
    "        h_lstm = self.encoder(x_emb, lengths)\n",
    "        return self.projection(h_lstm)"
   ]
  },
  {
   "cell_type": "code",
   "execution_count": 21,
   "id": "5ffc6385",
   "metadata": {},
   "outputs": [],
   "source": [
    "feat_extractor = CLRFeatureExtractor(clr_model).to(device)\n",
    "for p in feat_extractor.parameters():\n",
    "    p.requires_grad = True\n",
    "\n",
    "model = MLP(\n",
    "  clr_model=clr_model,\n",
    "  smiles_encoder=feat_extractor,\n",
    "  input_dim=6*clr_model.dim,\n",
    "  layers=[2048,1024,512,256,128,64,32]\n",
    ").to(device)\n",
    "\n",
    "optimizer = torch.optim.Adam(model.parameters(), lr=1e-3)\n",
    "criterion = nn.MSELoss()"
   ]
  },
  {
   "cell_type": "code",
   "execution_count": 22,
   "id": "f01d3c57",
   "metadata": {},
   "outputs": [
    {
     "data": {
      "text/plain": [
       "MLP(\n",
       "  (smiles_encoder): CLRFeatureExtractor(\n",
       "    (emb): Embedding(82, 64, padding_idx=81)\n",
       "    (encoder): SMILESEncoder(\n",
       "      (encoder): LSTM(64, 256, batch_first=True)\n",
       "    )\n",
       "    (projection): Sequential(\n",
       "      (0): Linear(in_features=256, out_features=512, bias=True)\n",
       "      (1): BatchNorm1d(512, eps=1e-05, momentum=0.1, affine=True, track_running_stats=True)\n",
       "      (2): ReLU(inplace=True)\n",
       "      (3): Linear(in_features=512, out_features=768, bias=False)\n",
       "    )\n",
       "  )\n",
       "  (layers): Sequential(\n",
       "    (0): Linear(in_features=768, out_features=2048, bias=True)\n",
       "    (1): ReLU()\n",
       "    (2): Linear(in_features=2048, out_features=1024, bias=True)\n",
       "    (3): ReLU()\n",
       "    (4): Linear(in_features=1024, out_features=512, bias=True)\n",
       "    (5): ReLU()\n",
       "    (6): Linear(in_features=512, out_features=256, bias=True)\n",
       "    (7): ReLU()\n",
       "    (8): Linear(in_features=256, out_features=128, bias=True)\n",
       "    (9): ReLU()\n",
       "    (10): Linear(in_features=128, out_features=64, bias=True)\n",
       "    (11): ReLU()\n",
       "    (12): Linear(in_features=64, out_features=32, bias=True)\n",
       "    (13): ReLU()\n",
       "    (14): Linear(in_features=32, out_features=1, bias=True)\n",
       "  )\n",
       ")"
      ]
     },
     "execution_count": 22,
     "metadata": {},
     "output_type": "execute_result"
    }
   ],
   "source": [
    "model"
   ]
  },
  {
   "cell_type": "code",
   "execution_count": 23,
   "id": "88a071c5",
   "metadata": {},
   "outputs": [
    {
     "name": "stderr",
     "output_type": "stream",
     "text": [
      "/tmp/ipykernel_6110/3630557835.py:21: DeprecationWarning: Conversion of an array with ndim > 0 to a scalar is deprecated, and will error in future. Ensure you extract a single element from your array before performing this operation. (Deprecated NumPy 1.25.)\n",
      "  return indices, len(indices), float(prop)\n"
     ]
    },
    {
     "name": "stdout",
     "output_type": "stream",
     "text": [
      ">> sample outputs: [0.09862741 0.09896363 0.09881579 0.09861855 0.09798265]\n",
      ">> sample targets: [-0.00472599 -0.00426632 -0.00439068 -0.00452413 -0.00501469]\n",
      "Epoch 1/100 — Train: 1.000040e+00, Val: 1.791624e-06\n",
      "Epoch 2/100 — Train: 1.000008e+00, Val: 1.890147e-06\n",
      "Epoch 3/100 — Train: 1.000034e+00, Val: 2.625425e-05\n",
      "Epoch 4/100 — Train: 1.000013e+00, Val: 1.419052e-06\n",
      "Epoch 5/100 — Train: 1.000023e+00, Val: 2.000237e-06\n",
      "Epoch 6/100 — Train: 9.999941e-01, Val: 1.990837e-06\n",
      "Epoch 7/100 — Train: 9.999776e-01, Val: 1.796530e-06\n",
      "Epoch 8/100 — Train: 1.000010e+00, Val: 1.888490e-06\n",
      "Epoch 9/100 — Train: 1.000025e+00, Val: 2.011977e-06\n",
      "Epoch 10/100 — Train: 1.000028e+00, Val: 1.888466e-06\n",
      "Epoch 11/100 — Train: 1.000033e+00, Val: 1.890170e-06\n",
      "Epoch 12/100 — Train: 1.000027e+00, Val: 1.889398e-06\n",
      "Epoch 13/100 — Train: 1.000025e+00, Val: 1.898944e-06\n",
      "Epoch 14/100 — Train: 1.000025e+00, Val: 1.888641e-06\n",
      "Epoch 15/100 — Train: 1.000027e+00, Val: 1.924877e-06\n",
      "Epoch 16/100 — Train: 1.000025e+00, Val: 1.888899e-06\n",
      "Epoch 17/100 — Train: 1.000025e+00, Val: 1.893372e-06\n",
      "Epoch 18/100 — Train: 1.000024e+00, Val: 1.888568e-06\n",
      "Epoch 19/100 — Train: 1.000024e+00, Val: 1.889628e-06\n",
      "Epoch 20/100 — Train: 1.000024e+00, Val: 1.889411e-06\n",
      "Epoch 21/100 — Train: 1.000023e+00, Val: 1.888637e-06\n",
      "Epoch 22/100 — Train: 1.000022e+00, Val: 1.888562e-06\n",
      "Epoch 23/100 — Train: 1.000022e+00, Val: 1.892111e-06\n",
      "Epoch 24/100 — Train: 1.000023e+00, Val: 1.888409e-06\n",
      "Epoch 25/100 — Train: 1.000022e+00, Val: 2.539374e-04\n",
      "Epoch 26/100 — Train: 1.000023e+00, Val: 1.888498e-06\n",
      "Epoch 27/100 — Train: 1.000022e+00, Val: 1.888466e-06\n",
      "Epoch 28/100 — Train: 1.000022e+00, Val: 1.890183e-06\n",
      "Epoch 29/100 — Train: 1.000022e+00, Val: 1.889108e-06\n",
      "Epoch 30/100 — Train: 1.000022e+00, Val: 1.892403e-06\n",
      "Epoch 31/100 — Train: 1.000023e+00, Val: 1.888408e-06\n",
      "Epoch 32/100 — Train: 1.000023e+00, Val: 1.888414e-06\n",
      "Epoch 33/100 — Train: 1.000022e+00, Val: 1.891020e-06\n",
      "Epoch 34/100 — Train: 1.000022e+00, Val: 1.889380e-06\n",
      "Epoch 35/100 — Train: 1.000022e+00, Val: 1.889160e-06\n",
      "Epoch 36/100 — Train: 1.000023e+00, Val: 1.888779e-06\n",
      "Epoch 37/100 — Train: 1.000022e+00, Val: 1.888435e-06\n",
      "Epoch 38/100 — Train: 1.000023e+00, Val: 1.888448e-06\n",
      "Epoch 39/100 — Train: 1.000023e+00, Val: 1.888447e-06\n",
      "Epoch 40/100 — Train: 1.000022e+00, Val: 1.888460e-06\n",
      "Epoch 41/100 — Train: 1.000023e+00, Val: 1.888965e-06\n",
      "Epoch 42/100 — Train: 1.000022e+00, Val: 1.889150e-06\n",
      "Epoch 43/100 — Train: 1.000022e+00, Val: 1.888431e-06\n",
      "Epoch 44/100 — Train: 1.000022e+00, Val: 1.889130e-06\n",
      "Epoch 45/100 — Train: 1.000023e+00, Val: 2.230767e-06\n",
      "Epoch 46/100 — Train: 1.000022e+00, Val: 2.063588e-06\n",
      "Epoch 47/100 — Train: 1.000022e+00, Val: 1.888906e-06\n",
      "Epoch 48/100 — Train: 1.000023e+00, Val: 1.889371e-06\n",
      "Epoch 49/100 — Train: 1.000022e+00, Val: 1.888571e-06\n",
      "Epoch 50/100 — Train: 1.000022e+00, Val: 1.889938e-06\n",
      "Epoch 51/100 — Train: 1.000021e+00, Val: 1.888409e-06\n",
      "Epoch 52/100 — Train: 1.000021e+00, Val: 1.888575e-06\n",
      "Epoch 53/100 — Train: 9.999163e-01, Val: 1.888889e-06\n",
      "Epoch 54/100 — Train: 1.000023e+00, Val: 1.892806e-06\n",
      "Epoch 55/100 — Train: 1.000023e+00, Val: 1.888590e-06\n",
      "Epoch 56/100 — Train: 1.000022e+00, Val: 1.888414e-06\n",
      "Epoch 57/100 — Train: 1.000023e+00, Val: 1.889119e-06\n",
      "Epoch 58/100 — Train: 1.000022e+00, Val: 1.890121e-06\n",
      "Epoch 59/100 — Train: 1.000022e+00, Val: 1.888430e-06\n",
      "Epoch 60/100 — Train: 1.000023e+00, Val: 1.888765e-06\n",
      "Epoch 61/100 — Train: 1.000023e+00, Val: 1.889664e-06\n",
      "Epoch 62/100 — Train: 1.000023e+00, Val: 1.888411e-06\n",
      "Epoch 63/100 — Train: 1.000022e+00, Val: 1.889023e-06\n",
      "Epoch 64/100 — Train: 1.000022e+00, Val: 1.888929e-06\n",
      "Epoch 65/100 — Train: 1.000023e+00, Val: 1.888405e-06\n",
      "Epoch 66/100 — Train: 1.000024e+00, Val: 1.929189e-06\n",
      "Epoch 67/100 — Train: 1.000022e+00, Val: 1.888677e-06\n",
      "Epoch 68/100 — Train: 1.000022e+00, Val: 1.889722e-06\n",
      "Epoch 69/100 — Train: 1.000016e+00, Val: 1.889909e-06\n",
      "Epoch 70/100 — Train: 1.000023e+00, Val: 1.888431e-06\n",
      "Epoch 71/100 — Train: 1.000023e+00, Val: 1.888474e-06\n",
      "Epoch 72/100 — Train: 1.000022e+00, Val: 1.890387e-06\n",
      "Epoch 73/100 — Train: 1.000022e+00, Val: 1.888764e-06\n",
      "Epoch 74/100 — Train: 1.000022e+00, Val: 1.888496e-06\n",
      "Epoch 75/100 — Train: 1.000023e+00, Val: 8.694743e-05\n",
      "Epoch 76/100 — Train: 1.000022e+00, Val: 1.890913e-06\n",
      "Epoch 77/100 — Train: 1.000023e+00, Val: 1.888402e-06\n",
      "Epoch 78/100 — Train: 1.000022e+00, Val: 1.888491e-06\n",
      "Epoch 79/100 — Train: 1.000022e+00, Val: 1.888510e-06\n",
      "Epoch 80/100 — Train: 1.000023e+00, Val: 1.889052e-06\n",
      "Epoch 81/100 — Train: 1.000022e+00, Val: 1.888421e-06\n",
      "Epoch 82/100 — Train: 1.000022e+00, Val: 1.888608e-06\n",
      "Epoch 83/100 — Train: 1.000022e+00, Val: 1.888664e-06\n",
      "Epoch 84/100 — Train: 1.000022e+00, Val: 1.889298e-06\n",
      "Epoch 85/100 — Train: 1.000023e+00, Val: 1.890332e-06\n",
      "Epoch 86/100 — Train: 1.000022e+00, Val: 1.888496e-06\n",
      "Epoch 87/100 — Train: 1.000021e+00, Val: 1.889091e-06\n",
      "Epoch 88/100 — Train: 1.000023e+00, Val: 1.888415e-06\n",
      "Epoch 89/100 — Train: 1.000022e+00, Val: 1.888436e-06\n",
      "Epoch 90/100 — Train: 1.000022e+00, Val: 1.888772e-06\n",
      "Epoch 91/100 — Train: 1.000023e+00, Val: 1.888904e-06\n",
      "Epoch 92/100 — Train: 1.000022e+00, Val: 1.888829e-06\n",
      "Epoch 93/100 — Train: 9.999826e-01, Val: 1.889309e-06\n",
      "Epoch 94/100 — Train: 1.000022e+00, Val: 1.888403e-06\n",
      "Epoch 95/100 — Train: 1.000022e+00, Val: 1.888555e-06\n",
      "Epoch 96/100 — Train: 1.000023e+00, Val: 1.888866e-06\n",
      "Epoch 97/100 — Train: 1.000022e+00, Val: 1.888897e-06\n",
      "Epoch 98/100 — Train: 1.000023e+00, Val: 1.888419e-06\n",
      "Epoch 99/100 — Train: 1.000022e+00, Val: 1.892051e-06\n",
      "Epoch 100/100 — Train: 1.000023e+00, Val: 2.361102e-06\n"
     ]
    },
    {
     "data": {
      "image/png": "[encoded data removed]",
      "text/plain": [
       "<Figure size 640x480 with 1 Axes>"
      ]
     },
     "metadata": {},
     "output_type": "display_data"
    }
   ],
   "source": [
    "train_losses, val_losses = train_model(model=model, optimizer=optimizer, criterion=criterion, train_loader=train_loader, val_loader=val_loader, device=device)\n",
    "\n",
    "import matplotlib.pyplot as plt \n",
    "\n",
    "plt.plot(train_losses)\n",
    "plt.plot(val_losses)\n",
    "plt.show()"
   ]
  },
  {
   "cell_type": "code",
   "execution_count": 24,
   "id": "c24418b1",
   "metadata": {},
   "outputs": [],
   "source": [
    "# model.load_state_dict(torch.load(\"best_mlp_predictor.pth\"))"
   ]
  },
  {
   "cell_type": "code",
   "execution_count": 25,
   "id": "759230f0",
   "metadata": {},
   "outputs": [
    {
     "name": "stderr",
     "output_type": "stream",
     "text": [
      "/tmp/ipykernel_6110/3630557835.py:21: DeprecationWarning: Conversion of an array with ndim > 0 to a scalar is deprecated, and will error in future. Ensure you extract a single element from your array before performing this operation. (Deprecated NumPy 1.25.)\n",
      "  return indices, len(indices), float(prop)\n"
     ]
    },
    {
     "name": "stdout",
     "output_type": "stream",
     "text": [
      "Test R²: -0.3387\n"
     ]
    }
   ],
   "source": [
    "from sklearn.metrics import r2_score\n",
    "\n",
    "# Avaliação no conjunto de teste\n",
    "model.eval()\n",
    "all_preds, all_targets = [], []\n",
    "\n",
    "with torch.no_grad():\n",
    "    for inputs, lengths, targets in test_loader:\n",
    "        inputs  = inputs.to(device)\n",
    "        lengths = lengths.to(device)\n",
    "        preds   = model(inputs, lengths)\n",
    "        all_preds.append(preds.cpu().numpy())\n",
    "        all_targets.append(targets.cpu().numpy())\n",
    "\n",
    "all_preds   = np.vstack(all_preds)\n",
    "all_targets = np.vstack(all_targets)\n",
    "\n",
    "r2 = r2_score(all_targets, all_preds)\n",
    "print(f\"Test R²: {r2:.4f}\")"
   ]
  },
  {
   "cell_type": "code",
   "execution_count": 26,
   "id": "980cdb7a",
   "metadata": {},
   "outputs": [
    {
     "data": {
      "image/png": "[encoded data removed]",
      "text/plain": [
       "<Figure size 600x600 with 1 Axes>"
      ]
     },
     "metadata": {},
     "output_type": "display_data"
    }
   ],
   "source": [
    "import matplotlib.pyplot as plt\n",
    "\n",
    "all_targets_flat = all_targets.flatten()\n",
    "all_preds_flat   = all_preds.flatten()\n",
    "\n",
    "plt.figure(figsize=(6,6))\n",
    "plt.scatter(all_targets_flat, all_preds_flat, alpha=0.6, label='Predições')\n",
    "mn = min(all_targets_flat.min(), all_preds_flat.min())\n",
    "mx = max(all_targets_flat.max(), all_preds_flat.max())\n",
    "plt.plot([mn, mx], [mn, mx], 'r--', label='y = x')\n",
    "plt.xlabel('Valores Verdadeiros')\n",
    "plt.ylabel('Valores Preditos')\n",
    "plt.title(f'Predito vs Verdadeiro (R² = {r2:.3f})')\n",
    "plt.legend()\n",
    "plt.tight_layout()\n",
    "plt.show()"
   ]
  }
 ],
 "metadata": {
  "kernelspec": {
   "display_name": "venv",
   "language": "python",
   "name": "python3"
  },
  "language_info": {
   "codemirror_mode": {
    "name": "ipython",
    "version": 3
   },
   "file_extension": ".py",
   "mimetype": "text/x-python",
   "name": "python",
   "nbconvert_exporter": "python",
   "pygments_lexer": "ipython3",
   "version": "3.13.3"
  }
 },
 "nbformat": 4,
 "nbformat_minor": 5
}
